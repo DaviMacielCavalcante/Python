{
 "cells": [
  {
   "cell_type": "code",
   "execution_count": 1,
   "id": "f98f3d2e",
   "metadata": {},
   "outputs": [],
   "source": [
    "import numpy as np"
   ]
  },
  {
   "cell_type": "code",
   "execution_count": 2,
   "id": "3b24a95b",
   "metadata": {},
   "outputs": [],
   "source": [
    "class Fila:\n",
    "    def __init__(self, capacidade):\n",
    "        self.__capacidade = capacidade\n",
    "        self.__inicio = 0\n",
    "        self.__tamanho = 0\n",
    "        self.__valores = np.empty(self.__capacidade)\n",
    "        \n",
    "    def __iter__(self):\n",
    "        self.__indice = 0\n",
    "        return self\n",
    "    \n",
    "    def __next__(self):\n",
    "        if self.__indice < self.__tamanho:\n",
    "            valor = self.__valores[self.__indice]\n",
    "            self.__indice += 1\n",
    "            return valor\n",
    "        else:\n",
    "            raise StopIteration\n",
    "    \n",
    "    def isFull(self):\n",
    "        return self.__tamanho == self.__capacidade\n",
    "    \n",
    "    def isEmpty(self):\n",
    "        return self.__inicio >= self.__capacidade\n",
    "    \n",
    "    def enqueue(self, valor):\n",
    "        if self.isFull():\n",
    "            print('Full Queue!')\n",
    "            return\n",
    "        if self.__tamanho < self.__capacidade:\n",
    "            self.__valores[self.__tamanho] = valor\n",
    "            self.__tamanho += 1\n",
    "    \n",
    "    def dequeue(self):\n",
    "        if self.isEmpty():\n",
    "            print('Empty Queue!')\n",
    "            return\n",
    "        else:\n",
    "            valor_excluido = self.__valores[self.__inicio]\n",
    "            self.__valores[self.__inicio] = None  \n",
    "            self.__inicio += 1\n",
    "            return print(valor_excluido)\n",
    "        \n",
    "    def viewQueue(self):\n",
    "        return self.__valores"
   ]
  },
  {
   "cell_type": "code",
   "execution_count": 3,
   "id": "92d4299c",
   "metadata": {},
   "outputs": [],
   "source": [
    "fila = Fila(5)"
   ]
  },
  {
   "cell_type": "code",
   "execution_count": 4,
   "id": "0e551095",
   "metadata": {},
   "outputs": [
    {
     "name": "stdout",
     "output_type": "stream",
     "text": [
      "[6.23042070e-307 4.67296746e-307 1.69121096e-306 1.05887590e-311\n",
      " 1.05910131e-311]\n"
     ]
    }
   ],
   "source": [
    "print(fila.viewQueue())"
   ]
  },
  {
   "cell_type": "code",
   "execution_count": 5,
   "id": "166576fb",
   "metadata": {},
   "outputs": [
    {
     "data": {
      "text/plain": [
       "False"
      ]
     },
     "execution_count": 5,
     "metadata": {},
     "output_type": "execute_result"
    }
   ],
   "source": [
    "fila.isEmpty()"
   ]
  },
  {
   "cell_type": "code",
   "execution_count": 6,
   "id": "cf272381",
   "metadata": {},
   "outputs": [
    {
     "data": {
      "text/plain": [
       "False"
      ]
     },
     "execution_count": 6,
     "metadata": {},
     "output_type": "execute_result"
    }
   ],
   "source": [
    "fila.isFull()"
   ]
  },
  {
   "cell_type": "code",
   "execution_count": 7,
   "id": "d955a4fd",
   "metadata": {},
   "outputs": [],
   "source": [
    "fila.enqueue(5)"
   ]
  },
  {
   "cell_type": "code",
   "execution_count": 8,
   "id": "fdfa0763",
   "metadata": {},
   "outputs": [
    {
     "name": "stdout",
     "output_type": "stream",
     "text": [
      "[5.00000000e+000 4.67296746e-307 1.69121096e-306 1.05887590e-311\n",
      " 1.05910131e-311]\n"
     ]
    }
   ],
   "source": [
    "print(fila.viewQueue())"
   ]
  },
  {
   "cell_type": "code",
   "execution_count": 9,
   "id": "8c55dbc1",
   "metadata": {},
   "outputs": [
    {
     "name": "stdout",
     "output_type": "stream",
     "text": [
      "5.0\n"
     ]
    }
   ],
   "source": [
    "for i in fila:\n",
    "    print(i)"
   ]
  },
  {
   "cell_type": "code",
   "execution_count": 10,
   "id": "a80dc5de",
   "metadata": {},
   "outputs": [],
   "source": [
    "fila.enqueue(2)\n",
    "fila.enqueue(7)\n",
    "fila.enqueue(55)\n",
    "fila.enqueue(5565)"
   ]
  },
  {
   "cell_type": "code",
   "execution_count": 11,
   "id": "f383f2b4",
   "metadata": {},
   "outputs": [
    {
     "name": "stdout",
     "output_type": "stream",
     "text": [
      "[5.000e+00 2.000e+00 7.000e+00 5.500e+01 5.565e+03]\n"
     ]
    }
   ],
   "source": [
    "print(fila.viewQueue())"
   ]
  },
  {
   "cell_type": "code",
   "execution_count": 12,
   "id": "ca01fba4",
   "metadata": {},
   "outputs": [
    {
     "name": "stdout",
     "output_type": "stream",
     "text": [
      "5.0\n",
      "2.0\n",
      "7.0\n",
      "55.0\n",
      "5565.0\n"
     ]
    }
   ],
   "source": [
    "for i in fila:\n",
    "    print(i)"
   ]
  },
  {
   "cell_type": "code",
   "execution_count": 13,
   "id": "e7701292",
   "metadata": {},
   "outputs": [
    {
     "name": "stdout",
     "output_type": "stream",
     "text": [
      "5.0\n"
     ]
    }
   ],
   "source": [
    "fila.dequeue()"
   ]
  },
  {
   "cell_type": "code",
   "execution_count": 14,
   "id": "9206d4c5",
   "metadata": {},
   "outputs": [
    {
     "name": "stdout",
     "output_type": "stream",
     "text": [
      "[      nan 2.000e+00 7.000e+00 5.500e+01 5.565e+03]\n"
     ]
    }
   ],
   "source": [
    "print(fila.viewQueue())"
   ]
  },
  {
   "cell_type": "code",
   "execution_count": 15,
   "id": "79a161ed",
   "metadata": {},
   "outputs": [
    {
     "name": "stdout",
     "output_type": "stream",
     "text": [
      "2.0\n",
      "7.0\n",
      "55.0\n",
      "5565.0\n"
     ]
    }
   ],
   "source": [
    "fila.dequeue()\n",
    "fila.dequeue()\n",
    "fila.dequeue()\n",
    "fila.dequeue()"
   ]
  },
  {
   "cell_type": "code",
   "execution_count": 16,
   "id": "b49ba538",
   "metadata": {},
   "outputs": [
    {
     "name": "stdout",
     "output_type": "stream",
     "text": [
      "Empty Queue!\n"
     ]
    }
   ],
   "source": [
    "fila.dequeue()"
   ]
  },
  {
   "cell_type": "code",
   "execution_count": 17,
   "id": "825bf46d",
   "metadata": {},
   "outputs": [
    {
     "name": "stdout",
     "output_type": "stream",
     "text": [
      "[nan nan nan nan nan]\n"
     ]
    }
   ],
   "source": [
    "print(fila.viewQueue())"
   ]
  },
  {
   "cell_type": "code",
   "execution_count": 18,
   "id": "f518911d",
   "metadata": {},
   "outputs": [
    {
     "name": "stdout",
     "output_type": "stream",
     "text": [
      "Full Queue!\n"
     ]
    }
   ],
   "source": [
    "fila.enqueue(8)"
   ]
  }
 ],
 "metadata": {
  "kernelspec": {
   "display_name": "Python 3 (ipykernel)",
   "language": "python",
   "name": "python3"
  },
  "language_info": {
   "codemirror_mode": {
    "name": "ipython",
    "version": 3
   },
   "file_extension": ".py",
   "mimetype": "text/x-python",
   "name": "python",
   "nbconvert_exporter": "python",
   "pygments_lexer": "ipython3",
   "version": "3.8.16"
  }
 },
 "nbformat": 4,
 "nbformat_minor": 5
}
