{
 "cells": [
  {
   "cell_type": "code",
   "execution_count": 1,
   "id": "69aedea3",
   "metadata": {},
   "outputs": [],
   "source": [
    "import numpy as np"
   ]
  },
  {
   "cell_type": "code",
   "execution_count": 2,
   "id": "e5fbdd75",
   "metadata": {},
   "outputs": [],
   "source": [
    "class Pilha:\n",
    "    def __init__(self, capacidade):\n",
    "        self.__capacidade = capacidade\n",
    "        self.__tamanho = -1\n",
    "        self.__valores = np.empty(self.__capacidade)\n",
    "        \n",
    "    def __iter__(self):\n",
    "        self.__indice = 0\n",
    "        return self\n",
    "    \n",
    "    def __next__(self):\n",
    "        if self.__indice < self.__tamanho:\n",
    "            valor = self.__valores[self.__indice]\n",
    "            self.__indice += 1\n",
    "            return valor\n",
    "        else:\n",
    "            raise StopIteration\n",
    "    \n",
    "    def isFull(self):\n",
    "        return self.__tamanho == self.__capacidade - 1\n",
    "    \n",
    "    def isEmpty(self):\n",
    "        return self.__tamanho == -1\n",
    "    \n",
    "    def push(self, valor):\n",
    "        if self.isFull():\n",
    "            print('Stack is Full!')\n",
    "            return\n",
    "        else:\n",
    "            self.__valores[self.__tamanho + 1] = valor\n",
    "            self.__tamanho += 1\n",
    "    \n",
    "    def pop(self):\n",
    "        if self.isEmpty():\n",
    "            print('The stack is empty!')\n",
    "            return\n",
    "        else:\n",
    "            valor_excluido = self.__valores[self.__tamanho]\n",
    "            self.__valores[self.__tamanho] = None  \n",
    "            self.__tamanho -= 1\n",
    "            return print(valor_excluido)\n",
    "        \n",
    "    def viewStack(self):\n",
    "        return self.__valores"
   ]
  },
  {
   "cell_type": "code",
   "execution_count": 3,
   "id": "0e818eb9",
   "metadata": {},
   "outputs": [],
   "source": [
    "pilha = Pilha(5)"
   ]
  },
  {
   "cell_type": "code",
   "execution_count": 4,
   "id": "bfedb707",
   "metadata": {},
   "outputs": [
    {
     "name": "stdout",
     "output_type": "stream",
     "text": [
      "[2.12199579e-314 2.16847386e-028 6.28451502e-321 6.95165821e-310\n",
      " 0.00000000e+000]\n"
     ]
    }
   ],
   "source": [
    "print(pilha.viewStack())"
   ]
  },
  {
   "cell_type": "code",
   "execution_count": 5,
   "id": "4ac10b87",
   "metadata": {},
   "outputs": [],
   "source": [
    "pilha.push(1)\n",
    "pilha.push(2)\n",
    "pilha.push(3)\n",
    "pilha.push(4)\n",
    "pilha.push(5)"
   ]
  },
  {
   "cell_type": "code",
   "execution_count": 6,
   "id": "314d782f",
   "metadata": {},
   "outputs": [
    {
     "name": "stdout",
     "output_type": "stream",
     "text": [
      "[1. 2. 3. 4. 5.]\n"
     ]
    }
   ],
   "source": [
    "print(pilha.viewStack())"
   ]
  },
  {
   "cell_type": "code",
   "execution_count": 7,
   "id": "5e59e21c",
   "metadata": {},
   "outputs": [
    {
     "name": "stdout",
     "output_type": "stream",
     "text": [
      "Stack is Full!\n"
     ]
    }
   ],
   "source": [
    "pilha.push(10)"
   ]
  },
  {
   "cell_type": "code",
   "execution_count": 8,
   "id": "9980de13",
   "metadata": {},
   "outputs": [
    {
     "name": "stdout",
     "output_type": "stream",
     "text": [
      "5.0\n",
      "4.0\n",
      "3.0\n",
      "2.0\n",
      "1.0\n"
     ]
    }
   ],
   "source": [
    "pilha.pop()\n",
    "pilha.pop()\n",
    "pilha.pop()\n",
    "pilha.pop()\n",
    "pilha.pop()"
   ]
  },
  {
   "cell_type": "code",
   "execution_count": 10,
   "id": "cd8b3d19",
   "metadata": {},
   "outputs": [
    {
     "name": "stdout",
     "output_type": "stream",
     "text": [
      "The stack is empty!\n"
     ]
    }
   ],
   "source": [
    "pilha.pop()"
   ]
  },
  {
   "cell_type": "code",
   "execution_count": 11,
   "id": "da9fb4cc",
   "metadata": {},
   "outputs": [
    {
     "name": "stdout",
     "output_type": "stream",
     "text": [
      "[nan nan nan nan nan]\n"
     ]
    }
   ],
   "source": [
    "print(pilha.viewStack())"
   ]
  },
  {
   "cell_type": "code",
   "execution_count": 12,
   "id": "f2a1d871",
   "metadata": {},
   "outputs": [],
   "source": [
    "pilha.push(5)"
   ]
  },
  {
   "cell_type": "code",
   "execution_count": 13,
   "id": "323bf4c5",
   "metadata": {},
   "outputs": [
    {
     "name": "stdout",
     "output_type": "stream",
     "text": [
      "[ 5. nan nan nan nan]\n"
     ]
    }
   ],
   "source": [
    "print(pilha.viewStack())"
   ]
  },
  {
   "cell_type": "code",
   "execution_count": null,
   "id": "8a988542",
   "metadata": {},
   "outputs": [],
   "source": []
  }
 ],
 "metadata": {
  "kernelspec": {
   "display_name": "Python 3 (ipykernel)",
   "language": "python",
   "name": "python3"
  },
  "language_info": {
   "codemirror_mode": {
    "name": "ipython",
    "version": 3
   },
   "file_extension": ".py",
   "mimetype": "text/x-python",
   "name": "python",
   "nbconvert_exporter": "python",
   "pygments_lexer": "ipython3",
   "version": "3.8.16"
  }
 },
 "nbformat": 4,
 "nbformat_minor": 5
}
