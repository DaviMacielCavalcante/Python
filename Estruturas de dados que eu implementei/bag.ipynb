{
 "cells": [
  {
   "cell_type": "code",
   "execution_count": 1,
   "id": "3986bf04",
   "metadata": {},
   "outputs": [],
   "source": [
    "import math"
   ]
  },
  {
   "cell_type": "code",
   "execution_count": 2,
   "id": "cf1cfb0c",
   "metadata": {},
   "outputs": [],
   "source": [
    "import numpy as np"
   ]
  },
  {
   "cell_type": "code",
   "execution_count": 3,
   "id": "ff1118aa",
   "metadata": {},
   "outputs": [],
   "source": [
    "class Bag:\n",
    "    def __init__(self, capacidade):\n",
    "        self.__capacidade = capacidade        \n",
    "        self.__valores = np.zeros(self.__capacidade)\n",
    "        self.__tamanho = 0\n",
    "        \n",
    "    def __iter__(self):\n",
    "        self.__indice = 0 \n",
    "        return self\n",
    "    \n",
    "    def __next__(self):\n",
    "        if self.__indice < self.__tamanho:\n",
    "            valor = self.__valores[self.__indice]\n",
    "            self.__indice += 1\n",
    "            return valor\n",
    "        else:\n",
    "            raise StopIteration\n",
    "        \n",
    "    def isFull(self):\n",
    "        return self.__tamanho == self.__capacidade \n",
    "    \n",
    "    def add(self, valor):\n",
    "        if self.isFull():\n",
    "            print('The bag is full!')\n",
    "            return\n",
    "        if self.__valores[self.__tamanho] == 0:\n",
    "            self.__valores[self.__tamanho] = valor\n",
    "            self.__tamanho += 1\n",
    "        \n",
    "    def viewBag(self):\n",
    "        return print(self.__valores)\n",
    "    \n",
    "    def bagSize(self):\n",
    "        return self.__tamanho"
   ]
  },
  {
   "cell_type": "code",
   "execution_count": 4,
   "id": "0c04cf03",
   "metadata": {},
   "outputs": [],
   "source": [
    "bag = Bag(10)"
   ]
  },
  {
   "cell_type": "code",
   "execution_count": 5,
   "id": "118a2d55",
   "metadata": {},
   "outputs": [
    {
     "data": {
      "text/plain": [
       "False"
      ]
     },
     "execution_count": 5,
     "metadata": {},
     "output_type": "execute_result"
    }
   ],
   "source": [
    "bag.isFull()"
   ]
  },
  {
   "cell_type": "code",
   "execution_count": 6,
   "id": "33944cef",
   "metadata": {},
   "outputs": [
    {
     "name": "stdout",
     "output_type": "stream",
     "text": [
      "[0. 0. 0. 0. 0. 0. 0. 0. 0. 0.]\n"
     ]
    }
   ],
   "source": [
    "bag.viewBag()"
   ]
  },
  {
   "cell_type": "code",
   "execution_count": 7,
   "id": "f9ea0f0c",
   "metadata": {},
   "outputs": [],
   "source": [
    "bag.add(1)\n",
    "bag.add(8)\n",
    "bag.add(5)\n",
    "bag.add(3)\n",
    "bag.add(9)\n",
    "bag.add(2)"
   ]
  },
  {
   "cell_type": "code",
   "execution_count": 8,
   "id": "761ff5fe",
   "metadata": {},
   "outputs": [
    {
     "name": "stdout",
     "output_type": "stream",
     "text": [
      "[1. 8. 5. 3. 9. 2. 0. 0. 0. 0.]\n"
     ]
    }
   ],
   "source": [
    "bag.viewBag()"
   ]
  },
  {
   "cell_type": "code",
   "execution_count": 9,
   "id": "53adfdc6",
   "metadata": {},
   "outputs": [
    {
     "data": {
      "text/plain": [
       "False"
      ]
     },
     "execution_count": 9,
     "metadata": {},
     "output_type": "execute_result"
    }
   ],
   "source": [
    "bag.isFull()"
   ]
  },
  {
   "cell_type": "code",
   "execution_count": 10,
   "id": "f4d8e607",
   "metadata": {},
   "outputs": [],
   "source": [
    "bag.add(10)"
   ]
  },
  {
   "cell_type": "code",
   "execution_count": 11,
   "id": "7aaacf3b",
   "metadata": {},
   "outputs": [
    {
     "name": "stdout",
     "output_type": "stream",
     "text": [
      "[ 1.  8.  5.  3.  9.  2. 10.  0.  0.  0.]\n"
     ]
    }
   ],
   "source": [
    "bag.viewBag()"
   ]
  },
  {
   "cell_type": "code",
   "execution_count": 12,
   "id": "83696153",
   "metadata": {},
   "outputs": [],
   "source": [
    "soma = 0\n",
    "for item in bag:\n",
    "    soma += item"
   ]
  },
  {
   "cell_type": "code",
   "execution_count": 13,
   "id": "6d1a200a",
   "metadata": {},
   "outputs": [
    {
     "name": "stdout",
     "output_type": "stream",
     "text": [
      "38.0\n"
     ]
    }
   ],
   "source": [
    "print(soma)"
   ]
  },
  {
   "cell_type": "code",
   "execution_count": 14,
   "id": "4e998d21",
   "metadata": {},
   "outputs": [
    {
     "name": "stdout",
     "output_type": "stream",
     "text": [
      "5.428571428571429\n"
     ]
    }
   ],
   "source": [
    "mean = soma / bag.bagSize()\n",
    "print(mean)"
   ]
  },
  {
   "cell_type": "code",
   "execution_count": 15,
   "id": "22eb3c64",
   "metadata": {},
   "outputs": [
    {
     "name": "stdout",
     "output_type": "stream",
     "text": [
      "3.598941643369749\n"
     ]
    }
   ],
   "source": [
    "soma = 0\n",
    "for item in bag:\n",
    "    soma += (item - mean) * (item - mean)\n",
    "std = math.sqrt(soma / (bag.bagSize() - 1))\n",
    "print(std)"
   ]
  },
  {
   "cell_type": "code",
   "execution_count": null,
   "id": "8ae0386d",
   "metadata": {},
   "outputs": [],
   "source": []
  }
 ],
 "metadata": {
  "kernelspec": {
   "display_name": "Python 3 (ipykernel)",
   "language": "python",
   "name": "python3"
  },
  "language_info": {
   "codemirror_mode": {
    "name": "ipython",
    "version": 3
   },
   "file_extension": ".py",
   "mimetype": "text/x-python",
   "name": "python",
   "nbconvert_exporter": "python",
   "pygments_lexer": "ipython3",
   "version": "3.8.16"
  }
 },
 "nbformat": 4,
 "nbformat_minor": 5
}
