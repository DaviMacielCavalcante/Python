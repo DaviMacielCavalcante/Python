{
 "cells": [
  {
   "cell_type": "code",
   "execution_count": 1,
   "id": "74084f97",
   "metadata": {},
   "outputs": [],
   "source": [
    "import numpy as np"
   ]
  },
  {
   "cell_type": "code",
   "execution_count": 2,
   "id": "084a0f11",
   "metadata": {},
   "outputs": [],
   "source": [
    "class FilaCircular:\n",
    "    def __init__(self, capacidade):\n",
    "        self.capacidade = capacidade\n",
    "        self.inicio = 0\n",
    "        self.final = -1\n",
    "        self.numero_elementos = 0\n",
    "        self.valores = np.empty(self.capacidade, dtype = int)\n",
    "    \n",
    "    def fila_vazia(self):\n",
    "        return self.numero_elementos == 0\n",
    "    \n",
    "    def fila_cheia(self):\n",
    "        return self.numero_elementos == self.capacidade\n",
    "    \n",
    "    def enfileirar(self, valor):\n",
    "        if self.fila_cheia():\n",
    "            print('A fila está cheia')\n",
    "            return\n",
    "        \n",
    "        if self.final == self.capacidade - 1:\n",
    "            self.final = -1\n",
    "        \n",
    "        self.final += 1\n",
    "        self.valores[self.final] = valor\n",
    "        self.numero_elementos += 1\n",
    "        \n",
    "    def desenfileirar(self):\n",
    "        if self.fila_vazia():\n",
    "            print('A fila já está vazia')\n",
    "            return\n",
    "        \n",
    "        temp = self.valores[self.inicio]\n",
    "        self.inicio += 1\n",
    "        if self.inicio == self.capacidade - 1:\n",
    "            self.inicio = 0\n",
    "        self.numero_elementos -= 1\n",
    "        return temp\n",
    "    \n",
    "    def primeiro(self):\n",
    "        if self.fila_vazia():\n",
    "            return -1\n",
    "        return self.valores[self.inicio]"
   ]
  },
  {
   "cell_type": "code",
   "execution_count": 3,
   "id": "2f1b45c5",
   "metadata": {},
   "outputs": [],
   "source": [
    "fila = FilaCircular(5)"
   ]
  },
  {
   "cell_type": "code",
   "execution_count": 5,
   "id": "93d148e3",
   "metadata": {},
   "outputs": [
    {
     "name": "stdout",
     "output_type": "stream",
     "text": [
      "-1\n"
     ]
    }
   ],
   "source": [
    "print(fila.primeiro())"
   ]
  },
  {
   "cell_type": "code",
   "execution_count": 6,
   "id": "1e5aac32",
   "metadata": {},
   "outputs": [
    {
     "name": "stdout",
     "output_type": "stream",
     "text": [
      "1\n"
     ]
    }
   ],
   "source": [
    "fila.enfileirar(1)\n",
    "print(fila.primeiro())"
   ]
  },
  {
   "cell_type": "code",
   "execution_count": 7,
   "id": "0a1e40ae",
   "metadata": {},
   "outputs": [
    {
     "name": "stdout",
     "output_type": "stream",
     "text": [
      "1\n"
     ]
    }
   ],
   "source": [
    "fila.enfileirar(2)\n",
    "print(fila.primeiro())"
   ]
  },
  {
   "cell_type": "code",
   "execution_count": 8,
   "id": "76e17141",
   "metadata": {},
   "outputs": [
    {
     "name": "stdout",
     "output_type": "stream",
     "text": [
      "1\n"
     ]
    }
   ],
   "source": [
    "fila.enfileirar(3)\n",
    "fila.enfileirar(4)\n",
    "fila.enfileirar(5)\n",
    "print(fila.primeiro())"
   ]
  },
  {
   "cell_type": "code",
   "execution_count": 9,
   "id": "2f12c3f2",
   "metadata": {},
   "outputs": [
    {
     "name": "stdout",
     "output_type": "stream",
     "text": [
      "A fila está cheia\n"
     ]
    }
   ],
   "source": [
    "fila.enfileirar(6)"
   ]
  },
  {
   "cell_type": "code",
   "execution_count": 10,
   "id": "ce77dfa8",
   "metadata": {},
   "outputs": [
    {
     "data": {
      "text/plain": [
       "3"
      ]
     },
     "execution_count": 10,
     "metadata": {},
     "output_type": "execute_result"
    }
   ],
   "source": [
    "fila.desenfileirar()\n",
    "fila.desenfileirar()\n",
    "fila.primeiro()"
   ]
  },
  {
   "cell_type": "code",
   "execution_count": 11,
   "id": "3be6b485",
   "metadata": {},
   "outputs": [
    {
     "data": {
      "text/plain": [
       "3"
      ]
     },
     "execution_count": 11,
     "metadata": {},
     "output_type": "execute_result"
    }
   ],
   "source": [
    "fila.enfileirar(6)\n",
    "fila.enfileirar(7)\n",
    "fila.primeiro()"
   ]
  },
  {
   "cell_type": "code",
   "execution_count": 12,
   "id": "9f5fbbdd",
   "metadata": {},
   "outputs": [
    {
     "name": "stdout",
     "output_type": "stream",
     "text": [
      "[6 7 3 4 5]\n"
     ]
    }
   ],
   "source": [
    "print(fila.valores)"
   ]
  },
  {
   "cell_type": "code",
   "execution_count": 13,
   "id": "88846114",
   "metadata": {},
   "outputs": [
    {
     "name": "stdout",
     "output_type": "stream",
     "text": [
      "2 1\n"
     ]
    }
   ],
   "source": [
    "print(fila.inicio, fila.final)"
   ]
  },
  {
   "cell_type": "code",
   "execution_count": 14,
   "id": "e3820f83",
   "metadata": {},
   "outputs": [
    {
     "name": "stdout",
     "output_type": "stream",
     "text": [
      "7 3\n"
     ]
    }
   ],
   "source": [
    "print(fila.valores[fila.final], fila.valores[fila.inicio])"
   ]
  },
  {
   "cell_type": "code",
   "execution_count": null,
   "id": "4b72348b",
   "metadata": {},
   "outputs": [],
   "source": []
  }
 ],
 "metadata": {
  "kernelspec": {
   "display_name": "Python 3 (ipykernel)",
   "language": "python",
   "name": "python3"
  },
  "language_info": {
   "codemirror_mode": {
    "name": "ipython",
    "version": 3
   },
   "file_extension": ".py",
   "mimetype": "text/x-python",
   "name": "python",
   "nbconvert_exporter": "python",
   "pygments_lexer": "ipython3",
   "version": "3.8.16"
  }
 },
 "nbformat": 4,
 "nbformat_minor": 5
}
