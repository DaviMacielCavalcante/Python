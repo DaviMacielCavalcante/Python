{
 "cells": [
  {
   "cell_type": "code",
   "execution_count": 1,
   "id": "5db87f17",
   "metadata": {},
   "outputs": [],
   "source": [
    "import numpy as np"
   ]
  },
  {
   "cell_type": "code",
   "execution_count": 7,
   "id": "d343c5bd",
   "metadata": {},
   "outputs": [],
   "source": [
    "class FilaPrioridade:\n",
    "    def __init__(self, capacidade):\n",
    "        self.capacidade = capacidade\n",
    "        self.numero_elementos = 0\n",
    "        self.valores = np.empty(self.capacidade, dtype = int)\n",
    "        \n",
    "    def fila_vazia(self):\n",
    "        return self.numero_elementos == 0\n",
    "    \n",
    "    def fila_cheia(self):\n",
    "        return self.numero_elementos == self.capacidade\n",
    "    \n",
    "    def primeiro(self):\n",
    "        if self.fila_vazia():\n",
    "            return -1\n",
    "        return self.valores[self.numero_elementos - 1]\n",
    "    \n",
    "    def enfileirar(self, valor):\n",
    "        if self.fila_cheia():\n",
    "            print('A fila está cheia')\n",
    "            return\n",
    "        \n",
    "        if self.numero_elementos == 0:\n",
    "            self.valores[self.numero_elementos] = valor\n",
    "            self.numero_elementos += 1\n",
    "        else:\n",
    "            x = self.numero_elementos - 1\n",
    "            while x >= 0:\n",
    "                if valor > self.valores[x]:\n",
    "                    self.valores[x + 1] = self.valores[x]\n",
    "                else:\n",
    "                    break\n",
    "                x -= 1\n",
    "            \n",
    "            self.valores[x + 1] = valor\n",
    "            self.numero_elementos += 1   \n",
    "    \n",
    "    def desenfileirar(self):\n",
    "        if self.fila_vazia():\n",
    "            print('A fila está vazia')\n",
    "            return\n",
    "        \n",
    "        valor = self.valores[self.numero_elementos - 1]\n",
    "        self.numero_elementos -= 1\n",
    "        return valor"
   ]
  },
  {
   "cell_type": "code",
   "execution_count": 8,
   "id": "c87659ff",
   "metadata": {},
   "outputs": [],
   "source": [
    "fila = FilaPrioridade(5)"
   ]
  },
  {
   "cell_type": "code",
   "execution_count": 9,
   "id": "ebbe6aca",
   "metadata": {},
   "outputs": [
    {
     "name": "stdout",
     "output_type": "stream",
     "text": [
      "-1\n"
     ]
    }
   ],
   "source": [
    "print(fila.primeiro())"
   ]
  },
  {
   "cell_type": "code",
   "execution_count": 10,
   "id": "0743fa62",
   "metadata": {},
   "outputs": [
    {
     "name": "stdout",
     "output_type": "stream",
     "text": [
      "30\n"
     ]
    }
   ],
   "source": [
    "# 30\n",
    "fila.enfileirar(30)\n",
    "print(fila.primeiro())"
   ]
  },
  {
   "cell_type": "code",
   "execution_count": 11,
   "id": "4ce8072b",
   "metadata": {},
   "outputs": [
    {
     "name": "stdout",
     "output_type": "stream",
     "text": [
      "30\n"
     ]
    }
   ],
   "source": [
    "# 50 30\n",
    "fila.enfileirar(50)\n",
    "print(fila.primeiro())"
   ]
  },
  {
   "cell_type": "code",
   "execution_count": 12,
   "id": "96a4b603",
   "metadata": {},
   "outputs": [
    {
     "name": "stdout",
     "output_type": "stream",
     "text": [
      "10\n"
     ]
    }
   ],
   "source": [
    "# 50 30 10\n",
    "fila.enfileirar(10)\n",
    "print(fila.primeiro())"
   ]
  },
  {
   "cell_type": "code",
   "execution_count": 13,
   "id": "c21ea6d9",
   "metadata": {},
   "outputs": [
    {
     "name": "stdout",
     "output_type": "stream",
     "text": [
      "[50 30 10  0  1]\n"
     ]
    }
   ],
   "source": [
    "print(fila.valores)"
   ]
  },
  {
   "cell_type": "code",
   "execution_count": 14,
   "id": "1880051c",
   "metadata": {},
   "outputs": [
    {
     "name": "stdout",
     "output_type": "stream",
     "text": [
      "10\n"
     ]
    }
   ],
   "source": [
    "# 50 40 30 10\n",
    "fila.enfileirar(40)\n",
    "print(fila.primeiro())"
   ]
  },
  {
   "cell_type": "code",
   "execution_count": 15,
   "id": "27db107a",
   "metadata": {},
   "outputs": [
    {
     "name": "stdout",
     "output_type": "stream",
     "text": [
      "[50 40 30 10  1]\n"
     ]
    }
   ],
   "source": [
    "print(fila.valores)"
   ]
  },
  {
   "cell_type": "code",
   "execution_count": 16,
   "id": "afa9c729",
   "metadata": {},
   "outputs": [
    {
     "name": "stdout",
     "output_type": "stream",
     "text": [
      "10\n"
     ]
    }
   ],
   "source": [
    "# 50 40 30 20 10\n",
    "fila.enfileirar(20)\n",
    "print(fila.primeiro())"
   ]
  },
  {
   "cell_type": "code",
   "execution_count": 17,
   "id": "daa1becc",
   "metadata": {},
   "outputs": [
    {
     "name": "stdout",
     "output_type": "stream",
     "text": [
      "[50 40 30 20 10]\n"
     ]
    }
   ],
   "source": [
    "print(fila.valores)"
   ]
  },
  {
   "cell_type": "code",
   "execution_count": 18,
   "id": "8790bde9",
   "metadata": {},
   "outputs": [
    {
     "name": "stdout",
     "output_type": "stream",
     "text": [
      "A fila está cheia\n"
     ]
    }
   ],
   "source": [
    "fila.enfileirar(2)"
   ]
  },
  {
   "cell_type": "code",
   "execution_count": 19,
   "id": "bdfe5f0b",
   "metadata": {},
   "outputs": [
    {
     "name": "stdout",
     "output_type": "stream",
     "text": [
      "20\n"
     ]
    }
   ],
   "source": [
    "fila.desenfileirar()\n",
    "print(fila.primeiro())"
   ]
  },
  {
   "cell_type": "code",
   "execution_count": 20,
   "id": "ed8bc8be",
   "metadata": {},
   "outputs": [
    {
     "name": "stdout",
     "output_type": "stream",
     "text": [
      "30\n"
     ]
    }
   ],
   "source": [
    "fila.desenfileirar()\n",
    "print(fila.primeiro())"
   ]
  },
  {
   "cell_type": "code",
   "execution_count": 21,
   "id": "9f500f69",
   "metadata": {},
   "outputs": [
    {
     "name": "stdout",
     "output_type": "stream",
     "text": [
      "40\n"
     ]
    }
   ],
   "source": [
    "fila.desenfileirar()\n",
    "print(fila.primeiro())"
   ]
  },
  {
   "cell_type": "code",
   "execution_count": 22,
   "id": "718eb1bc",
   "metadata": {},
   "outputs": [
    {
     "name": "stdout",
     "output_type": "stream",
     "text": [
      "[50 40 30 20 10]\n"
     ]
    }
   ],
   "source": [
    "print(fila.valores)"
   ]
  },
  {
   "cell_type": "code",
   "execution_count": 25,
   "id": "9164e4d5",
   "metadata": {},
   "outputs": [
    {
     "name": "stdout",
     "output_type": "stream",
     "text": [
      "5\n"
     ]
    }
   ],
   "source": [
    "fila.enfileirar(5)\n",
    "print(fila.primeiro())"
   ]
  },
  {
   "cell_type": "code",
   "execution_count": 26,
   "id": "4abd145a",
   "metadata": {},
   "outputs": [
    {
     "name": "stdout",
     "output_type": "stream",
     "text": [
      "[50 40  5  5  5]\n"
     ]
    }
   ],
   "source": [
    "print(fila.valores)"
   ]
  },
  {
   "cell_type": "code",
   "execution_count": null,
   "id": "6eac6020",
   "metadata": {},
   "outputs": [],
   "source": []
  }
 ],
 "metadata": {
  "kernelspec": {
   "display_name": "Python 3 (ipykernel)",
   "language": "python",
   "name": "python3"
  },
  "language_info": {
   "codemirror_mode": {
    "name": "ipython",
    "version": 3
   },
   "file_extension": ".py",
   "mimetype": "text/x-python",
   "name": "python",
   "nbconvert_exporter": "python",
   "pygments_lexer": "ipython3",
   "version": "3.8.16"
  }
 },
 "nbformat": 4,
 "nbformat_minor": 5
}
