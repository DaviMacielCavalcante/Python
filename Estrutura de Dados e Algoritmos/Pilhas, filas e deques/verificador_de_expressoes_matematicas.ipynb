{
 "cells": [
  {
   "cell_type": "code",
   "execution_count": 1,
   "id": "561a17d3",
   "metadata": {},
   "outputs": [],
   "source": [
    "import numpy as np"
   ]
  },
  {
   "cell_type": "code",
   "execution_count": 2,
   "id": "252c95e5",
   "metadata": {},
   "outputs": [],
   "source": [
    "class Pilha:\n",
    "    def __init__(self, capacidade):\n",
    "        self.__capacidade = capacidade\n",
    "        self.topo = -1\n",
    "        self.valores = np.chararray(self.__capacidade, unicode = True)\n",
    "    \n",
    "    def pilha_cheia(self):\n",
    "        if self.topo == self.__capacidade - 1:\n",
    "            return True\n",
    "        else:\n",
    "            return False\n",
    "    \n",
    "    def pilha_vazia(self):\n",
    "        if self.topo == -1:\n",
    "            return True\n",
    "        else:\n",
    "            return False\n",
    "        \n",
    "    def empilhar(self, valor):\n",
    "        if self.pilha_cheia():\n",
    "            print('A pilha está cheia')\n",
    "        else:\n",
    "            self.topo += 1\n",
    "            self.valores[self.topo] = valor\n",
    "            \n",
    "    def desempilhar(self):\n",
    "        if self.pilha_vazia():\n",
    "            print('A pilha está vazia')\n",
    "            return -1\n",
    "        else:\n",
    "            valor = self.valores[self.topo]\n",
    "            self.topo -= 1\n",
    "            return valor\n",
    "            \n",
    "    def ver_topo(self):\n",
    "        if self.topo != -1:\n",
    "            return self.valores[self.topo]\n",
    "        else:\n",
    "            return -1"
   ]
  },
  {
   "cell_type": "code",
   "execution_count": 23,
   "id": "1c44890e",
   "metadata": {},
   "outputs": [
    {
     "name": "stdout",
     "output_type": "stream",
     "text": [
      "Digite uma expressão matemática: a{b(c) \n"
     ]
    }
   ],
   "source": [
    "expressao = str(input('Digite uma expressão matemática: '))\n",
    "pilha = Pilha(len(expressao))"
   ]
  },
  {
   "cell_type": "code",
   "execution_count": 24,
   "id": "a407baa4",
   "metadata": {},
   "outputs": [
    {
     "name": "stdout",
     "output_type": "stream",
     "text": [
      "Erro\n"
     ]
    }
   ],
   "source": [
    "for i in range(len(expressao)):\n",
    "    ch = expressao[i]\n",
    "    if (ch == '{') or (ch == '[') or (ch == '('):\n",
    "        pilha.empilhar(ch)\n",
    "    elif (ch == '}') or (ch == ']') or (ch == ')'):\n",
    "        if not pilha.pilha_vazia():\n",
    "            chx = str(pilha.desempilhar())\n",
    "            if (ch == '}' and chx != '{') or (ch == ']' and chx != '[') or (ch == ')' and chx != '('):\n",
    "                print('Erro: ', ch, ' na posição ', i)\n",
    "                break\n",
    "        else:\n",
    "            print('Erro: ', ch, ' na posição ', i)\n",
    "if not pilha.pilha_vazia():\n",
    "    print('Erro')"
   ]
  },
  {
   "cell_type": "code",
   "execution_count": null,
   "id": "9bf066b8",
   "metadata": {},
   "outputs": [],
   "source": []
  }
 ],
 "metadata": {
  "kernelspec": {
   "display_name": "Python 3 (ipykernel)",
   "language": "python",
   "name": "python3"
  },
  "language_info": {
   "codemirror_mode": {
    "name": "ipython",
    "version": 3
   },
   "file_extension": ".py",
   "mimetype": "text/x-python",
   "name": "python",
   "nbconvert_exporter": "python",
   "pygments_lexer": "ipython3",
   "version": "3.8.16"
  }
 },
 "nbformat": 4,
 "nbformat_minor": 5
}
