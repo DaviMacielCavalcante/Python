{
 "cells": [
  {
   "cell_type": "code",
   "execution_count": 1,
   "id": "78d8dab8",
   "metadata": {},
   "outputs": [],
   "source": [
    "import numpy as np"
   ]
  },
  {
   "cell_type": "code",
   "execution_count": 2,
   "id": "71e8c8b0",
   "metadata": {},
   "outputs": [],
   "source": [
    "class Deque:\n",
    "    def __init__(self, capacidade):\n",
    "        self.capacidade = capacidade\n",
    "        self.inicio = -1\n",
    "        self.final = 0\n",
    "        self.numero_elementos = 0\n",
    "        self.valores = np.empty(self.capacidade, dtype = int)\n",
    "        \n",
    "    def deque_cheio(self):\n",
    "        return (self.inicio == 0 and self.final == self.capacidade - 1) or (self.inicio == self.final + 1)\n",
    "    \n",
    "    def deque_vazio(self):\n",
    "        return self.inicio == -1\n",
    "    \n",
    "    def insere_inicio(self, valor):\n",
    "        if self.deque_cheio():\n",
    "            print('O deque está cheio')\n",
    "            return\n",
    "        \n",
    "        # Se estiver vazio\n",
    "        if self.inicio == -1:\n",
    "            self.inicio = 0\n",
    "            self.final = 0\n",
    "        # Início estiver na primeira posição\n",
    "        elif self.inicio == 0:\n",
    "            self.inicio = self.capacidade - 1\n",
    "        else:\n",
    "            self.inicio -= 1\n",
    "            \n",
    "        self.valores[self.inicio] = valor\n",
    "    \n",
    "    def insere_final(self, valor):\n",
    "        if self.deque_cheio():\n",
    "            print('O deque está cheio')\n",
    "            return\n",
    "        \n",
    "        # Se estiver vazio\n",
    "        if self.inicio == -1:\n",
    "            self.inicio = 0\n",
    "            self.final = 0\n",
    "        # Final estiver na última posição\n",
    "        elif self.final == self.capacidade - 1:\n",
    "            self.final = 0\n",
    "        else:\n",
    "            self.final += 1\n",
    "            \n",
    "        self.valores[self.final] = valor\n",
    "        \n",
    "    def excluir_inicio(self):\n",
    "        if self.deque_vazio():\n",
    "            print('O deque já está vazio')\n",
    "            return\n",
    "        \n",
    "        # Possui somente um elemento:\n",
    "        if self.inicio == self.final:\n",
    "            self.inicio = -1\n",
    "            self.final = -1\n",
    "        else:\n",
    "            # Volta para a posição inicial\n",
    "            if self.inicio == self.capacidade - 1:\n",
    "                self.inicio = 0\n",
    "            else:\n",
    "                # Incrementar início para remover o inicío atual\n",
    "                self.inicio += 1\n",
    "                \n",
    "    def excluir_final(self):\n",
    "        if self.deque_vazio():\n",
    "            print('O deque j´pa está vazio')\n",
    "            return\n",
    "        \n",
    "        if self.inicio == self.final:\n",
    "            self.inicio = -1\n",
    "            self.final = -1\n",
    "        elif self.inicio == 0:\n",
    "            self.final = self.capacidade - 1\n",
    "        else:\n",
    "            self.final -= 1\n",
    "            \n",
    "    def get_inicio(self):\n",
    "        if self.deque_vazio():\n",
    "            print('O deque já está vazio')\n",
    "            return\n",
    "    \n",
    "        return self.valores[self.inicio] \n",
    "    \n",
    "    def get_final(self):\n",
    "        if self.deque_vazio() or self.final < 0:\n",
    "            print('O deque já está vazio')\n",
    "            return\n",
    "    \n",
    "        return self.valores[self.final]       "
   ]
  },
  {
   "cell_type": "code",
   "execution_count": 3,
   "id": "8eb2ba7b",
   "metadata": {},
   "outputs": [],
   "source": [
    "deque = Deque(5)"
   ]
  },
  {
   "cell_type": "code",
   "execution_count": 4,
   "id": "c8c5ef0e",
   "metadata": {},
   "outputs": [],
   "source": [
    "deque.insere_final(5)"
   ]
  },
  {
   "cell_type": "code",
   "execution_count": 5,
   "id": "9b4cfe0e",
   "metadata": {},
   "outputs": [
    {
     "name": "stdout",
     "output_type": "stream",
     "text": [
      "5 5\n"
     ]
    }
   ],
   "source": [
    "print(deque.get_inicio(), deque.get_final())"
   ]
  },
  {
   "cell_type": "code",
   "execution_count": 6,
   "id": "3f8a792b",
   "metadata": {},
   "outputs": [],
   "source": [
    "deque.insere_final(10)"
   ]
  },
  {
   "cell_type": "code",
   "execution_count": 7,
   "id": "4ddd0be4",
   "metadata": {},
   "outputs": [
    {
     "name": "stdout",
     "output_type": "stream",
     "text": [
      "5 10\n"
     ]
    }
   ],
   "source": [
    "print(deque.get_inicio(), deque.get_final())"
   ]
  },
  {
   "cell_type": "code",
   "execution_count": 8,
   "id": "a2280cdd",
   "metadata": {},
   "outputs": [],
   "source": [
    "deque.insere_inicio(3)"
   ]
  },
  {
   "cell_type": "code",
   "execution_count": 9,
   "id": "ae3376b3",
   "metadata": {},
   "outputs": [
    {
     "name": "stdout",
     "output_type": "stream",
     "text": [
      "3 10\n"
     ]
    }
   ],
   "source": [
    "print(deque.get_inicio(), deque.get_final())"
   ]
  },
  {
   "cell_type": "code",
   "execution_count": 10,
   "id": "6488bdca",
   "metadata": {},
   "outputs": [],
   "source": [
    "deque.insere_inicio(2)\n",
    "deque.insere_final(11)"
   ]
  },
  {
   "cell_type": "code",
   "execution_count": 11,
   "id": "d6dbd95c",
   "metadata": {},
   "outputs": [
    {
     "name": "stdout",
     "output_type": "stream",
     "text": [
      "2 11\n"
     ]
    }
   ],
   "source": [
    "print(deque.get_inicio(), deque.get_final())"
   ]
  },
  {
   "cell_type": "code",
   "execution_count": 12,
   "id": "52bb6341",
   "metadata": {},
   "outputs": [
    {
     "name": "stdout",
     "output_type": "stream",
     "text": [
      "[ 5 10 11  2  3]\n"
     ]
    }
   ],
   "source": [
    "print(deque.valores)"
   ]
  },
  {
   "cell_type": "code",
   "execution_count": 13,
   "id": "8d1cc8d0",
   "metadata": {},
   "outputs": [],
   "source": [
    "deque.excluir_inicio()\n",
    "deque.excluir_final()"
   ]
  },
  {
   "cell_type": "code",
   "execution_count": 14,
   "id": "5cb9d01b",
   "metadata": {},
   "outputs": [
    {
     "name": "stdout",
     "output_type": "stream",
     "text": [
      "3 10\n"
     ]
    }
   ],
   "source": [
    "print(deque.get_inicio(), deque.get_final())"
   ]
  },
  {
   "cell_type": "code",
   "execution_count": 15,
   "id": "37723486",
   "metadata": {},
   "outputs": [
    {
     "name": "stdout",
     "output_type": "stream",
     "text": [
      "[ 5 10 11  2  3]\n"
     ]
    }
   ],
   "source": [
    "print(deque.valores)"
   ]
  },
  {
   "cell_type": "code",
   "execution_count": 16,
   "id": "d238b5b8",
   "metadata": {},
   "outputs": [
    {
     "name": "stdout",
     "output_type": "stream",
     "text": [
      "4\n"
     ]
    }
   ],
   "source": [
    "print(deque.inicio)"
   ]
  },
  {
   "cell_type": "code",
   "execution_count": 17,
   "id": "cfd50835",
   "metadata": {},
   "outputs": [
    {
     "name": "stdout",
     "output_type": "stream",
     "text": [
      "1\n"
     ]
    }
   ],
   "source": [
    "print(deque.final)"
   ]
  },
  {
   "cell_type": "code",
   "execution_count": null,
   "id": "f8140772",
   "metadata": {},
   "outputs": [],
   "source": []
  }
 ],
 "metadata": {
  "kernelspec": {
   "display_name": "Python 3 (ipykernel)",
   "language": "python",
   "name": "python3"
  },
  "language_info": {
   "codemirror_mode": {
    "name": "ipython",
    "version": 3
   },
   "file_extension": ".py",
   "mimetype": "text/x-python",
   "name": "python",
   "nbconvert_exporter": "python",
   "pygments_lexer": "ipython3",
   "version": "3.8.16"
  }
 },
 "nbformat": 4,
 "nbformat_minor": 5
}
