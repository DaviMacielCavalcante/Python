{
 "cells": [
  {
   "cell_type": "code",
   "execution_count": 9,
   "id": "188b6833",
   "metadata": {},
   "outputs": [],
   "source": [
    "# 1\n",
    "def ler_temperatura():\n",
    "    temperatura = float(input('Informe o valor da temperatura em celsius: '))\n",
    "    return temperatura"
   ]
  },
  {
   "cell_type": "code",
   "execution_count": 10,
   "id": "4fb2dd9f",
   "metadata": {},
   "outputs": [],
   "source": [
    "def celsius_to_fahrenheit(c):\n",
    "    f = ((9 * c) + 160) / 5\n",
    "    return show_f(f)"
   ]
  },
  {
   "cell_type": "code",
   "execution_count": 11,
   "id": "5f20f402",
   "metadata": {},
   "outputs": [],
   "source": [
    "def show_f(f):\n",
    "    print(f)"
   ]
  },
  {
   "cell_type": "code",
   "execution_count": 12,
   "id": "e56147b6",
   "metadata": {},
   "outputs": [
    {
     "name": "stdout",
     "output_type": "stream",
     "text": [
      "Informe o valor da temperatura em celsius: 35.5\n",
      "95.9\n"
     ]
    }
   ],
   "source": [
    "temperatura = ler_temperatura()\n",
    "celsius_to_fahrenheit(temperatura)"
   ]
  },
  {
   "cell_type": "code",
   "execution_count": 37,
   "id": "32addb4f",
   "metadata": {},
   "outputs": [],
   "source": [
    "# 2\n",
    "def ler_tempo_e_velocidade_media():\n",
    "    tempo = float(input('Quantidade de horas da viagem: '))\n",
    "    velocidade = float(input('Velocidade média do veículo: '))\n",
    "    return tempo, velocidade"
   ]
  },
  {
   "cell_type": "code",
   "execution_count": 38,
   "id": "af930054",
   "metadata": {},
   "outputs": [],
   "source": [
    "def calcular_distancia(tempo, velocidade):\n",
    "    distancia = tempo * velocidade\n",
    "    return distancia"
   ]
  },
  {
   "cell_type": "code",
   "execution_count": 39,
   "id": "5edcd596",
   "metadata": {},
   "outputs": [],
   "source": [
    "def calcular_quantidade_de_litros_usados(distancia):\n",
    "    litros_usados = distancia / 12\n",
    "    return litros_usados"
   ]
  },
  {
   "cell_type": "code",
   "execution_count": 40,
   "id": "a5c7a505",
   "metadata": {},
   "outputs": [],
   "source": [
    "def mostrar_valores(tempo, velocidade, distancia, litros_usados):\n",
    "    print(f'Velocidade média de: {velocidade:.2f} Km/h')\n",
    "    print(f'Tempo de viagem: {tempo:.2f} horas')\n",
    "    print(f'Distância percorrida: {distancia:.2f} quilômetros')\n",
    "    print(f'Quantidade de combustível usada: {litros_usados:.2f} litros')"
   ]
  },
  {
   "cell_type": "code",
   "execution_count": 50,
   "id": "e42bd3e7",
   "metadata": {},
   "outputs": [
    {
     "name": "stdout",
     "output_type": "stream",
     "text": [
      "Quantidade de horas da viagem: 5\n",
      "Velocidade média do veículo: 55\n"
     ]
    }
   ],
   "source": [
    "tempo, velocidade = ler_tempo_e_velocidade_media()"
   ]
  },
  {
   "cell_type": "code",
   "execution_count": 51,
   "id": "bfb75eed",
   "metadata": {},
   "outputs": [],
   "source": [
    "distancia = calcular_distancia(tempo, velocidade)"
   ]
  },
  {
   "cell_type": "code",
   "execution_count": 52,
   "id": "a099dc8d",
   "metadata": {},
   "outputs": [],
   "source": [
    "litros_usados = calcular_quantidade_de_litros_usados(distancia)"
   ]
  },
  {
   "cell_type": "code",
   "execution_count": 53,
   "id": "166f3e4f",
   "metadata": {},
   "outputs": [
    {
     "name": "stdout",
     "output_type": "stream",
     "text": [
      "Velocidade média de: 55.00 Km/h\n",
      "Tempo de viagem: 5.00 horas\n",
      "Distância percorrida: 275.00 quilômetros\n",
      "Quantidade de combustível usada: 22.92 litros\n"
     ]
    }
   ],
   "source": [
    "mostrar_valores(tempo, velocidade, distancia, litros_usados)"
   ]
  },
  {
   "cell_type": "code",
   "execution_count": null,
   "id": "835bc392",
   "metadata": {},
   "outputs": [],
   "source": []
  }
 ],
 "metadata": {
  "kernelspec": {
   "display_name": "Python 3",
   "language": "python",
   "name": "python3"
  },
  "language_info": {
   "codemirror_mode": {
    "name": "ipython",
    "version": 3
   },
   "file_extension": ".py",
   "mimetype": "text/x-python",
   "name": "python",
   "nbconvert_exporter": "python",
   "pygments_lexer": "ipython3",
   "version": "3.8.8"
  }
 },
 "nbformat": 4,
 "nbformat_minor": 5
}
