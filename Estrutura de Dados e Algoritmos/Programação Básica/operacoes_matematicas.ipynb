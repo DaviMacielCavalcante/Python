{
 "cells": [
  {
   "cell_type": "code",
   "execution_count": 1,
   "id": "aa18af32",
   "metadata": {},
   "outputs": [
    {
     "name": "stdout",
     "output_type": "stream",
     "text": [
      "5 3\n"
     ]
    }
   ],
   "source": [
    "a = 5\n",
    "b = 3\n",
    "print(a, b)"
   ]
  },
  {
   "cell_type": "code",
   "execution_count": 2,
   "id": "11089aac",
   "metadata": {},
   "outputs": [
    {
     "name": "stdout",
     "output_type": "stream",
     "text": [
      "8\n"
     ]
    }
   ],
   "source": [
    "print(a + b)"
   ]
  },
  {
   "cell_type": "code",
   "execution_count": 3,
   "id": "9a800471",
   "metadata": {},
   "outputs": [
    {
     "name": "stdout",
     "output_type": "stream",
     "text": [
      "A soma é 8\n"
     ]
    }
   ],
   "source": [
    "print('A soma é', a + b)"
   ]
  },
  {
   "cell_type": "code",
   "execution_count": 4,
   "id": "aa9f1c3b",
   "metadata": {},
   "outputs": [
    {
     "name": "stdout",
     "output_type": "stream",
     "text": [
      "A subtração é 2\n"
     ]
    }
   ],
   "source": [
    "print('A subtração é', a - b)"
   ]
  },
  {
   "cell_type": "code",
   "execution_count": 5,
   "id": "539746c2",
   "metadata": {},
   "outputs": [
    {
     "name": "stdout",
     "output_type": "stream",
     "text": [
      "A divisão é 1.6666666666666667\n"
     ]
    }
   ],
   "source": [
    "print('A divisão é', a / b)"
   ]
  },
  {
   "cell_type": "code",
   "execution_count": 6,
   "id": "bc0b8174",
   "metadata": {},
   "outputs": [
    {
     "name": "stdout",
     "output_type": "stream",
     "text": [
      "A multiplicação é 15\n"
     ]
    }
   ],
   "source": [
    "print('A multiplicação é', a * b)"
   ]
  },
  {
   "cell_type": "code",
   "execution_count": 7,
   "id": "3fa10299",
   "metadata": {},
   "outputs": [
    {
     "name": "stdout",
     "output_type": "stream",
     "text": [
      "O resto da divisão é 1\n"
     ]
    }
   ],
   "source": [
    "print('O resto da divisão é', 10 % 3)"
   ]
  },
  {
   "cell_type": "code",
   "execution_count": 8,
   "id": "07c43324",
   "metadata": {},
   "outputs": [
    {
     "name": "stdout",
     "output_type": "stream",
     "text": [
      "5 elevado a 3 é 125\n"
     ]
    }
   ],
   "source": [
    "print('5 elevado a 3 é', 5**3)"
   ]
  },
  {
   "cell_type": "code",
   "execution_count": 10,
   "id": "c2b7c507",
   "metadata": {},
   "outputs": [
    {
     "name": "stdout",
     "output_type": "stream",
     "text": [
      "9.0\n"
     ]
    }
   ],
   "source": [
    "import math\n",
    "print(math.sqrt(81))"
   ]
  },
  {
   "cell_type": "code",
   "execution_count": 11,
   "id": "84420529",
   "metadata": {},
   "outputs": [
    {
     "name": "stdout",
     "output_type": "stream",
     "text": [
      "0.003891728624535316\n"
     ]
    }
   ],
   "source": [
    "casos_doenca = 134\n",
    "numero_habitantes = 34432\n",
    "casos_por_habitante = casos_doenca / numero_habitantes\n",
    "print(casos_por_habitante)"
   ]
  },
  {
   "cell_type": "code",
   "execution_count": 12,
   "id": "03d42b0d",
   "metadata": {},
   "outputs": [
    {
     "name": "stdout",
     "output_type": "stream",
     "text": [
      "0.003892\n"
     ]
    }
   ],
   "source": [
    "print(round(casos_por_habitante, 6))"
   ]
  },
  {
   "cell_type": "code",
   "execution_count": 13,
   "id": "647402e9",
   "metadata": {},
   "outputs": [
    {
     "name": "stdout",
     "output_type": "stream",
     "text": [
      "O número de caos por habitante é de 0.0039\n"
     ]
    }
   ],
   "source": [
    "print('O número de caos por habitante é de', round(casos_por_habitante, 4))"
   ]
  },
  {
   "cell_type": "code",
   "execution_count": null,
   "id": "adbb68a9",
   "metadata": {},
   "outputs": [],
   "source": []
  }
 ],
 "metadata": {
  "kernelspec": {
   "display_name": "Python 3 (ipykernel)",
   "language": "python",
   "name": "python3"
  },
  "language_info": {
   "codemirror_mode": {
    "name": "ipython",
    "version": 3
   },
   "file_extension": ".py",
   "mimetype": "text/x-python",
   "name": "python",
   "nbconvert_exporter": "python",
   "pygments_lexer": "ipython3",
   "version": "3.8.16"
  }
 },
 "nbformat": 4,
 "nbformat_minor": 5
}
