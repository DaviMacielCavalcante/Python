{
 "cells": [
  {
   "cell_type": "code",
   "execution_count": 7,
   "id": "9034951f",
   "metadata": {},
   "outputs": [],
   "source": [
    "# 1 e 2\n",
    "lista = []"
   ]
  },
  {
   "cell_type": "code",
   "execution_count": 10,
   "id": "f84a227e",
   "metadata": {},
   "outputs": [
    {
     "name": "stdout",
     "output_type": "stream",
     "text": [
      "Informe um número: 9\n",
      "Informe um número: 3\n",
      "Não existe esses índices na lista.\n",
      "[5.0, 15.0, 5.0, 15.0, 9.0, 3.0]\n"
     ]
    }
   ],
   "source": [
    "try:\n",
    "    n1 = float(input('Informe um número: '))\n",
    "    lista.append(n1)\n",
    "    n2 = float(input('Informe um número: '))\n",
    "    lista.append(n2)\n",
    "    print(lista[0] / lista[15]) \n",
    "except ValueError:\n",
    "    print('Valor inválido!')\n",
    "except ZeroDivisionError:\n",
    "    print('Não se pode dividir por zero!')\n",
    "except IndexError:\n",
    "    print('Não existe esse(s) índice(s) na lista.')\n",
    "except KeyboardInterrupt:\n",
    "    print('Usuário interrompeu a aplicação.')\n",
    "print(lista)"
   ]
  },
  {
   "cell_type": "code",
   "execution_count": null,
   "id": "ff9032f4",
   "metadata": {},
   "outputs": [],
   "source": []
  }
 ],
 "metadata": {
  "kernelspec": {
   "display_name": "Python 3 (ipykernel)",
   "language": "python",
   "name": "python3"
  },
  "language_info": {
   "codemirror_mode": {
    "name": "ipython",
    "version": 3
   },
   "file_extension": ".py",
   "mimetype": "text/x-python",
   "name": "python",
   "nbconvert_exporter": "python",
   "pygments_lexer": "ipython3",
   "version": "3.8.16"
  }
 },
 "nbformat": 4,
 "nbformat_minor": 5
}
