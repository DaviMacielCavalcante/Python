{
 "cells": [
  {
   "cell_type": "code",
   "execution_count": 2,
   "id": "0f53b5e9",
   "metadata": {},
   "outputs": [],
   "source": [
    "a = True\n",
    "b = False"
   ]
  },
  {
   "cell_type": "code",
   "execution_count": 3,
   "id": "bdb74491",
   "metadata": {},
   "outputs": [
    {
     "name": "stdout",
     "output_type": "stream",
     "text": [
      "True False\n"
     ]
    }
   ],
   "source": [
    "print(a, b)"
   ]
  },
  {
   "cell_type": "code",
   "execution_count": 4,
   "id": "d3c923f8",
   "metadata": {},
   "outputs": [
    {
     "name": "stdout",
     "output_type": "stream",
     "text": [
      "False\n"
     ]
    }
   ],
   "source": [
    "print(a and b)"
   ]
  },
  {
   "cell_type": "code",
   "execution_count": 6,
   "id": "39a2af57",
   "metadata": {},
   "outputs": [
    {
     "name": "stdout",
     "output_type": "stream",
     "text": [
      "'A' e 'B' são iguais? False\n"
     ]
    }
   ],
   "source": [
    "c = a and b\n",
    "print(\"'A' e 'B' são iguais?\", c)"
   ]
  },
  {
   "cell_type": "code",
   "execution_count": 5,
   "id": "6f8256f0",
   "metadata": {},
   "outputs": [
    {
     "name": "stdout",
     "output_type": "stream",
     "text": [
      "True\n"
     ]
    }
   ],
   "source": [
    "print(a or b)"
   ]
  },
  {
   "cell_type": "code",
   "execution_count": 7,
   "id": "7c4c4c66",
   "metadata": {},
   "outputs": [
    {
     "name": "stdout",
     "output_type": "stream",
     "text": [
      "'A' ou 'B' são iguais? True\n"
     ]
    }
   ],
   "source": [
    "d = a or b\n",
    "print(\"'A' ou 'B' são iguais?\", d)"
   ]
  },
  {
   "cell_type": "code",
   "execution_count": 8,
   "id": "c5a22aff",
   "metadata": {},
   "outputs": [
    {
     "name": "stdout",
     "output_type": "stream",
     "text": [
      "False\n"
     ]
    }
   ],
   "source": [
    "print(not a)"
   ]
  },
  {
   "cell_type": "code",
   "execution_count": 9,
   "id": "3a2ebb65",
   "metadata": {},
   "outputs": [
    {
     "name": "stdout",
     "output_type": "stream",
     "text": [
      "True\n"
     ]
    }
   ],
   "source": [
    "print(not b)"
   ]
  },
  {
   "cell_type": "code",
   "execution_count": 10,
   "id": "b6e0ce63",
   "metadata": {},
   "outputs": [
    {
     "name": "stdout",
     "output_type": "stream",
     "text": [
      "True\n"
     ]
    }
   ],
   "source": [
    "print(5 > 3)"
   ]
  },
  {
   "cell_type": "code",
   "execution_count": 11,
   "id": "8bdfcf50",
   "metadata": {},
   "outputs": [
    {
     "name": "stdout",
     "output_type": "stream",
     "text": [
      "False\n"
     ]
    }
   ],
   "source": [
    "print(5 < 3)"
   ]
  },
  {
   "cell_type": "code",
   "execution_count": 12,
   "id": "2dd803ac",
   "metadata": {},
   "outputs": [
    {
     "name": "stdout",
     "output_type": "stream",
     "text": [
      "True\n"
     ]
    }
   ],
   "source": [
    "print(5 >= 3)"
   ]
  },
  {
   "cell_type": "code",
   "execution_count": 13,
   "id": "3fc2e5f4",
   "metadata": {},
   "outputs": [
    {
     "name": "stdout",
     "output_type": "stream",
     "text": [
      "True\n"
     ]
    }
   ],
   "source": [
    "print(5 >= 5)"
   ]
  },
  {
   "cell_type": "code",
   "execution_count": 14,
   "id": "741548b5",
   "metadata": {},
   "outputs": [
    {
     "name": "stdout",
     "output_type": "stream",
     "text": [
      "False\n"
     ]
    }
   ],
   "source": [
    "print(5 <= 3)"
   ]
  },
  {
   "cell_type": "code",
   "execution_count": 15,
   "id": "0ac11509",
   "metadata": {},
   "outputs": [
    {
     "name": "stdout",
     "output_type": "stream",
     "text": [
      "False\n"
     ]
    }
   ],
   "source": [
    "print(5 == 3)"
   ]
  },
  {
   "cell_type": "code",
   "execution_count": 16,
   "id": "6ceec74c",
   "metadata": {},
   "outputs": [
    {
     "name": "stdout",
     "output_type": "stream",
     "text": [
      "True\n"
     ]
    }
   ],
   "source": [
    "print(5 != 3)"
   ]
  },
  {
   "cell_type": "code",
   "execution_count": null,
   "id": "a9b89503",
   "metadata": {},
   "outputs": [],
   "source": []
  }
 ],
 "metadata": {
  "kernelspec": {
   "display_name": "Python 3 (ipykernel)",
   "language": "python",
   "name": "python3"
  },
  "language_info": {
   "codemirror_mode": {
    "name": "ipython",
    "version": 3
   },
   "file_extension": ".py",
   "mimetype": "text/x-python",
   "name": "python",
   "nbconvert_exporter": "python",
   "pygments_lexer": "ipython3",
   "version": "3.8.16"
  }
 },
 "nbformat": 4,
 "nbformat_minor": 5
}
