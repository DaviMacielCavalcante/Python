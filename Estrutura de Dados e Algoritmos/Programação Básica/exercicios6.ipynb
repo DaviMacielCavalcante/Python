{
 "cells": [
  {
   "cell_type": "code",
   "execution_count": 1,
   "id": "056b0a1c",
   "metadata": {},
   "outputs": [],
   "source": [
    "import modulo_exercicios6 as mp"
   ]
  },
  {
   "cell_type": "code",
   "execution_count": 2,
   "id": "9d510fc9",
   "metadata": {},
   "outputs": [
    {
     "name": "stdout",
     "output_type": "stream",
     "text": [
      "Hello World!\n"
     ]
    }
   ],
   "source": [
    "mp.imprime('Hello World!')"
   ]
  },
  {
   "cell_type": "code",
   "execution_count": 3,
   "id": "ef3ddc57",
   "metadata": {},
   "outputs": [
    {
     "name": "stdout",
     "output_type": "stream",
     "text": [
      "5.5\n"
     ]
    }
   ],
   "source": [
    "print(mp.ler_float('5.5'))"
   ]
  },
  {
   "cell_type": "code",
   "execution_count": null,
   "id": "c7bb6109",
   "metadata": {},
   "outputs": [],
   "source": []
  }
 ],
 "metadata": {
  "kernelspec": {
   "display_name": "Python 3 (ipykernel)",
   "language": "python",
   "name": "python3"
  },
  "language_info": {
   "codemirror_mode": {
    "name": "ipython",
    "version": 3
   },
   "file_extension": ".py",
   "mimetype": "text/x-python",
   "name": "python",
   "nbconvert_exporter": "python",
   "pygments_lexer": "ipython3",
   "version": "3.8.16"
  }
 },
 "nbformat": 4,
 "nbformat_minor": 5
}
