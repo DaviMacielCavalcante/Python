{
 "cells": [
  {
   "cell_type": "code",
   "execution_count": 1,
   "id": "6e18ad8c",
   "metadata": {},
   "outputs": [],
   "source": [
    "import re"
   ]
  },
  {
   "cell_type": "code",
   "execution_count": 2,
   "id": "d0a133a0",
   "metadata": {},
   "outputs": [],
   "source": [
    "frase = 'Olá, meu número de telefone é (42)0000-0000'"
   ]
  },
  {
   "cell_type": "code",
   "execution_count": 4,
   "id": "549ad5d2",
   "metadata": {},
   "outputs": [
    {
     "name": "stdout",
     "output_type": "stream",
     "text": [
      "<re.Match object; span=(30, 43), match='(42)0000-0000'>\n"
     ]
    }
   ],
   "source": [
    "# função search\n",
    "print(re.search('\\(\\d{2}\\)\\d{4,5}-\\d{4}', frase))"
   ]
  },
  {
   "cell_type": "code",
   "execution_count": 5,
   "id": "a34a93c0",
   "metadata": {},
   "outputs": [],
   "source": [
    "frase = 'A placa de carro que eu anotei durante o acidente foi FRT-1998'"
   ]
  },
  {
   "cell_type": "code",
   "execution_count": 7,
   "id": "2663ba39",
   "metadata": {},
   "outputs": [
    {
     "name": "stdout",
     "output_type": "stream",
     "text": [
      "<re.Match object; span=(54, 62), match='FRT-1998'>\n"
     ]
    }
   ],
   "source": [
    "print(re.search('[A-Z]{3}-\\d{4}', frase))"
   ]
  },
  {
   "cell_type": "code",
   "execution_count": 8,
   "id": "464c5598",
   "metadata": {},
   "outputs": [],
   "source": [
    "frase = 'Entre em contato, meu email é teste@teste.com'"
   ]
  },
  {
   "cell_type": "code",
   "execution_count": 9,
   "id": "7ae48d45",
   "metadata": {},
   "outputs": [
    {
     "name": "stdout",
     "output_type": "stream",
     "text": [
      "<re.Match object; span=(30, 45), match='teste@teste.com'>\n"
     ]
    }
   ],
   "source": [
    "print(re.search('\\w+@\\w+\\.com', frase))"
   ]
  },
  {
   "cell_type": "code",
   "execution_count": 10,
   "id": "3a373915",
   "metadata": {},
   "outputs": [],
   "source": [
    "# função match\n",
    "frase = 'A placa de carro que eu anotei durante o acidente foi FRT-1998'"
   ]
  },
  {
   "cell_type": "code",
   "execution_count": 12,
   "id": "0a4d4e83",
   "metadata": {},
   "outputs": [
    {
     "name": "stdout",
     "output_type": "stream",
     "text": [
      "None\n"
     ]
    }
   ],
   "source": [
    "print(re.match('[A-Z]{3}-\\d{4}', frase))"
   ]
  },
  {
   "cell_type": "code",
   "execution_count": 13,
   "id": "1b210940",
   "metadata": {},
   "outputs": [],
   "source": [
    "frase2 = 'FRT-1998 é a placa do carro'"
   ]
  },
  {
   "cell_type": "code",
   "execution_count": 14,
   "id": "1310928a",
   "metadata": {},
   "outputs": [
    {
     "name": "stdout",
     "output_type": "stream",
     "text": [
      "<re.Match object; span=(0, 8), match='FRT-1998'>\n"
     ]
    }
   ],
   "source": [
    "print(re.match('[A-Z]{3}-\\d{4}', frase2))"
   ]
  },
  {
   "cell_type": "code",
   "execution_count": 15,
   "id": "8fbf608c",
   "metadata": {},
   "outputs": [],
   "source": [
    "# função findall\n",
    "frase3 = 'Meu número de telefone atual é (42)0000-0000. O número (56)1111-1111 é o antigo.'"
   ]
  },
  {
   "cell_type": "code",
   "execution_count": 16,
   "id": "6637244e",
   "metadata": {},
   "outputs": [
    {
     "name": "stdout",
     "output_type": "stream",
     "text": [
      "['(42)0000-0000', '(56)1111-1111']\n"
     ]
    }
   ],
   "source": [
    "print(re.findall('\\(\\d{2}\\)\\d{4,5}-\\d{4}', frase3))"
   ]
  },
  {
   "cell_type": "code",
   "execution_count": 17,
   "id": "4e8b1a75",
   "metadata": {},
   "outputs": [],
   "source": [
    "emails = \"\"\"\n",
    "    Nome: Teste 1\n",
    "    email: teste1@teste.com\n",
    "    Nome: Teste 2\n",
    "    email: teste2@teste.com\n",
    "    Nome: Teste 3\n",
    "    email: teste3@teste.com.br\n",
    "\"\"\""
   ]
  },
  {
   "cell_type": "code",
   "execution_count": 20,
   "id": "76217c2d",
   "metadata": {},
   "outputs": [
    {
     "name": "stdout",
     "output_type": "stream",
     "text": [
      "['teste1@teste.com', 'teste2@teste.com', 'teste3@teste.com.br']\n"
     ]
    }
   ],
   "source": [
    "print(re.findall('\\w+@\\w+\\.\\w+.?\\w+', emails))"
   ]
  },
  {
   "cell_type": "code",
   "execution_count": null,
   "id": "2e28cae0",
   "metadata": {},
   "outputs": [],
   "source": []
  }
 ],
 "metadata": {
  "kernelspec": {
   "display_name": "Python 3 (ipykernel)",
   "language": "python",
   "name": "python3"
  },
  "language_info": {
   "codemirror_mode": {
    "name": "ipython",
    "version": 3
   },
   "file_extension": ".py",
   "mimetype": "text/x-python",
   "name": "python",
   "nbconvert_exporter": "python",
   "pygments_lexer": "ipython3",
   "version": "3.8.16"
  }
 },
 "nbformat": 4,
 "nbformat_minor": 5
}
