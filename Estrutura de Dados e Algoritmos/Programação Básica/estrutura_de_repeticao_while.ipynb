{
 "cells": [
  {
   "cell_type": "code",
   "execution_count": 2,
   "id": "8891c2e7",
   "metadata": {},
   "outputs": [
    {
     "name": "stdout",
     "output_type": "stream",
     "text": [
      "1\n",
      "2\n",
      "3\n",
      "4\n",
      "5\n",
      "---\n"
     ]
    }
   ],
   "source": [
    "numero = 1\n",
    "while numero < 6:\n",
    "    print(numero)\n",
    "    numero += 1\n",
    "print('---')"
   ]
  },
  {
   "cell_type": "code",
   "execution_count": 3,
   "id": "68fd0efd",
   "metadata": {},
   "outputs": [
    {
     "name": "stdout",
     "output_type": "stream",
     "text": [
      "5\n",
      "4\n",
      "3\n",
      "2\n",
      "1\n",
      "---\n"
     ]
    }
   ],
   "source": [
    "numero = 5\n",
    "while numero > 0:\n",
    "    print(numero)\n",
    "    numero -= 1\n",
    "print('---')"
   ]
  },
  {
   "cell_type": "code",
   "execution_count": 4,
   "id": "eeae2ff8",
   "metadata": {},
   "outputs": [
    {
     "name": "stdout",
     "output_type": "stream",
     "text": [
      "15\n"
     ]
    }
   ],
   "source": [
    "soma = 0\n",
    "numero = 1\n",
    "while numero < 6:\n",
    "    soma += numero\n",
    "    numero += 1\n",
    "print(soma)"
   ]
  },
  {
   "cell_type": "code",
   "execution_count": 3,
   "id": "8645bef2",
   "metadata": {},
   "outputs": [
    {
     "name": "stdout",
     "output_type": "stream",
     "text": [
      "Digite um número de 1 a 10: -4\n",
      "Digite um número de 1 a 10: -25\n",
      "Digite um número de 1 a 10: 300\n",
      "Digite um número de 1 a 10: 7\n"
     ]
    }
   ],
   "source": [
    "numero = -1\n",
    "while numero < 1 or numero > 10:\n",
    "    numero = int(input('Digite um número de 1 a 10: '))"
   ]
  },
  {
   "cell_type": "code",
   "execution_count": null,
   "id": "5c54988c",
   "metadata": {},
   "outputs": [],
   "source": []
  }
 ],
 "metadata": {
  "kernelspec": {
   "display_name": "Python 3",
   "language": "python",
   "name": "python3"
  },
  "language_info": {
   "codemirror_mode": {
    "name": "ipython",
    "version": 3
   },
   "file_extension": ".py",
   "mimetype": "text/x-python",
   "name": "python",
   "nbconvert_exporter": "python",
   "pygments_lexer": "ipython3",
   "version": "3.8.8"
  }
 },
 "nbformat": 4,
 "nbformat_minor": 5
}
