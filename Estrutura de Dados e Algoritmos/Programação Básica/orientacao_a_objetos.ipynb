{
 "cells": [
  {
   "cell_type": "code",
   "execution_count": 23,
   "id": "86d22650",
   "metadata": {},
   "outputs": [],
   "source": [
    "class Triangulo:\n",
    "    # Construtor\n",
    "    def __init__(self, lado1, lado2, lado3, base, altura):\n",
    "        self.lado1 = lado1\n",
    "        self.lado2 = lado2\n",
    "        self.lado3 = lado3\n",
    "        self.base = base\n",
    "        self.altura = altura\n",
    "    # Métodos\n",
    "    def area(self):\n",
    "        return (self.base * self.altura) / 2\n",
    "    \n",
    "    def tipo(self):\n",
    "        if self.lado1 > (self.lado2 + self.lado3):\n",
    "            return 'Não é um triângulo'\n",
    "        elif (self.lado1 == self.lado2) or (self.lado1 == self.lado3) or (self.lado2 == self.lado3):\n",
    "            return 'Triângulo Isóceles'\n",
    "        else:\n",
    "            return 'outro tipo de triângulo'"
   ]
  },
  {
   "cell_type": "code",
   "execution_count": 24,
   "id": "1497bc0e",
   "metadata": {},
   "outputs": [],
   "source": [
    "t1 = Triangulo(2, 1, 3, 4, 3)"
   ]
  },
  {
   "cell_type": "code",
   "execution_count": 25,
   "id": "c1eda527",
   "metadata": {},
   "outputs": [
    {
     "name": "stdout",
     "output_type": "stream",
     "text": [
      "2 1 3 4 3\n"
     ]
    }
   ],
   "source": [
    "print(t1.lado1, t1.lado2, t1.lado3, t1.base, t1.altura)"
   ]
  },
  {
   "cell_type": "code",
   "execution_count": 26,
   "id": "7a98a81b",
   "metadata": {},
   "outputs": [
    {
     "name": "stdout",
     "output_type": "stream",
     "text": [
      "6.0\n"
     ]
    }
   ],
   "source": [
    "print(t1.area())"
   ]
  },
  {
   "cell_type": "code",
   "execution_count": 27,
   "id": "e1b333a4",
   "metadata": {},
   "outputs": [
    {
     "name": "stdout",
     "output_type": "stream",
     "text": [
      "outro tipo de triângulo\n"
     ]
    }
   ],
   "source": [
    "print(t1.tipo())"
   ]
  },
  {
   "cell_type": "code",
   "execution_count": 28,
   "id": "4831a5e2",
   "metadata": {},
   "outputs": [],
   "source": [
    "t2 = Triangulo(8, 8, 8, 16, 9)"
   ]
  },
  {
   "cell_type": "code",
   "execution_count": 29,
   "id": "eb6dc00a",
   "metadata": {},
   "outputs": [
    {
     "name": "stdout",
     "output_type": "stream",
     "text": [
      "8 8 8 16 9\n"
     ]
    }
   ],
   "source": [
    "print(t2.lado1, t2.lado2, t2.lado3, t2.base, t2.altura)"
   ]
  },
  {
   "cell_type": "code",
   "execution_count": 30,
   "id": "77585da0",
   "metadata": {},
   "outputs": [
    {
     "name": "stdout",
     "output_type": "stream",
     "text": [
      "72.0\n"
     ]
    }
   ],
   "source": [
    "print(t2.area())"
   ]
  },
  {
   "cell_type": "code",
   "execution_count": 31,
   "id": "cc6d6110",
   "metadata": {},
   "outputs": [
    {
     "name": "stdout",
     "output_type": "stream",
     "text": [
      "Triângulo Isóceles\n"
     ]
    }
   ],
   "source": [
    "print(t2.tipo())"
   ]
  },
  {
   "cell_type": "code",
   "execution_count": null,
   "id": "90468d17",
   "metadata": {},
   "outputs": [],
   "source": []
  }
 ],
 "metadata": {
  "kernelspec": {
   "display_name": "Python 3 (ipykernel)",
   "language": "python",
   "name": "python3"
  },
  "language_info": {
   "codemirror_mode": {
    "name": "ipython",
    "version": 3
   },
   "file_extension": ".py",
   "mimetype": "text/x-python",
   "name": "python",
   "nbconvert_exporter": "python",
   "pygments_lexer": "ipython3",
   "version": "3.8.16"
  }
 },
 "nbformat": 4,
 "nbformat_minor": 5
}
