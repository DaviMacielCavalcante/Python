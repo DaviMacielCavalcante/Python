{
 "cells": [
  {
   "cell_type": "code",
   "execution_count": 1,
   "id": "62d611cd",
   "metadata": {},
   "outputs": [
    {
     "name": "stdout",
     "output_type": "stream",
     "text": [
      "Informe dois números\n",
      "Número 1:1\n",
      "Número 2:2\n"
     ]
    }
   ],
   "source": [
    "print('Informe dois números')\n",
    "a = int(input('Número 1:'))\n",
    "b = int(input('Número 2:'))"
   ]
  },
  {
   "cell_type": "code",
   "execution_count": 2,
   "id": "c3ba4124",
   "metadata": {},
   "outputs": [
    {
     "name": "stdout",
     "output_type": "stream",
     "text": [
      "3\n",
      "-1\n",
      "2\n",
      "0.5\n"
     ]
    }
   ],
   "source": [
    "print(a + b)\n",
    "print(a - b)\n",
    "print(a * b)\n",
    "print(a / b)"
   ]
  },
  {
   "cell_type": "code",
   "execution_count": 4,
   "id": "5668d572",
   "metadata": {},
   "outputs": [
    {
     "name": "stdout",
     "output_type": "stream",
     "text": [
      "Tempo gasto na viagem (em horas):1\n",
      "Velocidade média do veículo:12\n",
      "Quantidade de litros utlizada: 1.0\n"
     ]
    }
   ],
   "source": [
    "distancia_por_litro_de_combustivel = 12\n",
    "tempo_de_viagem = float(input('Tempo gasto na viagem (em horas):'))\n",
    "velocidade_media = float(input('Velocidade média do veículo:'))\n",
    "distancia = tempo_de_viagem * velocidade_media\n",
    "litros_usados = distancia / distancia_por_litro_de_combustivel\n",
    "print('Quantidade de litros utlizada:', litros_usados)"
   ]
  },
  {
   "cell_type": "code",
   "execution_count": null,
   "id": "540d58da",
   "metadata": {},
   "outputs": [],
   "source": []
  }
 ],
 "metadata": {
  "kernelspec": {
   "display_name": "Python 3 (ipykernel)",
   "language": "python",
   "name": "python3"
  },
  "language_info": {
   "codemirror_mode": {
    "name": "ipython",
    "version": 3
   },
   "file_extension": ".py",
   "mimetype": "text/x-python",
   "name": "python",
   "nbconvert_exporter": "python",
   "pygments_lexer": "ipython3",
   "version": "3.8.16"
  }
 },
 "nbformat": 4,
 "nbformat_minor": 5
}
