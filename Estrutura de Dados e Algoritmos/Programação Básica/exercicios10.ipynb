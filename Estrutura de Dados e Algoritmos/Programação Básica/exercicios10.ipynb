{
 "cells": [
  {
   "cell_type": "code",
   "execution_count": 32,
   "id": "9420feb6",
   "metadata": {},
   "outputs": [],
   "source": [
    "class Aluno:\n",
    "    def __init__(self, nome, nota1, nota2):\n",
    "        self.nome = nome\n",
    "        self.nota1 = nota1\n",
    "        self.nota2 = nota2\n",
    "        self.media = self.media()\n",
    "    \n",
    "    def media(self):\n",
    "        self.media = (self.nota1 + self.nota2) / 2\n",
    "        return self.media\n",
    "    \n",
    "    def mostrar_dados(self):\n",
    "        print(f'Nome: {self.nome}')\n",
    "        print(f'Nota 1: {self.nota1}')\n",
    "        print(f'Nota 2: {self.nota2}')\n",
    "        print(f'Média: {self.media}')\n",
    "    \n",
    "    def resultado(self):        \n",
    "        if self.media >= 6.0:\n",
    "            return 'Aluno aprovado.'\n",
    "        else:\n",
    "            return 'Aluno reprovado'"
   ]
  },
  {
   "cell_type": "code",
   "execution_count": 33,
   "id": "5839b48c",
   "metadata": {},
   "outputs": [],
   "source": [
    "a1 = Aluno('Caio', 6.5, 7.5)"
   ]
  },
  {
   "cell_type": "code",
   "execution_count": 34,
   "id": "581b0f2e",
   "metadata": {},
   "outputs": [
    {
     "name": "stdout",
     "output_type": "stream",
     "text": [
      "Nome: Caio\n",
      "Nota 1: 6.5\n",
      "Nota 2: 7.5\n",
      "Média: 7.0\n"
     ]
    }
   ],
   "source": [
    "a1.mostrar_dados()"
   ]
  },
  {
   "cell_type": "code",
   "execution_count": 35,
   "id": "34ca588b",
   "metadata": {},
   "outputs": [
    {
     "data": {
      "text/plain": [
       "'Aluno aprovado.'"
      ]
     },
     "execution_count": 35,
     "metadata": {},
     "output_type": "execute_result"
    }
   ],
   "source": [
    "a1.resultado()"
   ]
  },
  {
   "cell_type": "code",
   "execution_count": 36,
   "id": "ba70de6c",
   "metadata": {},
   "outputs": [],
   "source": [
    "a2 = Aluno('Rogério', 4.0, 5.0)"
   ]
  },
  {
   "cell_type": "code",
   "execution_count": 37,
   "id": "30474473",
   "metadata": {},
   "outputs": [
    {
     "name": "stdout",
     "output_type": "stream",
     "text": [
      "Nome: Rogério\n",
      "Nota 1: 4.0\n",
      "Nota 2: 5.0\n",
      "Média: 4.5\n"
     ]
    },
    {
     "data": {
      "text/plain": [
       "'Aluno reprovado'"
      ]
     },
     "execution_count": 37,
     "metadata": {},
     "output_type": "execute_result"
    }
   ],
   "source": [
    "a2.mostrar_dados()\n",
    "a2.resultado()"
   ]
  },
  {
   "cell_type": "code",
   "execution_count": null,
   "id": "7eb2868a",
   "metadata": {},
   "outputs": [],
   "source": []
  }
 ],
 "metadata": {
  "kernelspec": {
   "display_name": "Python 3 (ipykernel)",
   "language": "python",
   "name": "python3"
  },
  "language_info": {
   "codemirror_mode": {
    "name": "ipython",
    "version": 3
   },
   "file_extension": ".py",
   "mimetype": "text/x-python",
   "name": "python",
   "nbconvert_exporter": "python",
   "pygments_lexer": "ipython3",
   "version": "3.8.16"
  }
 },
 "nbformat": 4,
 "nbformat_minor": 5
}
