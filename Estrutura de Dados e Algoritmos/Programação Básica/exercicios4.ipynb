{
 "cells": [
  {
   "cell_type": "code",
   "execution_count": 4,
   "id": "1a4cdb0c",
   "metadata": {},
   "outputs": [
    {
     "name": "stdout",
     "output_type": "stream",
     "text": [
      "Informe um número: 1\n",
      "Informe um número: 2\n",
      "Informe um número: 3\n",
      "Informe um número: 4\n",
      "Informe um número: 5\n",
      "[1, 2, 3, 4, 5]\n",
      "15\n"
     ]
    }
   ],
   "source": [
    "#1\n",
    "numeros_inteiros = []\n",
    "for i in range(0, 5):\n",
    "    item = int(input('Informe um número: '))\n",
    "    numeros_inteiros.append(item)\n",
    "print(numeros_inteiros)\n",
    "total = 0\n",
    "for numeros in numeros_inteiros:\n",
    "    total += numeros\n",
    "print(total)"
   ]
  },
  {
   "cell_type": "code",
   "execution_count": 10,
   "id": "d799d2a4",
   "metadata": {},
   "outputs": [
    {
     "name": "stdout",
     "output_type": "stream",
     "text": [
      "Informe o nome do estudante: d\n",
      "Informe a nota: 5\n",
      "Informe o nome do estudante: c\n",
      "Informe a nota: 6\n",
      "Informe o nome do estudante: b\n",
      "Informe a nota: 7\n",
      "dict_items([('d', 5.0), ('c', 6.0), ('b', 7.0)])\n",
      "dict_values([5.0, 6.0, 7.0])\n",
      "6.0\n"
     ]
    }
   ],
   "source": [
    "# 2\n",
    "caderno_de_notas = {}\n",
    "for i in range (0, 3):\n",
    "    aluno = input('Informe o nome do estudante: ')\n",
    "    nota = float(input('Informe a nota: '))\n",
    "    caderno_de_notas[aluno] = nota\n",
    "print(caderno_de_notas.items())\n",
    "media = 0.0\n",
    "notas = caderno_de_notas.values()\n",
    "print(notas)\n",
    "for nota in notas:\n",
    "    media += nota\n",
    "media /= len(notas)\n",
    "print(media)"
   ]
  },
  {
   "cell_type": "code",
   "execution_count": 12,
   "id": "b1ce72e2",
   "metadata": {},
   "outputs": [],
   "source": [
    "# 3\n",
    "import numpy as np"
   ]
  },
  {
   "cell_type": "code",
   "execution_count": 15,
   "id": "4633d01d",
   "metadata": {},
   "outputs": [
    {
     "name": "stdout",
     "output_type": "stream",
     "text": [
      "17\n"
     ]
    }
   ],
   "source": [
    "matriz = np.array([[3,4,1],\n",
    "                   [3,1,5]])\n",
    "total = 0\n",
    "for i in range(matriz.shape[0]):\n",
    "    for j in range(matriz.shape[1]):\n",
    "        total += matriz[i][j]\n",
    "print(total)"
   ]
  },
  {
   "cell_type": "code",
   "execution_count": null,
   "id": "652c3fe5",
   "metadata": {},
   "outputs": [],
   "source": []
  }
 ],
 "metadata": {
  "kernelspec": {
   "display_name": "Python 3",
   "language": "python",
   "name": "python3"
  },
  "language_info": {
   "codemirror_mode": {
    "name": "ipython",
    "version": 3
   },
   "file_extension": ".py",
   "mimetype": "text/x-python",
   "name": "python",
   "nbconvert_exporter": "python",
   "pygments_lexer": "ipython3",
   "version": "3.8.8"
  }
 },
 "nbformat": 4,
 "nbformat_minor": 5
}
