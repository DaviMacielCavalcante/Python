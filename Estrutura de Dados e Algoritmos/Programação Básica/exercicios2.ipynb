{
 "cells": [
  {
   "cell_type": "code",
   "execution_count": 5,
   "id": "ab8f458d",
   "metadata": {},
   "outputs": [
    {
     "name": "stdout",
     "output_type": "stream",
     "text": [
      "Informe sua idade:-25\n",
      "Idade inválida\n"
     ]
    }
   ],
   "source": [
    "idade = int(input('Informe sua idade:'))\n",
    "if idade > 0 and idade <= 12:\n",
    "    print('Usuário criança')\n",
    "elif idade > 12 and idade <= 17:\n",
    "    print('Usuário adolescente')\n",
    "elif idade >= 18:\n",
    "    print('Usuário adulto')\n",
    "else:\n",
    "    print('Idade inválida')"
   ]
  },
  {
   "cell_type": "code",
   "execution_count": 6,
   "id": "498f2d1b",
   "metadata": {},
   "outputs": [
    {
     "name": "stdout",
     "output_type": "stream",
     "text": [
      "Recuperação\n"
     ]
    }
   ],
   "source": [
    "m1 = 2.5\n",
    "m2 = 8.5\n",
    "m3 = 5.5\n",
    "exame = False\n",
    "media = (m1 + m2 + m3) / 3\n",
    "if media >= 0.0 and media <= 4.0:\n",
    "    print('Reprovado')\n",
    "elif media >= 4.1 and media <= 6.0:\n",
    "    print('Recuperação')\n",
    "    exame = True\n",
    "else:\n",
    "    print('Aprovado')"
   ]
  },
  {
   "cell_type": "code",
   "execution_count": 7,
   "id": "71c76ece",
   "metadata": {},
   "outputs": [
    {
     "name": "stdout",
     "output_type": "stream",
     "text": [
      "Aprovado\n"
     ]
    }
   ],
   "source": [
    "nota_exame = 6.5\n",
    "if exame == True:\n",
    "    if nota_exame > 6.0:\n",
    "        print('Aprovado')"
   ]
  },
  {
   "cell_type": "code",
   "execution_count": null,
   "id": "05987bc9",
   "metadata": {},
   "outputs": [],
   "source": []
  }
 ],
 "metadata": {
  "kernelspec": {
   "display_name": "Python 3",
   "language": "python",
   "name": "python3"
  },
  "language_info": {
   "codemirror_mode": {
    "name": "ipython",
    "version": 3
   },
   "file_extension": ".py",
   "mimetype": "text/x-python",
   "name": "python",
   "nbconvert_exporter": "python",
   "pygments_lexer": "ipython3",
   "version": "3.8.8"
  }
 },
 "nbformat": 4,
 "nbformat_minor": 5
}
