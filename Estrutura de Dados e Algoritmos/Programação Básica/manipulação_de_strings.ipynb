{
 "cells": [
  {
   "cell_type": "code",
   "execution_count": 1,
   "id": "4867e909",
   "metadata": {},
   "outputs": [
    {
     "name": "stdout",
     "output_type": "stream",
     "text": [
      "casaco\n"
     ]
    }
   ],
   "source": [
    "a = 'casaco'\n",
    "print(a)"
   ]
  },
  {
   "cell_type": "code",
   "execution_count": 2,
   "id": "3ef68826",
   "metadata": {},
   "outputs": [
    {
     "name": "stdout",
     "output_type": "stream",
     "text": [
      "casaco\n",
      "CASACO\n"
     ]
    }
   ],
   "source": [
    "maiuscula = a.upper()\n",
    "print(a)\n",
    "print(maiuscula)"
   ]
  },
  {
   "cell_type": "code",
   "execution_count": 3,
   "id": "195bbd6e",
   "metadata": {},
   "outputs": [
    {
     "name": "stdout",
     "output_type": "stream",
     "text": [
      "casaco\n"
     ]
    }
   ],
   "source": [
    "minuscula = a.lower()\n",
    "print(minuscula)"
   ]
  },
  {
   "cell_type": "code",
   "execution_count": 4,
   "id": "fa9f8354",
   "metadata": {},
   "outputs": [
    {
     "name": "stdout",
     "output_type": "stream",
     "text": [
      "Casaco\n"
     ]
    }
   ],
   "source": [
    "capital = a.capitalize()\n",
    "print(capital)"
   ]
  },
  {
   "cell_type": "code",
   "execution_count": 5,
   "id": "3552a5e5",
   "metadata": {},
   "outputs": [
    {
     "name": "stdout",
     "output_type": "stream",
     "text": [
      "cas\n"
     ]
    }
   ],
   "source": [
    "metade_palavra = a[0:3]\n",
    "print(metade_palavra)"
   ]
  },
  {
   "cell_type": "code",
   "execution_count": 6,
   "id": "72862d94",
   "metadata": {},
   "outputs": [
    {
     "name": "stdout",
     "output_type": "stream",
     "text": [
      "aco\n"
     ]
    }
   ],
   "source": [
    "ultimas_letras = a[3:]\n",
    "print(ultimas_letras)"
   ]
  },
  {
   "cell_type": "code",
   "execution_count": 7,
   "id": "58f51def",
   "metadata": {},
   "outputs": [
    {
     "name": "stdout",
     "output_type": "stream",
     "text": [
      "casaco\n",
      "casinha\n"
     ]
    }
   ],
   "source": [
    "b = a.replace('aco', 'inha')\n",
    "print(a)\n",
    "print(b)"
   ]
  },
  {
   "cell_type": "code",
   "execution_count": 10,
   "id": "3678dcb9",
   "metadata": {},
   "outputs": [
    {
     "name": "stdout",
     "output_type": "stream",
     "text": [
      "casaca\n"
     ]
    }
   ],
   "source": [
    "c = a.replace('o', 'a')\n",
    "print(c)"
   ]
  },
  {
   "cell_type": "code",
   "execution_count": 11,
   "id": "2f8d41fb",
   "metadata": {},
   "outputs": [
    {
     "name": "stdout",
     "output_type": "stream",
     "text": [
      "1\n"
     ]
    }
   ],
   "source": [
    "print(c.find('a'))"
   ]
  },
  {
   "cell_type": "code",
   "execution_count": 12,
   "id": "377c7187",
   "metadata": {},
   "outputs": [
    {
     "name": "stdout",
     "output_type": "stream",
     "text": [
      "2\n"
     ]
    }
   ],
   "source": [
    "print(c.find('s'))"
   ]
  },
  {
   "cell_type": "code",
   "execution_count": 13,
   "id": "f91ee6ba",
   "metadata": {},
   "outputs": [
    {
     "name": "stdout",
     "output_type": "stream",
     "text": [
      "-1\n"
     ]
    }
   ],
   "source": [
    "print(c.find('b'))"
   ]
  },
  {
   "cell_type": "code",
   "execution_count": 14,
   "id": "1e0ada74",
   "metadata": {},
   "outputs": [
    {
     "name": "stdout",
     "output_type": "stream",
     "text": [
      "8\n"
     ]
    }
   ],
   "source": [
    "e = ' casaco '\n",
    "print(len(e))"
   ]
  },
  {
   "cell_type": "code",
   "execution_count": 15,
   "id": "6bd817a1",
   "metadata": {},
   "outputs": [
    {
     "name": "stdout",
     "output_type": "stream",
     "text": [
      "casaco\n"
     ]
    }
   ],
   "source": [
    "f = e.strip()\n",
    "print(f)"
   ]
  },
  {
   "cell_type": "code",
   "execution_count": 16,
   "id": "db513ad8",
   "metadata": {},
   "outputs": [
    {
     "name": "stdout",
     "output_type": "stream",
     "text": [
      "6\n"
     ]
    }
   ],
   "source": [
    "print(len(f))"
   ]
  },
  {
   "cell_type": "code",
   "execution_count": 17,
   "id": "b20fd5a9",
   "metadata": {},
   "outputs": [],
   "source": [
    "n1 = 14\n",
    "n2 = 16"
   ]
  },
  {
   "cell_type": "code",
   "execution_count": 18,
   "id": "5eb492cd",
   "metadata": {},
   "outputs": [
    {
     "name": "stdout",
     "output_type": "stream",
     "text": [
      "Dividindo {n1} por {n2} o resultado é {n1/n2}\n"
     ]
    }
   ],
   "source": [
    "print('Dividindo {n1} por {n2} o resultado é {n1/n2}')"
   ]
  },
  {
   "cell_type": "code",
   "execution_count": 19,
   "id": "4d2427eb",
   "metadata": {},
   "outputs": [
    {
     "name": "stdout",
     "output_type": "stream",
     "text": [
      "Dividindo 14 por 16 o resultado é 0.875\n"
     ]
    }
   ],
   "source": [
    "print(f'Dividindo {n1} por {n2} o resultado é {n1/n2}')"
   ]
  },
  {
   "cell_type": "code",
   "execution_count": null,
   "id": "fdcec211",
   "metadata": {},
   "outputs": [],
   "source": []
  }
 ],
 "metadata": {
  "kernelspec": {
   "display_name": "Python 3 (ipykernel)",
   "language": "python",
   "name": "python3"
  },
  "language_info": {
   "codemirror_mode": {
    "name": "ipython",
    "version": 3
   },
   "file_extension": ".py",
   "mimetype": "text/x-python",
   "name": "python",
   "nbconvert_exporter": "python",
   "pygments_lexer": "ipython3",
   "version": "3.8.16"
  }
 },
 "nbformat": 4,
 "nbformat_minor": 5
}
