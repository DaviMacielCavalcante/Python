{
 "cells": [
  {
   "cell_type": "code",
   "execution_count": 2,
   "id": "a5571dab",
   "metadata": {},
   "outputs": [
    {
     "name": "stdout",
     "output_type": "stream",
     "text": [
      "5 é maior que 3\n",
      "teste\n"
     ]
    }
   ],
   "source": [
    "if 5 > 3:\n",
    "    print('5 é maior que 3')\n",
    "print('teste')"
   ]
  },
  {
   "cell_type": "code",
   "execution_count": 3,
   "id": "d3f46016",
   "metadata": {},
   "outputs": [
    {
     "name": "stdout",
     "output_type": "stream",
     "text": [
      "5 é maior\n"
     ]
    }
   ],
   "source": [
    "if 5 > 4:\n",
    "    print('5 é maior')\n",
    "else:\n",
    "    print('5 não é maior')"
   ]
  },
  {
   "cell_type": "code",
   "execution_count": 5,
   "id": "953a6a22",
   "metadata": {},
   "outputs": [
    {
     "name": "stdout",
     "output_type": "stream",
     "text": [
      "n não é igual a 4 nem 3\n"
     ]
    }
   ],
   "source": [
    "n = 7\n",
    "if n ==4:\n",
    "    print('n é igual a 4')\n",
    "else:\n",
    "    if n == 3:\n",
    "        print('n é igual a 3')\n",
    "    else:\n",
    "        print('n não é igual a 4 nem 3')"
   ]
  },
  {
   "cell_type": "code",
   "execution_count": 8,
   "id": "cb78b6f4",
   "metadata": {},
   "outputs": [
    {
     "name": "stdout",
     "output_type": "stream",
     "text": [
      "x é maior que 1 e y é par\n"
     ]
    }
   ],
   "source": [
    "x = 2\n",
    "y = 4\n",
    "if (x > 1) and (y % 2 == 0):\n",
    "    print('x é maior que 1 e y é par')\n",
    "else:\n",
    "    print('Uma ou nenhuma das condições foram satisfeitas')"
   ]
  },
  {
   "cell_type": "code",
   "execution_count": 9,
   "id": "d0277539",
   "metadata": {},
   "outputs": [
    {
     "name": "stdout",
     "output_type": "stream",
     "text": [
      "x é maior que 1 ou y é par\n"
     ]
    }
   ],
   "source": [
    "x = 0\n",
    "y = 4\n",
    "if (x > 1) or (y % 2 == 0):\n",
    "    print('x é maior que 1 ou y é par')\n",
    "else:\n",
    "    print('Uma ou nenhuma das condições foram satisfeitas')"
   ]
  },
  {
   "cell_type": "code",
   "execution_count": null,
   "id": "54629a07",
   "metadata": {},
   "outputs": [],
   "source": []
  }
 ],
 "metadata": {
  "kernelspec": {
   "display_name": "Python 3 (ipykernel)",
   "language": "python",
   "name": "python3"
  },
  "language_info": {
   "codemirror_mode": {
    "name": "ipython",
    "version": 3
   },
   "file_extension": ".py",
   "mimetype": "text/x-python",
   "name": "python",
   "nbconvert_exporter": "python",
   "pygments_lexer": "ipython3",
   "version": "3.8.16"
  }
 },
 "nbformat": 4,
 "nbformat_minor": 5
}
