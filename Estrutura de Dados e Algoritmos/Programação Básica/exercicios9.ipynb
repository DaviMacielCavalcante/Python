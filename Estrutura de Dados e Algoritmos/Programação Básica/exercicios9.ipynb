{
 "cells": [
  {
   "cell_type": "code",
   "execution_count": 2,
   "id": "230e2eee",
   "metadata": {},
   "outputs": [],
   "source": [
    "import re"
   ]
  },
  {
   "cell_type": "code",
   "execution_count": 7,
   "id": "db616f88",
   "metadata": {},
   "outputs": [],
   "source": [
    "texto = 'Minha casa fica na rua Carneiro, 78. o CEP é 88388-000 e meu site é https://www.iaexpert.academy'"
   ]
  },
  {
   "cell_type": "code",
   "execution_count": 11,
   "id": "93a421e2",
   "metadata": {},
   "outputs": [
    {
     "name": "stdout",
     "output_type": "stream",
     "text": [
      "['7', '8', '8', '8', '3', '8', '8', '0', '0', '0']\n",
      "['88388-000']\n",
      "['https://www.iaexpert.academy']\n"
     ]
    }
   ],
   "source": [
    "print(re.findall('\\d', texto))\n",
    "print(re.findall('\\d{5}-\\d{3}', texto))\n",
    "print(re.findall('https?://[A-Za-z0-9./]+', texto))"
   ]
  },
  {
   "cell_type": "code",
   "execution_count": null,
   "id": "da32a88c",
   "metadata": {},
   "outputs": [],
   "source": []
  }
 ],
 "metadata": {
  "kernelspec": {
   "display_name": "Python 3 (ipykernel)",
   "language": "python",
   "name": "python3"
  },
  "language_info": {
   "codemirror_mode": {
    "name": "ipython",
    "version": 3
   },
   "file_extension": ".py",
   "mimetype": "text/x-python",
   "name": "python",
   "nbconvert_exporter": "python",
   "pygments_lexer": "ipython3",
   "version": "3.8.16"
  }
 },
 "nbformat": 4,
 "nbformat_minor": 5
}
