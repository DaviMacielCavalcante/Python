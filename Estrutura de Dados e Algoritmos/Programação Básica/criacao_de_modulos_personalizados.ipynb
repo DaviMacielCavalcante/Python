{
 "cells": [
  {
   "cell_type": "code",
   "execution_count": 1,
   "id": "09245d4a",
   "metadata": {},
   "outputs": [],
   "source": [
    "import utilitarios as ut"
   ]
  },
  {
   "cell_type": "code",
   "execution_count": 2,
   "id": "fdb6d703",
   "metadata": {},
   "outputs": [
    {
     "name": "stdout",
     "output_type": "stream",
     "text": [
      "6\n"
     ]
    }
   ],
   "source": [
    "print(ut.soma(1,2,3))"
   ]
  },
  {
   "cell_type": "code",
   "execution_count": 3,
   "id": "f4112d74",
   "metadata": {},
   "outputs": [
    {
     "name": "stdout",
     "output_type": "stream",
     "text": [
      "12\n"
     ]
    }
   ],
   "source": [
    "print(ut.mult(3,2,2))"
   ]
  },
  {
   "cell_type": "code",
   "execution_count": 4,
   "id": "d010cfcc",
   "metadata": {},
   "outputs": [
    {
     "name": "stdout",
     "output_type": "stream",
     "text": [
      "False\n"
     ]
    }
   ],
   "source": [
    "print(ut.isPalindromo('abc'))"
   ]
  },
  {
   "cell_type": "code",
   "execution_count": 5,
   "id": "b29df436",
   "metadata": {},
   "outputs": [
    {
     "name": "stdout",
     "output_type": "stream",
     "text": [
      "True\n"
     ]
    }
   ],
   "source": [
    "print(ut.isPalindromo('abccba'))"
   ]
  },
  {
   "cell_type": "code",
   "execution_count": 6,
   "id": "be8008ff",
   "metadata": {},
   "outputs": [
    {
     "name": "stdout",
     "output_type": "stream",
     "text": [
      "5.0\n"
     ]
    }
   ],
   "source": [
    "print(ut.divisao(10,2))"
   ]
  },
  {
   "cell_type": "code",
   "execution_count": null,
   "id": "e96548f7",
   "metadata": {},
   "outputs": [],
   "source": []
  }
 ],
 "metadata": {
  "kernelspec": {
   "display_name": "Python 3 (ipykernel)",
   "language": "python",
   "name": "python3"
  },
  "language_info": {
   "codemirror_mode": {
    "name": "ipython",
    "version": 3
   },
   "file_extension": ".py",
   "mimetype": "text/x-python",
   "name": "python",
   "nbconvert_exporter": "python",
   "pygments_lexer": "ipython3",
   "version": "3.8.16"
  }
 },
 "nbformat": 4,
 "nbformat_minor": 5
}
