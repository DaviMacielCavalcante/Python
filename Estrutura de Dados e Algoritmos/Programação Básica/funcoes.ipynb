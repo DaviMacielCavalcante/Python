{
 "cells": [
  {
   "cell_type": "code",
   "execution_count": 1,
   "id": "23c343ea",
   "metadata": {},
   "outputs": [],
   "source": [
    "def mensagem():\n",
    "    print('Texto da função')"
   ]
  },
  {
   "cell_type": "code",
   "execution_count": 2,
   "id": "99823f25",
   "metadata": {},
   "outputs": [
    {
     "name": "stdout",
     "output_type": "stream",
     "text": [
      "Texto da função\n"
     ]
    }
   ],
   "source": [
    "mensagem()"
   ]
  },
  {
   "cell_type": "code",
   "execution_count": 3,
   "id": "f9c9bf8a",
   "metadata": {},
   "outputs": [],
   "source": [
    "def mensagem1(texto):\n",
    "    print(texto)"
   ]
  },
  {
   "cell_type": "code",
   "execution_count": 4,
   "id": "e71a5b53",
   "metadata": {},
   "outputs": [
    {
     "name": "stdout",
     "output_type": "stream",
     "text": [
      "Hello World!\n"
     ]
    }
   ],
   "source": [
    "mensagem1('Hello World!')"
   ]
  },
  {
   "cell_type": "code",
   "execution_count": 5,
   "id": "ef06cdbd",
   "metadata": {},
   "outputs": [],
   "source": [
    "def soma(a, b):\n",
    "    print(a + b)"
   ]
  },
  {
   "cell_type": "code",
   "execution_count": 6,
   "id": "8ff09a1b",
   "metadata": {},
   "outputs": [
    {
     "name": "stdout",
     "output_type": "stream",
     "text": [
      "5\n",
      "6\n",
      "3\n"
     ]
    }
   ],
   "source": [
    "soma(2,3)\n",
    "soma(3,3)\n",
    "soma(1,2)"
   ]
  },
  {
   "cell_type": "code",
   "execution_count": 7,
   "id": "15304c88",
   "metadata": {},
   "outputs": [],
   "source": [
    "def produto(a, b):\n",
    "    return a * b"
   ]
  },
  {
   "cell_type": "code",
   "execution_count": 8,
   "id": "bbf918c1",
   "metadata": {},
   "outputs": [
    {
     "name": "stdout",
     "output_type": "stream",
     "text": [
      "6\n"
     ]
    }
   ],
   "source": [
    "r = produto(3, 2)\n",
    "print(r)"
   ]
  },
  {
   "cell_type": "code",
   "execution_count": 12,
   "id": "92891c65",
   "metadata": {},
   "outputs": [],
   "source": [
    "def calcula_energia_potencial_gravitacional(m, h, g = 10):\n",
    "    \"\"\"\n",
    "    Calcula a energia potencial gravitacional\n",
    "    Argumentos:\n",
    "    m: massa, entrada como uma variável float\n",
    "    h: altura, entrada como uma variável float\n",
    "    \n",
    "    Argumento opcional:\n",
    "    g: acelaração gravitacional, com valor default de 10\n",
    "    \"\"\"\n",
    "    e = g * m * h\n",
    "    return e"
   ]
  },
  {
   "cell_type": "code",
   "execution_count": 10,
   "id": "16e004df",
   "metadata": {},
   "outputs": [
    {
     "name": "stdout",
     "output_type": "stream",
     "text": [
      "3600\n"
     ]
    }
   ],
   "source": [
    "print(calcula_energia_potencial_gravitacional(30, 12))"
   ]
  },
  {
   "cell_type": "code",
   "execution_count": 11,
   "id": "3b59af09",
   "metadata": {},
   "outputs": [
    {
     "name": "stdout",
     "output_type": "stream",
     "text": [
      "3528.0\n"
     ]
    }
   ],
   "source": [
    "print(calcula_energia_potencial_gravitacional(30, 12, 9.8))"
   ]
  },
  {
   "cell_type": "code",
   "execution_count": 13,
   "id": "85a35f5a",
   "metadata": {},
   "outputs": [
    {
     "name": "stdout",
     "output_type": "stream",
     "text": [
      "Help on function calcula_energia_potencial_gravitacional in module __main__:\n",
      "\n",
      "calcula_energia_potencial_gravitacional(m, h, g=10)\n",
      "    Calcula a energia potencial gravitacional\n",
      "    Argumentos:\n",
      "    m: massa, entrada como uma variável float\n",
      "    h: altura, entrada como uma variável float\n",
      "    \n",
      "    Argumento opcional:\n",
      "    g: acelaração gravitacional, com valor default de 10\n",
      "\n"
     ]
    }
   ],
   "source": [
    "help(calcula_energia_potencial_gravitacional)"
   ]
  },
  {
   "cell_type": "code",
   "execution_count": null,
   "id": "cb32a71f",
   "metadata": {},
   "outputs": [],
   "source": []
  }
 ],
 "metadata": {
  "kernelspec": {
   "display_name": "Python 3",
   "language": "python",
   "name": "python3"
  },
  "language_info": {
   "codemirror_mode": {
    "name": "ipython",
    "version": 3
   },
   "file_extension": ".py",
   "mimetype": "text/x-python",
   "name": "python",
   "nbconvert_exporter": "python",
   "pygments_lexer": "ipython3",
   "version": "3.8.8"
  }
 },
 "nbformat": 4,
 "nbformat_minor": 5
}
