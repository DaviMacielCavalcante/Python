{
 "cells": [
  {
   "cell_type": "code",
   "execution_count": 2,
   "id": "2380a358",
   "metadata": {},
   "outputs": [],
   "source": [
    "numero = -3\n",
    "numero_jogos = 14\n",
    "numeros_convidados = 15"
   ]
  },
  {
   "cell_type": "code",
   "execution_count": 3,
   "id": "05eea829",
   "metadata": {},
   "outputs": [
    {
     "name": "stdout",
     "output_type": "stream",
     "text": [
      "-3\n"
     ]
    }
   ],
   "source": [
    "print(numero)"
   ]
  },
  {
   "cell_type": "code",
   "execution_count": 4,
   "id": "f15eba0f",
   "metadata": {},
   "outputs": [
    {
     "name": "stdout",
     "output_type": "stream",
     "text": [
      "-3 15\n"
     ]
    }
   ],
   "source": [
    "print(numero, numeros_convidados)"
   ]
  },
  {
   "cell_type": "code",
   "execution_count": 7,
   "id": "b93b7080",
   "metadata": {},
   "outputs": [],
   "source": [
    "pi = 3.14\n",
    "numero_euler = 2.71\n",
    "escala_terremoto = -4.55"
   ]
  },
  {
   "cell_type": "code",
   "execution_count": 8,
   "id": "8ea21689",
   "metadata": {},
   "outputs": [
    {
     "name": "stdout",
     "output_type": "stream",
     "text": [
      "3.14 2.71 -4.55\n"
     ]
    }
   ],
   "source": [
    "print(pi, numero_euler, escala_terremoto)"
   ]
  },
  {
   "cell_type": "code",
   "execution_count": 9,
   "id": "af254296",
   "metadata": {},
   "outputs": [],
   "source": [
    "letra = 'a'\n",
    "palavra1 = 'linguagem de programação'\n",
    "palavra2 = 'Python'"
   ]
  },
  {
   "cell_type": "code",
   "execution_count": 11,
   "id": "a72a3bd5",
   "metadata": {},
   "outputs": [
    {
     "name": "stdout",
     "output_type": "stream",
     "text": [
      "a linguagem de programação Python\n"
     ]
    }
   ],
   "source": [
    "print(letra, palavra1, palavra2)"
   ]
  },
  {
   "cell_type": "code",
   "execution_count": 12,
   "id": "8daa442e",
   "metadata": {},
   "outputs": [
    {
     "name": "stdout",
     "output_type": "stream",
     "text": [
      "Estou aprendendo uma linguagem de programação\n"
     ]
    }
   ],
   "source": [
    "print('Estou aprendendo uma', palavra1)"
   ]
  },
  {
   "cell_type": "code",
   "execution_count": 13,
   "id": "41974a64",
   "metadata": {},
   "outputs": [
    {
     "name": "stdout",
     "output_type": "stream",
     "text": [
      "Esta linguagem de programação se chama Python\n"
     ]
    }
   ],
   "source": [
    "print('Esta', palavra1, 'se chama', palavra2)"
   ]
  },
  {
   "cell_type": "code",
   "execution_count": 19,
   "id": "07977a7e",
   "metadata": {},
   "outputs": [
    {
     "name": "stdout",
     "output_type": "stream",
     "text": [
      "Digite sua idade: 25\n",
      "Sua idade é  25\n"
     ]
    }
   ],
   "source": [
    "idade = int(input('Digite sua idade: '))\n",
    "print('Sua idade é ', idade)"
   ]
  },
  {
   "cell_type": "code",
   "execution_count": 21,
   "id": "88b76743",
   "metadata": {},
   "outputs": [
    {
     "name": "stdout",
     "output_type": "stream",
     "text": [
      "Qual o pH do solo durante a última medição? 5.5\n",
      "O pH medido foi de 5.5\n"
     ]
    }
   ],
   "source": [
    "pH = float(input('Qual o pH do solo durante a última medição? '))\n",
    "print('O pH medido foi de', pH)"
   ]
  },
  {
   "cell_type": "code",
   "execution_count": 18,
   "id": "bc540a36",
   "metadata": {},
   "outputs": [
    {
     "name": "stdout",
     "output_type": "stream",
     "text": [
      "Qual o seu nome? Baldun\n",
      "Seu nome é Baldun\n"
     ]
    }
   ],
   "source": [
    "nome = input('Qual o seu nome? ')\n",
    "print('Seu nome é', nome)"
   ]
  },
  {
   "cell_type": "code",
   "execution_count": 20,
   "id": "a234dab2",
   "metadata": {},
   "outputs": [
    {
     "name": "stdout",
     "output_type": "stream",
     "text": [
      "25\n"
     ]
    }
   ],
   "source": [
    "print(idade)"
   ]
  },
  {
   "cell_type": "code",
   "execution_count": 22,
   "id": "6da2272f",
   "metadata": {},
   "outputs": [
    {
     "name": "stdout",
     "output_type": "stream",
     "text": [
      "30.5\n"
     ]
    }
   ],
   "source": [
    "print(idade + pH)"
   ]
  },
  {
   "cell_type": "code",
   "execution_count": null,
   "id": "c62a210a",
   "metadata": {},
   "outputs": [],
   "source": []
  }
 ],
 "metadata": {
  "kernelspec": {
   "display_name": "Python 3 (ipykernel)",
   "language": "python",
   "name": "python3"
  },
  "language_info": {
   "codemirror_mode": {
    "name": "ipython",
    "version": 3
   },
   "file_extension": ".py",
   "mimetype": "text/x-python",
   "name": "python",
   "nbconvert_exporter": "python",
   "pygments_lexer": "ipython3",
   "version": "3.8.16"
  }
 },
 "nbformat": 4,
 "nbformat_minor": 5
}
