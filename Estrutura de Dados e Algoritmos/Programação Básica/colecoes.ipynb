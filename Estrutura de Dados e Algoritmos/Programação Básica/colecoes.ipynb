{
 "cells": [
  {
   "cell_type": "code",
   "execution_count": 1,
   "id": "70d6a41e",
   "metadata": {},
   "outputs": [],
   "source": [
    "# tuplas\n",
    "tupla = ('Homo sapiens', 'Canis familiaris', 'Felis catus')"
   ]
  },
  {
   "cell_type": "code",
   "execution_count": 2,
   "id": "8ad30c18",
   "metadata": {},
   "outputs": [
    {
     "name": "stdout",
     "output_type": "stream",
     "text": [
      "('Homo sapiens', 'Canis familiaris', 'Felis catus')\n"
     ]
    }
   ],
   "source": [
    "print(tupla)"
   ]
  },
  {
   "cell_type": "code",
   "execution_count": 4,
   "id": "a99b6bc9",
   "metadata": {},
   "outputs": [
    {
     "name": "stdout",
     "output_type": "stream",
     "text": [
      "Felis catus\n"
     ]
    }
   ],
   "source": [
    "print(tupla[2])"
   ]
  },
  {
   "cell_type": "code",
   "execution_count": 6,
   "id": "6a871f04",
   "metadata": {},
   "outputs": [
    {
     "name": "stdout",
     "output_type": "stream",
     "text": [
      "1\n"
     ]
    }
   ],
   "source": [
    "print(tupla.index('Canis familiaris'))"
   ]
  },
  {
   "cell_type": "code",
   "execution_count": 7,
   "id": "e71f3b38",
   "metadata": {},
   "outputs": [
    {
     "name": "stdout",
     "output_type": "stream",
     "text": [
      "Homo sapiens\n",
      "Canis familiaris\n",
      "Felis catus\n"
     ]
    }
   ],
   "source": [
    "for elemento in tupla:\n",
    "    print(elemento)"
   ]
  },
  {
   "cell_type": "code",
   "execution_count": 8,
   "id": "8beeb395",
   "metadata": {},
   "outputs": [],
   "source": [
    "# listas\n",
    "l1 = ['Homo sapiens', 'Canis familiaris', 'Felis catus']\n",
    "l2 = ['Xenopus laevis', 'Ailuropoda melanoleuca']"
   ]
  },
  {
   "cell_type": "code",
   "execution_count": 9,
   "id": "2fc71ce5",
   "metadata": {},
   "outputs": [
    {
     "name": "stdout",
     "output_type": "stream",
     "text": [
      "['Homo sapiens', 'Canis familiaris', 'Felis catus', 'Xenopus laevis', 'Ailuropoda melanoleuca']\n"
     ]
    }
   ],
   "source": [
    "l3 = l1 + l2\n",
    "print(l3)"
   ]
  },
  {
   "cell_type": "code",
   "execution_count": 10,
   "id": "c607f51a",
   "metadata": {},
   "outputs": [
    {
     "name": "stdout",
     "output_type": "stream",
     "text": [
      "['Xenopus laevis', 'Ailuropoda melanoleuca', 'Xenopus laevis', 'Ailuropoda melanoleuca']\n"
     ]
    }
   ],
   "source": [
    "l2_2 = l2 * 2\n",
    "print(l2_2)"
   ]
  },
  {
   "cell_type": "code",
   "execution_count": 12,
   "id": "77853e9f",
   "metadata": {},
   "outputs": [
    {
     "name": "stdout",
     "output_type": "stream",
     "text": [
      "Homo sapiens\n"
     ]
    }
   ],
   "source": [
    "print(l1[0])"
   ]
  },
  {
   "cell_type": "code",
   "execution_count": 13,
   "id": "8f978127",
   "metadata": {},
   "outputs": [
    {
     "name": "stdout",
     "output_type": "stream",
     "text": [
      "['Homo sapiens', 'Canis familiaris']\n"
     ]
    }
   ],
   "source": [
    "print(l1[0:2])"
   ]
  },
  {
   "cell_type": "code",
   "execution_count": 14,
   "id": "60f9c7ac",
   "metadata": {},
   "outputs": [
    {
     "name": "stdout",
     "output_type": "stream",
     "text": [
      "['Homo sapiens', 'Canis familiaris', 'Felis catus', 'Gorila gorila']\n"
     ]
    }
   ],
   "source": [
    "l1.append('Gorila gorila')\n",
    "print(l1)"
   ]
  },
  {
   "cell_type": "code",
   "execution_count": 15,
   "id": "784641a8",
   "metadata": {},
   "outputs": [
    {
     "name": "stdout",
     "output_type": "stream",
     "text": [
      "['Homo sapiens', 'Felis catus', 'Gorila gorila']\n"
     ]
    }
   ],
   "source": [
    "l1.remove('Canis familiaris')\n",
    "print(l1)"
   ]
  },
  {
   "cell_type": "code",
   "execution_count": 16,
   "id": "1dee0049",
   "metadata": {},
   "outputs": [
    {
     "name": "stdout",
     "output_type": "stream",
     "text": [
      "['Homo sapiens', 'Felis catus']\n"
     ]
    }
   ],
   "source": [
    "l1.pop()\n",
    "print(l1)"
   ]
  },
  {
   "cell_type": "code",
   "execution_count": 17,
   "id": "4fc3b23a",
   "metadata": {},
   "outputs": [
    {
     "ename": "NameError",
     "evalue": "name 'l1' is not defined",
     "output_type": "error",
     "traceback": [
      "\u001b[1;31m---------------------------------------------------------------------------\u001b[0m",
      "\u001b[1;31mNameError\u001b[0m                                 Traceback (most recent call last)",
      "\u001b[1;32m<ipython-input-17-d2a288df4153>\u001b[0m in \u001b[0;36m<module>\u001b[1;34m\u001b[0m\n\u001b[0;32m      1\u001b[0m \u001b[1;32mdel\u001b[0m\u001b[1;33m(\u001b[0m\u001b[0ml1\u001b[0m\u001b[1;33m)\u001b[0m\u001b[1;33m\u001b[0m\u001b[1;33m\u001b[0m\u001b[0m\n\u001b[1;32m----> 2\u001b[1;33m \u001b[0mprint\u001b[0m\u001b[1;33m(\u001b[0m\u001b[0ml1\u001b[0m\u001b[1;33m)\u001b[0m\u001b[1;33m\u001b[0m\u001b[1;33m\u001b[0m\u001b[0m\n\u001b[0m",
      "\u001b[1;31mNameError\u001b[0m: name 'l1' is not defined"
     ]
    }
   ],
   "source": [
    "del(l1)\n",
    "print(l1)"
   ]
  },
  {
   "cell_type": "code",
   "execution_count": 18,
   "id": "f260ec82",
   "metadata": {},
   "outputs": [
    {
     "name": "stdout",
     "output_type": "stream",
     "text": [
      "Xenopus laevis\n",
      "Ailuropoda melanoleuca\n",
      "Xenopus laevis\n",
      "Ailuropoda melanoleuca\n"
     ]
    }
   ],
   "source": [
    "for item in l2_2:\n",
    "    print(item)"
   ]
  },
  {
   "cell_type": "code",
   "execution_count": 19,
   "id": "234037d2",
   "metadata": {},
   "outputs": [],
   "source": [
    "# dicionários\n",
    "coleta = {'Aedes aegypt': 32, 'Aedes albopictus': 22, 'Anopheles darlingi': 14}"
   ]
  },
  {
   "cell_type": "code",
   "execution_count": 20,
   "id": "ca191da5",
   "metadata": {},
   "outputs": [
    {
     "name": "stdout",
     "output_type": "stream",
     "text": [
      "32\n"
     ]
    }
   ],
   "source": [
    "print(coleta['Aedes aegypt'])"
   ]
  },
  {
   "cell_type": "code",
   "execution_count": 21,
   "id": "9503c166",
   "metadata": {},
   "outputs": [],
   "source": [
    "coleta['Rhodnius montegrensis'] = 11"
   ]
  },
  {
   "cell_type": "code",
   "execution_count": 22,
   "id": "41800f64",
   "metadata": {},
   "outputs": [
    {
     "name": "stdout",
     "output_type": "stream",
     "text": [
      "{'Aedes aegypt': 32, 'Aedes albopictus': 22, 'Anopheles darlingi': 14, 'Rhodnius montegrensis': 11}\n"
     ]
    }
   ],
   "source": [
    "print(coleta)"
   ]
  },
  {
   "cell_type": "code",
   "execution_count": 23,
   "id": "575cd3fe",
   "metadata": {},
   "outputs": [
    {
     "name": "stdout",
     "output_type": "stream",
     "text": [
      "{'Aedes aegypt': 32, 'Anopheles darlingi': 14, 'Rhodnius montegrensis': 11}\n"
     ]
    }
   ],
   "source": [
    "del(coleta)['Aedes albopictus']\n",
    "print(coleta)"
   ]
  },
  {
   "cell_type": "code",
   "execution_count": 25,
   "id": "27e0fbbb",
   "metadata": {},
   "outputs": [
    {
     "name": "stdout",
     "output_type": "stream",
     "text": [
      "dict_items([('Aedes aegypt', 32), ('Anopheles darlingi', 14), ('Rhodnius montegrensis', 11)])\n"
     ]
    }
   ],
   "source": [
    "print(coleta.items())"
   ]
  },
  {
   "cell_type": "code",
   "execution_count": 27,
   "id": "245bd1b8",
   "metadata": {},
   "outputs": [
    {
     "name": "stdout",
     "output_type": "stream",
     "text": [
      "dict_keys(['Aedes aegypt', 'Anopheles darlingi', 'Rhodnius montegrensis'])\n"
     ]
    }
   ],
   "source": [
    "print(coleta.keys())"
   ]
  },
  {
   "cell_type": "code",
   "execution_count": 28,
   "id": "95cc5b33",
   "metadata": {},
   "outputs": [
    {
     "name": "stdout",
     "output_type": "stream",
     "text": [
      "dict_values([32, 14, 11])\n"
     ]
    }
   ],
   "source": [
    "print(coleta.values())"
   ]
  },
  {
   "cell_type": "code",
   "execution_count": 29,
   "id": "d2b36ca1",
   "metadata": {},
   "outputs": [
    {
     "name": "stdout",
     "output_type": "stream",
     "text": [
      "{'Anopheles gambie': 13, 'Anopheles deaneorum': 14}\n"
     ]
    }
   ],
   "source": [
    "coleta2 = {'Anopheles gambie': 13, 'Anopheles deaneorum': 14}\n",
    "print(coleta2)"
   ]
  },
  {
   "cell_type": "code",
   "execution_count": 30,
   "id": "84f27bbb",
   "metadata": {},
   "outputs": [
    {
     "name": "stdout",
     "output_type": "stream",
     "text": [
      "{'Aedes aegypt': 32, 'Anopheles darlingi': 14, 'Rhodnius montegrensis': 11, 'Anopheles gambie': 13, 'Anopheles deaneorum': 14}\n"
     ]
    }
   ],
   "source": [
    "coleta.update(coleta2)\n",
    "print(coleta)"
   ]
  },
  {
   "cell_type": "code",
   "execution_count": 32,
   "id": "8b069df7",
   "metadata": {},
   "outputs": [
    {
     "name": "stdout",
     "output_type": "stream",
     "text": [
      "Espécie: Aedes aegypt, número de espécimes coletados: 32\n",
      "Espécie: Anopheles darlingi, número de espécimes coletados: 14\n",
      "Espécie: Rhodnius montegrensis, número de espécimes coletados: 11\n",
      "Espécie: Anopheles gambie, número de espécimes coletados: 13\n",
      "Espécie: Anopheles deaneorum, número de espécimes coletados: 14\n"
     ]
    }
   ],
   "source": [
    "for especie, num_especimes in coleta.items():\n",
    "    print(f'Espécie: {especie}, número de espécimes coletados: {num_especimes}')"
   ]
  },
  {
   "cell_type": "code",
   "execution_count": 33,
   "id": "892cd767",
   "metadata": {},
   "outputs": [],
   "source": [
    "# conjuntos\n",
    "biomoleculas = ('proteína', 'ácidos nucleicos', 'carboidrato', 'lipídeo', \n",
    "                'ácidos nucleicos', 'carboidrato', 'carboidrato', 'carboidrato')"
   ]
  },
  {
   "cell_type": "code",
   "execution_count": 34,
   "id": "8d06986b",
   "metadata": {},
   "outputs": [
    {
     "name": "stdout",
     "output_type": "stream",
     "text": [
      "('proteína', 'ácidos nucleicos', 'carboidrato', 'lipídeo', 'ácidos nucleicos', 'carboidrato', 'carboidrato', 'carboidrato')\n"
     ]
    }
   ],
   "source": [
    "print(biomoleculas)"
   ]
  },
  {
   "cell_type": "code",
   "execution_count": 35,
   "id": "7662da6c",
   "metadata": {},
   "outputs": [
    {
     "name": "stdout",
     "output_type": "stream",
     "text": [
      "{'carboidrato', 'ácidos nucleicos', 'lipídeo', 'proteína'}\n"
     ]
    }
   ],
   "source": [
    "print(set(biomoleculas))"
   ]
  },
  {
   "cell_type": "code",
   "execution_count": 36,
   "id": "65e31cf5",
   "metadata": {},
   "outputs": [],
   "source": [
    "c1 = {1,2,3,4,5}\n",
    "c2 = {3,4,5,6,7}\n",
    "c3 = c1.intersection(c2)"
   ]
  },
  {
   "cell_type": "code",
   "execution_count": 37,
   "id": "8ce6abce",
   "metadata": {},
   "outputs": [
    {
     "name": "stdout",
     "output_type": "stream",
     "text": [
      "{3, 4, 5}\n"
     ]
    }
   ],
   "source": [
    "print(c3)"
   ]
  },
  {
   "cell_type": "code",
   "execution_count": 38,
   "id": "8c971672",
   "metadata": {},
   "outputs": [
    {
     "name": "stdout",
     "output_type": "stream",
     "text": [
      "{1, 2}\n"
     ]
    }
   ],
   "source": [
    "c4 = c1.difference(c2)\n",
    "print(c4)"
   ]
  },
  {
   "cell_type": "code",
   "execution_count": 39,
   "id": "9720a98f",
   "metadata": {},
   "outputs": [
    {
     "name": "stdout",
     "output_type": "stream",
     "text": [
      "{6, 7}\n"
     ]
    }
   ],
   "source": [
    "c5 = c2.difference(c1)\n",
    "print(c5)"
   ]
  },
  {
   "cell_type": "code",
   "execution_count": null,
   "id": "397cc2dc",
   "metadata": {},
   "outputs": [],
   "source": []
  }
 ],
 "metadata": {
  "kernelspec": {
   "display_name": "Python 3 (ipykernel)",
   "language": "python",
   "name": "python3"
  },
  "language_info": {
   "codemirror_mode": {
    "name": "ipython",
    "version": 3
   },
   "file_extension": ".py",
   "mimetype": "text/x-python",
   "name": "python",
   "nbconvert_exporter": "python",
   "pygments_lexer": "ipython3",
   "version": "3.8.16"
  }
 },
 "nbformat": 4,
 "nbformat_minor": 5
}
