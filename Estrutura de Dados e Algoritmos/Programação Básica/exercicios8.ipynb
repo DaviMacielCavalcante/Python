{
 "cells": [
  {
   "cell_type": "code",
   "execution_count": 1,
   "id": "a1fabd04",
   "metadata": {},
   "outputs": [],
   "source": [
    "alunos = {'Pedro': 8.0, 'Maria': 10.0, 'Amilton': 7.5}"
   ]
  },
  {
   "cell_type": "code",
   "execution_count": 2,
   "id": "5391339e",
   "metadata": {},
   "outputs": [],
   "source": [
    "notas_alunos = open('notas.txt', 'w')"
   ]
  },
  {
   "cell_type": "code",
   "execution_count": 7,
   "id": "382f84f3",
   "metadata": {},
   "outputs": [],
   "source": [
    "for aluno, nota in alunos.items():\n",
    "    notas_alunos.write(f'{aluno},{nota}\\n')"
   ]
  },
  {
   "cell_type": "code",
   "execution_count": 8,
   "id": "bed93b95",
   "metadata": {},
   "outputs": [],
   "source": [
    "notas_alunos.close()"
   ]
  },
  {
   "cell_type": "code",
   "execution_count": 9,
   "id": "43ebe177",
   "metadata": {},
   "outputs": [],
   "source": [
    "notas_alunos = open('notas.txt', 'r')\n"
   ]
  },
  {
   "cell_type": "code",
   "execution_count": 11,
   "id": "e019646d",
   "metadata": {},
   "outputs": [],
   "source": [
    "conteudo = notas_alunos.read()"
   ]
  },
  {
   "cell_type": "code",
   "execution_count": 12,
   "id": "951a56df",
   "metadata": {},
   "outputs": [
    {
     "name": "stdout",
     "output_type": "stream",
     "text": [
      "Pedro,8.0\n",
      "Maria,10.0\n",
      "Amilton,7.5\n",
      "\n"
     ]
    }
   ],
   "source": [
    "print(conteudo)"
   ]
  },
  {
   "cell_type": "code",
   "execution_count": 13,
   "id": "c1a6143b",
   "metadata": {},
   "outputs": [],
   "source": [
    "notas_alunos.close()"
   ]
  },
  {
   "cell_type": "code",
   "execution_count": null,
   "id": "56a8c47d",
   "metadata": {},
   "outputs": [],
   "source": []
  }
 ],
 "metadata": {
  "kernelspec": {
   "display_name": "Python 3 (ipykernel)",
   "language": "python",
   "name": "python3"
  },
  "language_info": {
   "codemirror_mode": {
    "name": "ipython",
    "version": 3
   },
   "file_extension": ".py",
   "mimetype": "text/x-python",
   "name": "python",
   "nbconvert_exporter": "python",
   "pygments_lexer": "ipython3",
   "version": "3.8.16"
  }
 },
 "nbformat": 4,
 "nbformat_minor": 5
}
