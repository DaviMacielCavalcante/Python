{
 "cells": [
  {
   "cell_type": "code",
   "execution_count": 1,
   "id": "cec561a8",
   "metadata": {},
   "outputs": [],
   "source": [
    "# Biblioteca math\n",
    "import math"
   ]
  },
  {
   "cell_type": "code",
   "execution_count": 2,
   "id": "72c8655f",
   "metadata": {},
   "outputs": [
    {
     "name": "stdout",
     "output_type": "stream",
     "text": [
      "3.0\n"
     ]
    }
   ],
   "source": [
    "print(math.sqrt(9))"
   ]
  },
  {
   "cell_type": "code",
   "execution_count": 3,
   "id": "a101008f",
   "metadata": {},
   "outputs": [
    {
     "name": "stdout",
     "output_type": "stream",
     "text": [
      "0.8509035245341184\n"
     ]
    }
   ],
   "source": [
    "print(math.sin(45))"
   ]
  },
  {
   "cell_type": "code",
   "execution_count": 4,
   "id": "3da8281d",
   "metadata": {},
   "outputs": [
    {
     "name": "stdout",
     "output_type": "stream",
     "text": [
      "0.5253219888177297\n"
     ]
    }
   ],
   "source": [
    "print(math.cos(45))"
   ]
  },
  {
   "cell_type": "code",
   "execution_count": 5,
   "id": "24e038fa",
   "metadata": {},
   "outputs": [
    {
     "name": "stdout",
     "output_type": "stream",
     "text": [
      "2.9999999999999996\n"
     ]
    }
   ],
   "source": [
    "print(math.log(1000, 10))"
   ]
  },
  {
   "cell_type": "code",
   "execution_count": 6,
   "id": "915a7505",
   "metadata": {},
   "outputs": [
    {
     "name": "stdout",
     "output_type": "stream",
     "text": [
      "5.0\n"
     ]
    }
   ],
   "source": [
    "print(math.log(32, 2))"
   ]
  },
  {
   "cell_type": "code",
   "execution_count": 7,
   "id": "1d1831b7",
   "metadata": {},
   "outputs": [
    {
     "name": "stdout",
     "output_type": "stream",
     "text": [
      "6.907755278982137\n"
     ]
    }
   ],
   "source": [
    "print(math.log(1000))"
   ]
  },
  {
   "cell_type": "code",
   "execution_count": 8,
   "id": "74ee3829",
   "metadata": {},
   "outputs": [
    {
     "name": "stdout",
     "output_type": "stream",
     "text": [
      "2.718281828459045\n"
     ]
    }
   ],
   "source": [
    "print(math.e)"
   ]
  },
  {
   "cell_type": "code",
   "execution_count": 9,
   "id": "bd593635",
   "metadata": {},
   "outputs": [
    {
     "name": "stdout",
     "output_type": "stream",
     "text": [
      "3.141592653589793\n"
     ]
    }
   ],
   "source": [
    "print(math.pi)"
   ]
  },
  {
   "cell_type": "code",
   "execution_count": 10,
   "id": "fa02494e",
   "metadata": {},
   "outputs": [],
   "source": [
    "# Biblioteca datetime\n",
    "import datetime"
   ]
  },
  {
   "cell_type": "code",
   "execution_count": 11,
   "id": "7a3a9e5f",
   "metadata": {},
   "outputs": [
    {
     "data": {
      "text/plain": [
       "['MAXYEAR',\n",
       " 'MINYEAR',\n",
       " '__builtins__',\n",
       " '__cached__',\n",
       " '__doc__',\n",
       " '__file__',\n",
       " '__loader__',\n",
       " '__name__',\n",
       " '__package__',\n",
       " '__spec__',\n",
       " 'date',\n",
       " 'datetime',\n",
       " 'datetime_CAPI',\n",
       " 'sys',\n",
       " 'time',\n",
       " 'timedelta',\n",
       " 'timezone',\n",
       " 'tzinfo']"
      ]
     },
     "execution_count": 11,
     "metadata": {},
     "output_type": "execute_result"
    }
   ],
   "source": [
    "dir(datetime)"
   ]
  },
  {
   "cell_type": "code",
   "execution_count": 12,
   "id": "cd197258",
   "metadata": {},
   "outputs": [
    {
     "data": {
      "text/plain": [
       "datetime.date(2023, 6, 20)"
      ]
     },
     "execution_count": 12,
     "metadata": {},
     "output_type": "execute_result"
    }
   ],
   "source": [
    "print(datetime.date.today())"
   ]
  },
  {
   "cell_type": "code",
   "execution_count": 13,
   "id": "5a45f7ce",
   "metadata": {},
   "outputs": [
    {
     "name": "stdout",
     "output_type": "stream",
     "text": [
      "2023-06-20 08:45:11.792530\n"
     ]
    }
   ],
   "source": [
    "print(datetime.datetime.now())"
   ]
  },
  {
   "cell_type": "code",
   "execution_count": 14,
   "id": "d99d3dec",
   "metadata": {},
   "outputs": [],
   "source": [
    "data = datetime.date(2020, 7, 4)"
   ]
  },
  {
   "cell_type": "code",
   "execution_count": 15,
   "id": "11e45a46",
   "metadata": {},
   "outputs": [
    {
     "name": "stdout",
     "output_type": "stream",
     "text": [
      "2020-07-04\n"
     ]
    }
   ],
   "source": [
    "print(data)"
   ]
  },
  {
   "cell_type": "code",
   "execution_count": 16,
   "id": "3dae893c",
   "metadata": {},
   "outputs": [
    {
     "name": "stdout",
     "output_type": "stream",
     "text": [
      "4\n"
     ]
    }
   ],
   "source": [
    "print(data.day)"
   ]
  },
  {
   "cell_type": "code",
   "execution_count": 17,
   "id": "5c2c7100",
   "metadata": {},
   "outputs": [
    {
     "name": "stdout",
     "output_type": "stream",
     "text": [
      "7\n"
     ]
    }
   ],
   "source": [
    "print(data.month)"
   ]
  },
  {
   "cell_type": "code",
   "execution_count": 18,
   "id": "0d754f55",
   "metadata": {},
   "outputs": [
    {
     "name": "stdout",
     "output_type": "stream",
     "text": [
      "2020\n"
     ]
    }
   ],
   "source": [
    "print(data.year)"
   ]
  },
  {
   "cell_type": "code",
   "execution_count": 19,
   "id": "7ef7fd15",
   "metadata": {},
   "outputs": [],
   "source": [
    "horario = datetime.datetime(2020, 7, 10, 7, 30, 0)"
   ]
  },
  {
   "cell_type": "code",
   "execution_count": 20,
   "id": "af0e61c5",
   "metadata": {},
   "outputs": [
    {
     "name": "stdout",
     "output_type": "stream",
     "text": [
      "2020-07-10 07:30:00\n"
     ]
    }
   ],
   "source": [
    "print(horario)"
   ]
  },
  {
   "cell_type": "code",
   "execution_count": 21,
   "id": "5a28ba40",
   "metadata": {},
   "outputs": [
    {
     "name": "stdout",
     "output_type": "stream",
     "text": [
      "7\n"
     ]
    }
   ],
   "source": [
    "print(horario.hour)"
   ]
  },
  {
   "cell_type": "code",
   "execution_count": 22,
   "id": "e7bfa38f",
   "metadata": {},
   "outputs": [
    {
     "name": "stdout",
     "output_type": "stream",
     "text": [
      "30\n"
     ]
    }
   ],
   "source": [
    "print(horario.minute)"
   ]
  },
  {
   "cell_type": "code",
   "execution_count": 24,
   "id": "ca731581",
   "metadata": {},
   "outputs": [
    {
     "name": "stdout",
     "output_type": "stream",
     "text": [
      "0\n"
     ]
    }
   ],
   "source": [
    "print(horario.second)"
   ]
  },
  {
   "cell_type": "code",
   "execution_count": 25,
   "id": "bfc1b18b",
   "metadata": {},
   "outputs": [],
   "source": [
    "# Biblioteca random\n",
    "import random"
   ]
  },
  {
   "cell_type": "code",
   "execution_count": 26,
   "id": "a91bf63e",
   "metadata": {},
   "outputs": [
    {
     "name": "stdout",
     "output_type": "stream",
     "text": [
      "0.12250881048224249\n"
     ]
    }
   ],
   "source": [
    "print(random.random())"
   ]
  },
  {
   "cell_type": "code",
   "execution_count": 27,
   "id": "01f466fb",
   "metadata": {},
   "outputs": [
    {
     "name": "stdout",
     "output_type": "stream",
     "text": [
      "8\n"
     ]
    }
   ],
   "source": [
    "print(random.randint(1, 10))"
   ]
  },
  {
   "cell_type": "code",
   "execution_count": 28,
   "id": "73ed2d72",
   "metadata": {},
   "outputs": [
    {
     "name": "stdout",
     "output_type": "stream",
     "text": [
      "4\n"
     ]
    }
   ],
   "source": [
    "print(random.randrange(0, 10, 2))"
   ]
  },
  {
   "cell_type": "code",
   "execution_count": 29,
   "id": "d32421c8",
   "metadata": {},
   "outputs": [
    {
     "name": "stdout",
     "output_type": "stream",
     "text": [
      "0\n"
     ]
    }
   ],
   "source": [
    "print(random.randrange(0, 10, 3))"
   ]
  },
  {
   "cell_type": "code",
   "execution_count": 31,
   "id": "6b6d4318",
   "metadata": {},
   "outputs": [
    {
     "name": "stdout",
     "output_type": "stream",
     "text": [
      "['K', 'd', 13, '34-j', 'x']\n"
     ]
    }
   ],
   "source": [
    "x = ['K', 'd', 13, '34-j', 'x']\n",
    "print(x)"
   ]
  },
  {
   "cell_type": "code",
   "execution_count": 32,
   "id": "5e8d1607",
   "metadata": {},
   "outputs": [
    {
     "name": "stdout",
     "output_type": "stream",
     "text": [
      "13\n"
     ]
    }
   ],
   "source": [
    "print(random.choice(x))"
   ]
  },
  {
   "cell_type": "code",
   "execution_count": 33,
   "id": "751125d5",
   "metadata": {},
   "outputs": [],
   "source": [
    "# Biblioteca time\n",
    "import time as tm"
   ]
  },
  {
   "cell_type": "code",
   "execution_count": 34,
   "id": "f4976614",
   "metadata": {},
   "outputs": [
    {
     "name": "stdout",
     "output_type": "stream",
     "text": [
      "1687263408.2619052\n"
     ]
    }
   ],
   "source": [
    "print(tm.time())"
   ]
  },
  {
   "cell_type": "code",
   "execution_count": 35,
   "id": "70738cf0",
   "metadata": {},
   "outputs": [],
   "source": [
    "antes = tm.time()\n",
    "lista = []\n",
    "for i in range(0,100000):\n",
    "    lista.append(i)\n",
    "depois = tm.time()"
   ]
  },
  {
   "cell_type": "code",
   "execution_count": 36,
   "id": "b4ea3433",
   "metadata": {},
   "outputs": [
    {
     "name": "stdout",
     "output_type": "stream",
     "text": [
      "Tempo: 0.010567903518676758 segundos\n"
     ]
    }
   ],
   "source": [
    "intervalo = depois - antes\n",
    "print(f'Tempo: {intervalo} segundos')"
   ]
  },
  {
   "cell_type": "code",
   "execution_count": 37,
   "id": "19fee21b",
   "metadata": {},
   "outputs": [
    {
     "name": "stdout",
     "output_type": "stream",
     "text": [
      "Finalizando...\n",
      "...\n",
      "Até a próxima\n"
     ]
    }
   ],
   "source": [
    "print('Finalizando...')\n",
    "tm.sleep(2)\n",
    "print('...')\n",
    "tm.sleep(2)\n",
    "print('Até a próxima')"
   ]
  },
  {
   "cell_type": "code",
   "execution_count": null,
   "id": "9429a141",
   "metadata": {},
   "outputs": [],
   "source": []
  }
 ],
 "metadata": {
  "kernelspec": {
   "display_name": "Python 3 (ipykernel)",
   "language": "python",
   "name": "python3"
  },
  "language_info": {
   "codemirror_mode": {
    "name": "ipython",
    "version": 3
   },
   "file_extension": ".py",
   "mimetype": "text/x-python",
   "name": "python",
   "nbconvert_exporter": "python",
   "pygments_lexer": "ipython3",
   "version": "3.8.16"
  }
 },
 "nbformat": 4,
 "nbformat_minor": 5
}
