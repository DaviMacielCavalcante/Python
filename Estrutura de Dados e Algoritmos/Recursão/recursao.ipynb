{
 "cells": [
  {
   "cell_type": "code",
   "execution_count": 1,
   "id": "5a2a40e5",
   "metadata": {},
   "outputs": [
    {
     "name": "stdout",
     "output_type": "stream",
     "text": [
      "Recursão\n",
      "Recursão\n",
      "Recursão\n",
      "Recursão\n",
      "Recursão\n"
     ]
    }
   ],
   "source": [
    "for _ in range(5):\n",
    "    print('Recursão')"
   ]
  },
  {
   "cell_type": "code",
   "execution_count": 5,
   "id": "a465813e",
   "metadata": {},
   "outputs": [],
   "source": [
    "def recursao(i):\n",
    "    print('recursão')\n",
    "    i += 1\n",
    "    if i == 5:\n",
    "        return\n",
    "    else:\n",
    "        recursao(i)"
   ]
  },
  {
   "cell_type": "code",
   "execution_count": 6,
   "id": "253f5acc",
   "metadata": {},
   "outputs": [
    {
     "name": "stdout",
     "output_type": "stream",
     "text": [
      "recursão\n",
      "recursão\n",
      "recursão\n",
      "recursão\n",
      "recursão\n"
     ]
    }
   ],
   "source": [
    "recursao(0)"
   ]
  },
  {
   "cell_type": "code",
   "execution_count": 7,
   "id": "db68978c",
   "metadata": {},
   "outputs": [],
   "source": [
    "def soma1(n):\n",
    "    soma = 0\n",
    "    for i in range(n + 1):\n",
    "        soma += i\n",
    "    return soma"
   ]
  },
  {
   "cell_type": "code",
   "execution_count": 8,
   "id": "66410710",
   "metadata": {},
   "outputs": [
    {
     "data": {
      "text/plain": [
       "15"
      ]
     },
     "execution_count": 8,
     "metadata": {},
     "output_type": "execute_result"
    }
   ],
   "source": [
    "soma1(5)"
   ]
  },
  {
   "cell_type": "code",
   "execution_count": 9,
   "id": "70247fb7",
   "metadata": {},
   "outputs": [],
   "source": [
    "def soma2(n):\n",
    "    if n == 0:\n",
    "        return 0\n",
    "    return n + soma2(n - 1)"
   ]
  },
  {
   "cell_type": "code",
   "execution_count": 10,
   "id": "2a9c37ba",
   "metadata": {},
   "outputs": [
    {
     "data": {
      "text/plain": [
       "15"
      ]
     },
     "execution_count": 10,
     "metadata": {},
     "output_type": "execute_result"
    }
   ],
   "source": [
    "soma2(5)"
   ]
  },
  {
   "cell_type": "code",
   "execution_count": 11,
   "id": "0db4b099",
   "metadata": {},
   "outputs": [
    {
     "name": "stdout",
     "output_type": "stream",
     "text": [
      "4.18 µs ± 73.5 ns per loop (mean ± std. dev. of 7 runs, 100,000 loops each)\n"
     ]
    }
   ],
   "source": [
    "%timeit soma1(100)"
   ]
  },
  {
   "cell_type": "code",
   "execution_count": 12,
   "id": "aca24e4e",
   "metadata": {},
   "outputs": [
    {
     "name": "stdout",
     "output_type": "stream",
     "text": [
      "12.5 µs ± 82.8 ns per loop (mean ± std. dev. of 7 runs, 100,000 loops each)\n"
     ]
    }
   ],
   "source": [
    "%timeit soma2(100)"
   ]
  },
  {
   "cell_type": "code",
   "execution_count": 15,
   "id": "a533e9b9",
   "metadata": {},
   "outputs": [],
   "source": [
    "# Exercício 1\n",
    "def fatorial(m):\n",
    "    if m == 1:\n",
    "        return 1\n",
    "    return m * fatorial(m - 1)"
   ]
  },
  {
   "cell_type": "code",
   "execution_count": 16,
   "id": "ee8ac3c5",
   "metadata": {},
   "outputs": [
    {
     "data": {
      "text/plain": [
       "6"
      ]
     },
     "execution_count": 16,
     "metadata": {},
     "output_type": "execute_result"
    }
   ],
   "source": [
    "fatorial(3)"
   ]
  },
  {
   "cell_type": "code",
   "execution_count": 17,
   "id": "cb6e9c3e",
   "metadata": {},
   "outputs": [
    {
     "data": {
      "text/plain": [
       "24"
      ]
     },
     "execution_count": 17,
     "metadata": {},
     "output_type": "execute_result"
    }
   ],
   "source": [
    "fatorial(4)"
   ]
  },
  {
   "cell_type": "code",
   "execution_count": 18,
   "id": "a1fd1ee3",
   "metadata": {},
   "outputs": [
    {
     "data": {
      "text/plain": [
       "720"
      ]
     },
     "execution_count": 18,
     "metadata": {},
     "output_type": "execute_result"
    }
   ],
   "source": [
    "fatorial(6)"
   ]
  },
  {
   "cell_type": "code",
   "execution_count": 20,
   "id": "12007936",
   "metadata": {},
   "outputs": [
    {
     "data": {
      "text/plain": [
       "3628800"
      ]
     },
     "execution_count": 20,
     "metadata": {},
     "output_type": "execute_result"
    }
   ],
   "source": [
    "fatorial(10)"
   ]
  },
  {
   "cell_type": "code",
   "execution_count": 23,
   "id": "4e6f36b5",
   "metadata": {},
   "outputs": [],
   "source": [
    "# Exercício 2\n",
    "def elevado(m, n):\n",
    "    if n == 0:\n",
    "        return 1\n",
    "    return m * elevado(m, n - 1)"
   ]
  },
  {
   "cell_type": "code",
   "execution_count": 31,
   "id": "c2795b64",
   "metadata": {},
   "outputs": [
    {
     "data": {
      "text/plain": [
       "1"
      ]
     },
     "execution_count": 31,
     "metadata": {},
     "output_type": "execute_result"
    }
   ],
   "source": [
    "elevado(2, 0)"
   ]
  },
  {
   "cell_type": "code",
   "execution_count": 30,
   "id": "f52e413e",
   "metadata": {},
   "outputs": [
    {
     "data": {
      "text/plain": [
       "2"
      ]
     },
     "execution_count": 30,
     "metadata": {},
     "output_type": "execute_result"
    }
   ],
   "source": [
    "elevado(2, 1)"
   ]
  },
  {
   "cell_type": "code",
   "execution_count": 27,
   "id": "b77141ff",
   "metadata": {},
   "outputs": [
    {
     "data": {
      "text/plain": [
       "4"
      ]
     },
     "execution_count": 27,
     "metadata": {},
     "output_type": "execute_result"
    }
   ],
   "source": [
    "elevado(2, 2)"
   ]
  },
  {
   "cell_type": "code",
   "execution_count": 28,
   "id": "978019b6",
   "metadata": {},
   "outputs": [
    {
     "data": {
      "text/plain": [
       "8"
      ]
     },
     "execution_count": 28,
     "metadata": {},
     "output_type": "execute_result"
    }
   ],
   "source": [
    "elevado(2, 3)"
   ]
  },
  {
   "cell_type": "code",
   "execution_count": 29,
   "id": "c53a8104",
   "metadata": {},
   "outputs": [
    {
     "data": {
      "text/plain": [
       "16"
      ]
     },
     "execution_count": 29,
     "metadata": {},
     "output_type": "execute_result"
    }
   ],
   "source": [
    "elevado(2, 4)"
   ]
  },
  {
   "cell_type": "code",
   "execution_count": 32,
   "id": "4fdc51af",
   "metadata": {},
   "outputs": [
    {
     "data": {
      "text/plain": [
       "32"
      ]
     },
     "execution_count": 32,
     "metadata": {},
     "output_type": "execute_result"
    }
   ],
   "source": [
    "elevado(2, 5)"
   ]
  }
 ],
 "metadata": {
  "kernelspec": {
   "display_name": "Python 3 (ipykernel)",
   "language": "python",
   "name": "python3"
  },
  "language_info": {
   "codemirror_mode": {
    "name": "ipython",
    "version": 3
   },
   "file_extension": ".py",
   "mimetype": "text/x-python",
   "name": "python",
   "nbconvert_exporter": "python",
   "pygments_lexer": "ipython3",
   "version": "3.8.16"
  }
 },
 "nbformat": 4,
 "nbformat_minor": 5
}
