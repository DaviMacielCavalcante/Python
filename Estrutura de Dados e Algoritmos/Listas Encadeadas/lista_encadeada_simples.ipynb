{
 "cells": [
  {
   "cell_type": "code",
   "execution_count": 2,
   "id": "c7172352",
   "metadata": {},
   "outputs": [],
   "source": [
    "class No:\n",
    "    def __init__(self, valor):\n",
    "        self.valor = valor\n",
    "        self.proximo = None\n",
    "        \n",
    "    def mostrar_no(self):\n",
    "        print(self.valor)"
   ]
  },
  {
   "cell_type": "code",
   "execution_count": 26,
   "id": "5e31e078",
   "metadata": {},
   "outputs": [
    {
     "name": "stdout",
     "output_type": "stream",
     "text": [
      "1\n"
     ]
    }
   ],
   "source": [
    "no1 = No(1)\n",
    "no1.mostrar_no()"
   ]
  },
  {
   "cell_type": "code",
   "execution_count": 27,
   "id": "920889ea",
   "metadata": {},
   "outputs": [
    {
     "name": "stdout",
     "output_type": "stream",
     "text": [
      "2\n"
     ]
    }
   ],
   "source": [
    "no2 = No(2)\n",
    "no2.mostrar_no()"
   ]
  },
  {
   "cell_type": "code",
   "execution_count": 9,
   "id": "c94555e3",
   "metadata": {},
   "outputs": [],
   "source": [
    "class ListaEncadeada:\n",
    "    def __init__(self):\n",
    "        self.primeiro = None\n",
    "        \n",
    "    def insere_inicio(self, valor):\n",
    "        novo = No(valor)\n",
    "        novo.proximo = self.primeiro\n",
    "        self.primeiro = novo\n",
    "        \n",
    "    def mostrar(self):\n",
    "        if self.primeiro.proximo == None:\n",
    "            print('A lista está vazia')\n",
    "            return None\n",
    "        else:\n",
    "            atual = self.primeiro\n",
    "            while atual != None:\n",
    "                atual.mostrar_no()\n",
    "                atual = atual.proximo\n",
    "            \n",
    "    def excluir_inicio(self):\n",
    "        if self.primeiro.proximo == None:\n",
    "            print('A lista está vazia')\n",
    "            return None\n",
    "        else:\n",
    "            temp = self.primeiro        \n",
    "            self.primeiro = self.primeiro.proximo\n",
    "            return temp\n",
    "    \n",
    "    def pesquisar(self, valor):\n",
    "        if self.primeiro.proximo == None:\n",
    "            print('A lista está vazia')\n",
    "            return None\n",
    "        else:\n",
    "            atual = self.primeiro\n",
    "            while atual.valor != valor:\n",
    "                if atual.proximo == None:\n",
    "                    return None\n",
    "                else:\n",
    "                    atual = atual.proximo\n",
    "            return atual\n",
    "        \n",
    "    def excluir_posicao(self, valor):\n",
    "        atual = self.primeiro\n",
    "        anteiror = self.primeiro\n",
    "        while atual.valor != valor:\n",
    "            if atual.proximo == None:\n",
    "                return None\n",
    "            else:\n",
    "                anterior = atual\n",
    "                atual = atual.proximo\n",
    "            \n",
    "        if atual == self.primeiro:\n",
    "            self.primeiro = self.primeiro.proximo\n",
    "        else:\n",
    "            anterior.proximo = atual.proximo\n",
    "        return atual"
   ]
  },
  {
   "cell_type": "code",
   "execution_count": 29,
   "id": "f60f4390",
   "metadata": {},
   "outputs": [],
   "source": [
    "lista = ListaEncadeada()"
   ]
  },
  {
   "cell_type": "code",
   "execution_count": 30,
   "id": "83e34bc0",
   "metadata": {},
   "outputs": [],
   "source": [
    "lista.insere_inicio(1)\n",
    "lista.insere_inicio(2)\n",
    "lista.insere_inicio(3)\n",
    "lista.insere_inicio(4)\n",
    "lista.insere_inicio(5)\n"
   ]
  },
  {
   "cell_type": "code",
   "execution_count": 31,
   "id": "7583d908",
   "metadata": {},
   "outputs": [
    {
     "name": "stdout",
     "output_type": "stream",
     "text": [
      "5\n",
      "4\n",
      "3\n",
      "2\n",
      "1\n"
     ]
    }
   ],
   "source": [
    "lista.mostrar()"
   ]
  },
  {
   "cell_type": "code",
   "execution_count": 32,
   "id": "d153f00b",
   "metadata": {},
   "outputs": [
    {
     "data": {
      "text/plain": [
       "<__main__.No at 0x1338652d550>"
      ]
     },
     "execution_count": 32,
     "metadata": {},
     "output_type": "execute_result"
    }
   ],
   "source": [
    "lista.primeiro"
   ]
  },
  {
   "cell_type": "code",
   "execution_count": 10,
   "id": "1b85e32e",
   "metadata": {},
   "outputs": [
    {
     "data": {
      "text/plain": [
       "<__main__.No at 0x133ffbbcbb0>"
      ]
     },
     "execution_count": 10,
     "metadata": {},
     "output_type": "execute_result"
    }
   ],
   "source": [
    "lista.primeiro"
   ]
  },
  {
   "cell_type": "code",
   "execution_count": 11,
   "id": "13a1e98f",
   "metadata": {},
   "outputs": [
    {
     "name": "stdout",
     "output_type": "stream",
     "text": [
      "5\n"
     ]
    }
   ],
   "source": [
    "lista.primeiro.mostrar_no()"
   ]
  },
  {
   "cell_type": "code",
   "execution_count": 12,
   "id": "fee43d17",
   "metadata": {},
   "outputs": [
    {
     "data": {
      "text/plain": [
       "<__main__.No at 0x133ffbbcbb0>"
      ]
     },
     "execution_count": 12,
     "metadata": {},
     "output_type": "execute_result"
    }
   ],
   "source": [
    "lista.primeiro"
   ]
  },
  {
   "cell_type": "code",
   "execution_count": 13,
   "id": "b6f999ac",
   "metadata": {},
   "outputs": [
    {
     "data": {
      "text/plain": [
       "<__main__.No at 0x133ffbbcac0>"
      ]
     },
     "execution_count": 13,
     "metadata": {},
     "output_type": "execute_result"
    }
   ],
   "source": [
    "lista.primeiro.proximo"
   ]
  },
  {
   "cell_type": "code",
   "execution_count": 14,
   "id": "24e5d819",
   "metadata": {},
   "outputs": [
    {
     "data": {
      "text/plain": [
       "<__main__.No at 0x133ffbbcb20>"
      ]
     },
     "execution_count": 14,
     "metadata": {},
     "output_type": "execute_result"
    }
   ],
   "source": [
    "lista.primeiro.proximo.proximo"
   ]
  },
  {
   "cell_type": "code",
   "execution_count": 15,
   "id": "121a4687",
   "metadata": {},
   "outputs": [
    {
     "data": {
      "text/plain": [
       "<__main__.No at 0x133ffbbca60>"
      ]
     },
     "execution_count": 15,
     "metadata": {},
     "output_type": "execute_result"
    }
   ],
   "source": [
    "lista.primeiro.proximo.proximo.proximo"
   ]
  },
  {
   "cell_type": "code",
   "execution_count": 16,
   "id": "c196b13c",
   "metadata": {},
   "outputs": [
    {
     "data": {
      "text/plain": [
       "<__main__.No at 0x133ffbbcaf0>"
      ]
     },
     "execution_count": 16,
     "metadata": {},
     "output_type": "execute_result"
    }
   ],
   "source": [
    "lista.primeiro.proximo.proximo.proximo.proximo"
   ]
  },
  {
   "cell_type": "code",
   "execution_count": 17,
   "id": "3b04b868",
   "metadata": {},
   "outputs": [
    {
     "data": {
      "text/plain": [
       "<__main__.No at 0x133ffbbcbb0>"
      ]
     },
     "execution_count": 17,
     "metadata": {},
     "output_type": "execute_result"
    }
   ],
   "source": [
    "lista.excluir_inicio()"
   ]
  },
  {
   "cell_type": "code",
   "execution_count": 18,
   "id": "3b971e71",
   "metadata": {},
   "outputs": [
    {
     "data": {
      "text/plain": [
       "<__main__.No at 0x133ffbbcac0>"
      ]
     },
     "execution_count": 18,
     "metadata": {},
     "output_type": "execute_result"
    }
   ],
   "source": [
    "lista.excluir_inicio()"
   ]
  },
  {
   "cell_type": "code",
   "execution_count": 19,
   "id": "855c3f76",
   "metadata": {},
   "outputs": [
    {
     "name": "stdout",
     "output_type": "stream",
     "text": [
      "3\n",
      "2\n",
      "1\n"
     ]
    }
   ],
   "source": [
    "lista.mostrar()"
   ]
  },
  {
   "cell_type": "code",
   "execution_count": 20,
   "id": "202962b5",
   "metadata": {},
   "outputs": [
    {
     "name": "stdout",
     "output_type": "stream",
     "text": [
      "A lista está vazia\n"
     ]
    }
   ],
   "source": [
    "lista.excluir_inicio()\n",
    "lista.excluir_inicio()\n",
    "lista.excluir_inicio()"
   ]
  },
  {
   "cell_type": "code",
   "execution_count": 21,
   "id": "6e428b8e",
   "metadata": {},
   "outputs": [
    {
     "name": "stdout",
     "output_type": "stream",
     "text": [
      "A lista está vazia\n"
     ]
    }
   ],
   "source": [
    "lista.mostrar()"
   ]
  },
  {
   "cell_type": "code",
   "execution_count": 22,
   "id": "297b3cc5",
   "metadata": {},
   "outputs": [
    {
     "name": "stdout",
     "output_type": "stream",
     "text": [
      "A lista está vazia\n"
     ]
    }
   ],
   "source": [
    "lista.excluir_inicio()\n"
   ]
  },
  {
   "cell_type": "code",
   "execution_count": 23,
   "id": "e8ac7019",
   "metadata": {},
   "outputs": [
    {
     "name": "stdout",
     "output_type": "stream",
     "text": [
      "A lista está vazia\n"
     ]
    }
   ],
   "source": [
    "lista.mostrar()"
   ]
  },
  {
   "cell_type": "code",
   "execution_count": 35,
   "id": "bfe16384",
   "metadata": {},
   "outputs": [],
   "source": [
    "pesquisa = lista.pesquisar(11)"
   ]
  },
  {
   "cell_type": "code",
   "execution_count": 36,
   "id": "138c108a",
   "metadata": {},
   "outputs": [
    {
     "name": "stdout",
     "output_type": "stream",
     "text": [
      "Não encontrado\n"
     ]
    }
   ],
   "source": [
    "if pesquisa != None:\n",
    "    print('Encontrado: ', pesquisa.valor)\n",
    "else:\n",
    "    print('Não encontrado')"
   ]
  },
  {
   "cell_type": "code",
   "execution_count": 10,
   "id": "3a2778bf",
   "metadata": {},
   "outputs": [],
   "source": [
    "lista = ListaEncadeada()\n",
    "lista.insere_inicio(1)\n",
    "lista.insere_inicio(2)\n",
    "lista.insere_inicio(3)\n",
    "lista.insere_inicio(4)\n",
    "lista.insere_inicio(5)"
   ]
  },
  {
   "cell_type": "code",
   "execution_count": 11,
   "id": "ab1d5027",
   "metadata": {},
   "outputs": [
    {
     "name": "stdout",
     "output_type": "stream",
     "text": [
      "5\n",
      "4\n",
      "2\n",
      "1\n"
     ]
    }
   ],
   "source": [
    "lista.excluir_posicao(3)\n",
    "lista.mostrar()"
   ]
  },
  {
   "cell_type": "code",
   "execution_count": 12,
   "id": "f835cee9",
   "metadata": {},
   "outputs": [
    {
     "name": "stdout",
     "output_type": "stream",
     "text": [
      "5\n",
      "4\n",
      "2\n"
     ]
    }
   ],
   "source": [
    "lista.excluir_posicao(1)\n",
    "lista.mostrar()"
   ]
  },
  {
   "cell_type": "code",
   "execution_count": 6,
   "id": "43bdb1a4",
   "metadata": {},
   "outputs": [
    {
     "name": "stdout",
     "output_type": "stream",
     "text": [
      "5\n",
      "2\n",
      "1\n"
     ]
    }
   ],
   "source": [
    "lista.excluir_posicao(1)\n",
    "lista.mostrar()"
   ]
  },
  {
   "cell_type": "code",
   "execution_count": 13,
   "id": "04553a90",
   "metadata": {},
   "outputs": [
    {
     "name": "stdout",
     "output_type": "stream",
     "text": [
      "4\n",
      "2\n"
     ]
    }
   ],
   "source": [
    "lista.excluir_posicao(5)\n",
    "lista.mostrar()"
   ]
  }
 ],
 "metadata": {
  "kernelspec": {
   "display_name": "Python 3 (ipykernel)",
   "language": "python",
   "name": "python3"
  },
  "language_info": {
   "codemirror_mode": {
    "name": "ipython",
    "version": 3
   },
   "file_extension": ".py",
   "mimetype": "text/x-python",
   "name": "python",
   "nbconvert_exporter": "python",
   "pygments_lexer": "ipython3",
   "version": "3.8.16"
  }
 },
 "nbformat": 4,
 "nbformat_minor": 5
}
