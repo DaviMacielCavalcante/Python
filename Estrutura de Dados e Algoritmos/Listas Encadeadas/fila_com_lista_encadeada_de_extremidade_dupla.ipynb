{
 "cells": [
  {
   "cell_type": "code",
   "execution_count": 1,
   "id": "1edb740b",
   "metadata": {},
   "outputs": [],
   "source": [
    "class No:\n",
    "    def __init__(self, valor):\n",
    "        self.valor = valor\n",
    "        self.proximo = None\n",
    "        \n",
    "    def mostrar_no(self):\n",
    "        print(self.valor)"
   ]
  },
  {
   "cell_type": "code",
   "execution_count": 14,
   "id": "6b786e11",
   "metadata": {},
   "outputs": [],
   "source": [
    "class FilaListaEncadeada:\n",
    "    def __init__(self):\n",
    "        self.primeiro = None\n",
    "        self.ultimo = None\n",
    "        \n",
    "    def fila_vazia(self):\n",
    "        return self.primeiro == None\n",
    "    \n",
    "    def ver_inicio(self):\n",
    "        if self.fila_vazia():\n",
    "            print('A fila esá vazia')\n",
    "            return\n",
    "        else:\n",
    "            return self.primeiro.mostrar_no()\n",
    "        \n",
    "    def enfileirar(self, valor):\n",
    "        novo = No(valor)\n",
    "        if self.fila_vazia():\n",
    "            self.primeiro = novo\n",
    "        else:\n",
    "            self.ultimo.proximo = novo\n",
    "        self.ultimo = novo\n",
    "        \n",
    "    def desenfileirar(self):\n",
    "        if self.fila_vazia():\n",
    "            print('A fila esá vazia')\n",
    "            return\n",
    "        \n",
    "        excluido = self.primeiro\n",
    "        if self.primeiro.proximo == None:\n",
    "            self.ultimo = None\n",
    "        self.primeiro = self.primeiro.proximo\n",
    "        return excluido.valor"
   ]
  },
  {
   "cell_type": "code",
   "execution_count": 15,
   "id": "c0e9c6dd",
   "metadata": {},
   "outputs": [],
   "source": [
    "fila = FilaListaEncadeada()"
   ]
  },
  {
   "cell_type": "code",
   "execution_count": 16,
   "id": "5222482a",
   "metadata": {},
   "outputs": [],
   "source": [
    "fila.enfileirar(1)\n",
    "fila.enfileirar(2)\n",
    "fila.enfileirar(3)\n",
    "fila.enfileirar(4)\n",
    "fila.enfileirar(5)"
   ]
  },
  {
   "cell_type": "code",
   "execution_count": 17,
   "id": "4bf403ae",
   "metadata": {},
   "outputs": [
    {
     "data": {
      "text/plain": [
       "False"
      ]
     },
     "execution_count": 17,
     "metadata": {},
     "output_type": "execute_result"
    }
   ],
   "source": [
    "fila.fila_vazia()"
   ]
  },
  {
   "cell_type": "code",
   "execution_count": 18,
   "id": "d38d5fe3",
   "metadata": {},
   "outputs": [
    {
     "name": "stdout",
     "output_type": "stream",
     "text": [
      "1\n"
     ]
    }
   ],
   "source": [
    "fila.ver_inicio()"
   ]
  },
  {
   "cell_type": "code",
   "execution_count": 19,
   "id": "e337afc0",
   "metadata": {},
   "outputs": [
    {
     "data": {
      "text/plain": [
       "1"
      ]
     },
     "execution_count": 19,
     "metadata": {},
     "output_type": "execute_result"
    }
   ],
   "source": [
    "fila.desenfileirar()"
   ]
  },
  {
   "cell_type": "code",
   "execution_count": 20,
   "id": "bbe772fa",
   "metadata": {},
   "outputs": [
    {
     "name": "stdout",
     "output_type": "stream",
     "text": [
      "2\n"
     ]
    }
   ],
   "source": [
    "fila.ver_inicio()"
   ]
  },
  {
   "cell_type": "code",
   "execution_count": 21,
   "id": "f0827c72",
   "metadata": {},
   "outputs": [
    {
     "data": {
      "text/plain": [
       "5"
      ]
     },
     "execution_count": 21,
     "metadata": {},
     "output_type": "execute_result"
    }
   ],
   "source": [
    "fila.desenfileirar()\n",
    "fila.desenfileirar()\n",
    "fila.desenfileirar()\n",
    "fila.desenfileirar()"
   ]
  },
  {
   "cell_type": "code",
   "execution_count": 22,
   "id": "e951aff2",
   "metadata": {},
   "outputs": [
    {
     "name": "stdout",
     "output_type": "stream",
     "text": [
      "A fila esá vazia\n"
     ]
    }
   ],
   "source": [
    "fila.desenfileirar()"
   ]
  },
  {
   "cell_type": "code",
   "execution_count": null,
   "id": "89e06bb6",
   "metadata": {},
   "outputs": [],
   "source": []
  }
 ],
 "metadata": {
  "kernelspec": {
   "display_name": "Python 3 (ipykernel)",
   "language": "python",
   "name": "python3"
  },
  "language_info": {
   "codemirror_mode": {
    "name": "ipython",
    "version": 3
   },
   "file_extension": ".py",
   "mimetype": "text/x-python",
   "name": "python",
   "nbconvert_exporter": "python",
   "pygments_lexer": "ipython3",
   "version": "3.8.16"
  }
 },
 "nbformat": 4,
 "nbformat_minor": 5
}
