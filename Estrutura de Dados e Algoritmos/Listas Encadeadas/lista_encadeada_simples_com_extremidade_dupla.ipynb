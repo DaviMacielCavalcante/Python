{
 "cells": [
  {
   "cell_type": "code",
   "execution_count": 11,
   "id": "10be998e",
   "metadata": {},
   "outputs": [],
   "source": [
    "class No:\n",
    "    def __init__(self, valor):\n",
    "        self.valor = valor\n",
    "        self.proximo = None\n",
    "        \n",
    "    def mostrar_no(self):\n",
    "        print(self.valor)"
   ]
  },
  {
   "cell_type": "code",
   "execution_count": 12,
   "id": "f1a1061c",
   "metadata": {},
   "outputs": [],
   "source": [
    "class ListaEncadeadaExtremidadeDupla:\n",
    "    def __init__(self):\n",
    "        self.primeiro = None\n",
    "        self.ultimo = None\n",
    "    \n",
    "    def lista_vazia(self):\n",
    "        return self.primeiro == None\n",
    "    \n",
    "    def insere_inicio(self, valor):\n",
    "        novo = No(valor)\n",
    "        if self.lista_vazia():\n",
    "            self.ultimo = novo\n",
    "        novo.proximo = self.primeiro\n",
    "        self.primeiro = novo\n",
    "        \n",
    "    def insere_final(self, valor):\n",
    "        novo = No(valor)\n",
    "        if self.lista_vazia():\n",
    "            self.primeiro = novo\n",
    "        else:\n",
    "            self.ultimo.proximo = novo\n",
    "        self.ultimo = novo\n",
    "        \n",
    "    def excluir_inicio(self):\n",
    "        if self.lista_vazia():\n",
    "            print('A lista está vazia')\n",
    "            return\n",
    "        \n",
    "        temp = self.primeiro\n",
    "        if self.primeiro.proximo == None:\n",
    "            self.ultimo = None\n",
    "        self.primeiro = self.primeiro.proximo\n",
    "        return temp\n",
    "    \n",
    "    def mostrar(self):\n",
    "        if self.lista_vazia():\n",
    "            print('A lista está vazia')\n",
    "            return\n",
    "        atual = self.primeiro\n",
    "        while atual != None:\n",
    "            atual.mostrar_no()\n",
    "            atual = atual.proximo"
   ]
  },
  {
   "cell_type": "code",
   "execution_count": 6,
   "id": "23a52800",
   "metadata": {},
   "outputs": [],
   "source": [
    "lista = ListaEncadeadaExtremidadeDupla()"
   ]
  },
  {
   "cell_type": "code",
   "execution_count": 7,
   "id": "b0d40f9a",
   "metadata": {},
   "outputs": [],
   "source": [
    "lista.insere_inicio(1)"
   ]
  },
  {
   "cell_type": "code",
   "execution_count": 8,
   "id": "82a06447",
   "metadata": {},
   "outputs": [
    {
     "name": "stdout",
     "output_type": "stream",
     "text": [
      "<__main__.No object at 0x00000276AAB63550> <__main__.No object at 0x00000276AAB63550>\n"
     ]
    }
   ],
   "source": [
    "print(lista.primeiro, lista.ultimo)"
   ]
  },
  {
   "cell_type": "code",
   "execution_count": 9,
   "id": "b8394ca7",
   "metadata": {},
   "outputs": [],
   "source": [
    "lista.insere_inicio(2)\n",
    "lista.insere_inicio(3)\n",
    "lista.insere_inicio(4)\n",
    "lista.insere_inicio(5)"
   ]
  },
  {
   "cell_type": "code",
   "execution_count": 10,
   "id": "40c654d2",
   "metadata": {},
   "outputs": [
    {
     "name": "stdout",
     "output_type": "stream",
     "text": [
      "5\n",
      "4\n",
      "3\n",
      "2\n",
      "1\n"
     ]
    }
   ],
   "source": [
    "lista.mostrar()"
   ]
  },
  {
   "cell_type": "code",
   "execution_count": 11,
   "id": "2f0f87a6",
   "metadata": {},
   "outputs": [
    {
     "name": "stdout",
     "output_type": "stream",
     "text": [
      "<__main__.No object at 0x00000276AAB5FDC0> <__main__.No object at 0x00000276AAB63550>\n"
     ]
    }
   ],
   "source": [
    "print(lista.primeiro, lista.ultimo)"
   ]
  },
  {
   "cell_type": "code",
   "execution_count": 5,
   "id": "7f2febe7",
   "metadata": {},
   "outputs": [],
   "source": [
    "lista = ListaEncadeadaExtremidadeDupla()"
   ]
  },
  {
   "cell_type": "code",
   "execution_count": 6,
   "id": "9dfbc8e0",
   "metadata": {},
   "outputs": [],
   "source": [
    "lista.insere_final(1)"
   ]
  },
  {
   "cell_type": "code",
   "execution_count": 7,
   "id": "706b0757",
   "metadata": {},
   "outputs": [
    {
     "name": "stdout",
     "output_type": "stream",
     "text": [
      "<__main__.No object at 0x00000220C280D790> <__main__.No object at 0x00000220C280D790>\n"
     ]
    }
   ],
   "source": [
    "print(lista.primeiro, lista.ultimo)"
   ]
  },
  {
   "cell_type": "code",
   "execution_count": 8,
   "id": "cce12e98",
   "metadata": {},
   "outputs": [],
   "source": [
    "lista.insere_final(2)\n",
    "lista.insere_final(3)"
   ]
  },
  {
   "cell_type": "code",
   "execution_count": 9,
   "id": "f9e41aa6",
   "metadata": {},
   "outputs": [
    {
     "name": "stdout",
     "output_type": "stream",
     "text": [
      "1\n",
      "2\n",
      "3\n"
     ]
    }
   ],
   "source": [
    "lista.mostrar()"
   ]
  },
  {
   "cell_type": "code",
   "execution_count": 10,
   "id": "8e17f804",
   "metadata": {},
   "outputs": [
    {
     "name": "stdout",
     "output_type": "stream",
     "text": [
      "0\n",
      "1\n",
      "2\n",
      "3\n",
      "4\n"
     ]
    }
   ],
   "source": [
    "lista.insere_inicio(0)\n",
    "lista.insere_final(4)\n",
    "lista.mostrar()"
   ]
  },
  {
   "cell_type": "code",
   "execution_count": 13,
   "id": "27e3b326",
   "metadata": {},
   "outputs": [],
   "source": [
    "lista = ListaEncadeadaExtremidadeDupla()"
   ]
  },
  {
   "cell_type": "code",
   "execution_count": 14,
   "id": "0a9f239f",
   "metadata": {},
   "outputs": [
    {
     "name": "stdout",
     "output_type": "stream",
     "text": [
      "1\n",
      "3\n"
     ]
    }
   ],
   "source": [
    "lista.insere_inicio(1)\n",
    "lista.insere_final(3)\n",
    "lista.mostrar()"
   ]
  },
  {
   "cell_type": "code",
   "execution_count": 15,
   "id": "cc745acc",
   "metadata": {},
   "outputs": [
    {
     "name": "stdout",
     "output_type": "stream",
     "text": [
      "3\n"
     ]
    }
   ],
   "source": [
    "lista.excluir_inicio()\n",
    "lista.mostrar()"
   ]
  },
  {
   "cell_type": "code",
   "execution_count": 16,
   "id": "19d18ad6",
   "metadata": {},
   "outputs": [
    {
     "name": "stdout",
     "output_type": "stream",
     "text": [
      "A lista está vazia\n"
     ]
    }
   ],
   "source": [
    "lista.excluir_inicio()\n",
    "lista.excluir_inicio()"
   ]
  },
  {
   "cell_type": "code",
   "execution_count": 17,
   "id": "c745dffd",
   "metadata": {},
   "outputs": [
    {
     "name": "stdout",
     "output_type": "stream",
     "text": [
      "A lista está vazia\n"
     ]
    }
   ],
   "source": [
    "lista.mostrar()"
   ]
  },
  {
   "cell_type": "code",
   "execution_count": null,
   "id": "bd9bc1b8",
   "metadata": {},
   "outputs": [],
   "source": []
  }
 ],
 "metadata": {
  "kernelspec": {
   "display_name": "Python 3 (ipykernel)",
   "language": "python",
   "name": "python3"
  },
  "language_info": {
   "codemirror_mode": {
    "name": "ipython",
    "version": 3
   },
   "file_extension": ".py",
   "mimetype": "text/x-python",
   "name": "python",
   "nbconvert_exporter": "python",
   "pygments_lexer": "ipython3",
   "version": "3.8.16"
  }
 },
 "nbformat": 4,
 "nbformat_minor": 5
}
