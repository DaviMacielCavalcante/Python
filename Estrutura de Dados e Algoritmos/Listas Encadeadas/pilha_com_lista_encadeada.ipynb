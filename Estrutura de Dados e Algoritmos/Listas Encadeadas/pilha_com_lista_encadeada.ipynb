{
 "cells": [
  {
   "cell_type": "code",
   "execution_count": 1,
   "id": "8f2b7211",
   "metadata": {},
   "outputs": [],
   "source": [
    "class No:\n",
    "    def __init__(self, valor):\n",
    "        self.valor = valor\n",
    "        self.proximo = None\n",
    "        \n",
    "    def mostrar_no(self):\n",
    "        print(self.valor)"
   ]
  },
  {
   "cell_type": "code",
   "execution_count": 2,
   "id": "63e8a877",
   "metadata": {},
   "outputs": [],
   "source": [
    "class PilhaListaEncadeada:\n",
    "    \n",
    "    def __init__(self):\n",
    "        self.primeiro = None\n",
    "        \n",
    "    def empilhar(self, valor):\n",
    "        novo = No(valor)\n",
    "        novo.proximo = self.primeiro\n",
    "        self.primeiro = novo\n",
    "        \n",
    "    def pilha_vazia(self):\n",
    "        return self.primeiro.proximo == None\n",
    "    \n",
    "    def ver_topo(self):\n",
    "        if self.pilha_vazia():\n",
    "            print('A pilha está vazia')\n",
    "            return\n",
    "        else:\n",
    "            return self.primeiro.mostrar_no()\n",
    "        \n",
    "    def desempilhar(self):\n",
    "        if self.pilha_vazia():\n",
    "            print('A pilha está vazia')\n",
    "            return\n",
    "        else:\n",
    "            excluido = self.primeiro\n",
    "            self.primeiro = self.primeiro.proximo\n",
    "            return excluido.valor"
   ]
  },
  {
   "cell_type": "code",
   "execution_count": 3,
   "id": "32e8591b",
   "metadata": {},
   "outputs": [],
   "source": [
    "pilha = PilhaListaEncadeada()"
   ]
  },
  {
   "cell_type": "code",
   "execution_count": 4,
   "id": "88080374",
   "metadata": {},
   "outputs": [],
   "source": [
    "pilha.empilhar(1)\n",
    "pilha.empilhar(2)\n",
    "pilha.empilhar(3)\n",
    "pilha.empilhar(4)\n",
    "pilha.empilhar(5)"
   ]
  },
  {
   "cell_type": "code",
   "execution_count": 5,
   "id": "1f84063f",
   "metadata": {},
   "outputs": [
    {
     "name": "stdout",
     "output_type": "stream",
     "text": [
      "5\n"
     ]
    }
   ],
   "source": [
    "pilha.ver_topo()"
   ]
  },
  {
   "cell_type": "code",
   "execution_count": 6,
   "id": "3c2bf88f",
   "metadata": {},
   "outputs": [
    {
     "data": {
      "text/plain": [
       "5"
      ]
     },
     "execution_count": 6,
     "metadata": {},
     "output_type": "execute_result"
    }
   ],
   "source": [
    "pilha.desempilhar()"
   ]
  },
  {
   "cell_type": "code",
   "execution_count": 7,
   "id": "3e5e81b6",
   "metadata": {},
   "outputs": [
    {
     "name": "stdout",
     "output_type": "stream",
     "text": [
      "4\n"
     ]
    }
   ],
   "source": [
    "pilha.ver_topo()"
   ]
  },
  {
   "cell_type": "code",
   "execution_count": 8,
   "id": "39499a36",
   "metadata": {},
   "outputs": [
    {
     "name": "stdout",
     "output_type": "stream",
     "text": [
      "A pilha está vazia\n",
      "A pilha está vazia\n"
     ]
    }
   ],
   "source": [
    "pilha.desempilhar()\n",
    "pilha.desempilhar()\n",
    "pilha.desempilhar()\n",
    "pilha.desempilhar()\n",
    "pilha.ver_topo()"
   ]
  },
  {
   "cell_type": "code",
   "execution_count": null,
   "id": "edbde270",
   "metadata": {},
   "outputs": [],
   "source": []
  }
 ],
 "metadata": {
  "kernelspec": {
   "display_name": "Python 3 (ipykernel)",
   "language": "python",
   "name": "python3"
  },
  "language_info": {
   "codemirror_mode": {
    "name": "ipython",
    "version": 3
   },
   "file_extension": ".py",
   "mimetype": "text/x-python",
   "name": "python",
   "nbconvert_exporter": "python",
   "pygments_lexer": "ipython3",
   "version": "3.8.16"
  }
 },
 "nbformat": 4,
 "nbformat_minor": 5
}
