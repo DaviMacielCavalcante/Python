{
 "cells": [
  {
   "cell_type": "code",
   "execution_count": 4,
   "id": "ed8de483",
   "metadata": {},
   "outputs": [],
   "source": [
    "class No:\n",
    "    \n",
    "    def __init__(self, valor):\n",
    "        self.valor = valor\n",
    "        self.proximo = None\n",
    "        self.anterior = None\n",
    "        \n",
    "    def mostrar_no(self):\n",
    "        print(self.valor)"
   ]
  },
  {
   "cell_type": "code",
   "execution_count": 12,
   "id": "3c0f8391",
   "metadata": {},
   "outputs": [],
   "source": [
    "class ListaDuplamenteEncadeada:\n",
    "    \n",
    "    def __init__(self):\n",
    "        self.primeiro = None\n",
    "        self.ultimo = None\n",
    "        \n",
    "    def lista_vazia(self):\n",
    "        return self.primeiro == None\n",
    "    \n",
    "    def insere_inicio(self, valor):\n",
    "        novo = No(valor)\n",
    "        if self.lista_vazia():\n",
    "            self.ultimo = novo\n",
    "        else:\n",
    "            self.primeiro.anterior = novo\n",
    "        novo.proximo = self.primeiro\n",
    "        self.primeiro = novo\n",
    "        \n",
    "    def insere_final(self, valor):\n",
    "        novo = No(valor)\n",
    "        if self.lista_vazia():\n",
    "            self.primeiro = novo\n",
    "        else:\n",
    "            self.ultimo.proximo = novo\n",
    "            novo.anterior = self.ultimo\n",
    "        self.ultimo = novo\n",
    "        \n",
    "    def excluir_inicio(self):\n",
    "        temp = self.primeiro\n",
    "        if self.primeiro.proximo == None:\n",
    "            self.ultimo = None\n",
    "        else:\n",
    "            self.primeiro.proximo.anterior = None\n",
    "        self.primeiro = self.primeiro.proximo\n",
    "        return temp\n",
    "    \n",
    "    def excluir_final(self):\n",
    "        temp = self.ultimo\n",
    "        if self.primeiro.proximo == None:\n",
    "            self.primeiro = None\n",
    "        else:\n",
    "            self.ultimo.anterior.proximo = None\n",
    "        self.ultimo  = self.ultimo.anterior\n",
    "        return temp\n",
    "    \n",
    "    def excluir_posicao(self, valor):\n",
    "        atual = self.primeiro\n",
    "        while atual.valor != valor:\n",
    "            atual = atual.proximo\n",
    "            if atual == None:\n",
    "                return None\n",
    "        if atual == self.primeiro:\n",
    "            self.primeiro = atual.proximo\n",
    "        else:\n",
    "            atual.anterior.proximo = atual.proximo\n",
    "        \n",
    "        if atual == self.ultimo:\n",
    "            self.ultimo = atual.anterior\n",
    "        else:\n",
    "            atual.proximo.anterior = atual.anterior\n",
    "        return atual\n",
    "        \n",
    "    def mostrar_frente(self):\n",
    "        atual = self.primeiro\n",
    "        while atual != None:\n",
    "            atual.mostrar_no()\n",
    "            atual = atual.proximo\n",
    "            \n",
    "    def mostrar_tras(self):\n",
    "        atual = self.ultimo\n",
    "        while atual != None:\n",
    "            atual.mostrar_no()\n",
    "            atual = atual.anterior"
   ]
  },
  {
   "cell_type": "code",
   "execution_count": 4,
   "id": "a542d71c",
   "metadata": {},
   "outputs": [],
   "source": [
    "lista = ListaDuplamenteEncadeada()"
   ]
  },
  {
   "cell_type": "code",
   "execution_count": 5,
   "id": "cb2b4a6e",
   "metadata": {},
   "outputs": [
    {
     "name": "stdout",
     "output_type": "stream",
     "text": [
      "5\n",
      "4\n",
      "3\n",
      "2\n",
      "1\n"
     ]
    }
   ],
   "source": [
    "lista.insere_inicio(1)\n",
    "lista.insere_inicio(2)\n",
    "lista.insere_inicio(3)\n",
    "lista.insere_inicio(4)\n",
    "lista.insere_inicio(5)\n",
    "lista.mostrar_frente()"
   ]
  },
  {
   "cell_type": "code",
   "execution_count": 6,
   "id": "1cba7f6b",
   "metadata": {},
   "outputs": [
    {
     "name": "stdout",
     "output_type": "stream",
     "text": [
      "<__main__.No object at 0x00000226828D3CA0> <__main__.No object at 0x00000226828D3DF0>\n"
     ]
    }
   ],
   "source": [
    "print(lista.primeiro, lista.ultimo)"
   ]
  },
  {
   "cell_type": "code",
   "execution_count": 7,
   "id": "0c66d810",
   "metadata": {},
   "outputs": [
    {
     "name": "stdout",
     "output_type": "stream",
     "text": [
      "5 1\n"
     ]
    }
   ],
   "source": [
    "print(lista.primeiro.valor, lista.ultimo.valor)"
   ]
  },
  {
   "cell_type": "code",
   "execution_count": 8,
   "id": "f74eeec0",
   "metadata": {},
   "outputs": [
    {
     "name": "stdout",
     "output_type": "stream",
     "text": [
      "1\n",
      "2\n",
      "3\n",
      "4\n",
      "5\n"
     ]
    }
   ],
   "source": [
    "lista.mostrar_tras()"
   ]
  },
  {
   "cell_type": "code",
   "execution_count": 11,
   "id": "dc41ee83",
   "metadata": {},
   "outputs": [],
   "source": [
    "lista = ListaDuplamenteEncadeada()"
   ]
  },
  {
   "cell_type": "code",
   "execution_count": 12,
   "id": "f1c440bf",
   "metadata": {},
   "outputs": [],
   "source": [
    "lista.insere_inicio(1)\n",
    "lista.insere_inicio(2)\n",
    "lista.insere_final(3)\n",
    "lista.insere_final(4)"
   ]
  },
  {
   "cell_type": "code",
   "execution_count": 13,
   "id": "18c3d2d3",
   "metadata": {},
   "outputs": [
    {
     "name": "stdout",
     "output_type": "stream",
     "text": [
      "2\n",
      "1\n",
      "3\n",
      "4\n"
     ]
    }
   ],
   "source": [
    "lista.mostrar_frente()"
   ]
  },
  {
   "cell_type": "code",
   "execution_count": 6,
   "id": "00aeb00e",
   "metadata": {},
   "outputs": [],
   "source": [
    "lista = ListaDuplamenteEncadeada()"
   ]
  },
  {
   "cell_type": "code",
   "execution_count": 7,
   "id": "0078e1a3",
   "metadata": {},
   "outputs": [],
   "source": [
    "lista.insere_inicio(1)\n",
    "lista.insere_inicio(2)\n",
    "lista.insere_inicio(3)\n",
    "lista.insere_inicio(4)\n",
    "lista.insere_inicio(5)"
   ]
  },
  {
   "cell_type": "code",
   "execution_count": 8,
   "id": "24bc9a2c",
   "metadata": {},
   "outputs": [
    {
     "name": "stdout",
     "output_type": "stream",
     "text": [
      "5\n",
      "4\n",
      "3\n",
      "2\n",
      "1\n"
     ]
    }
   ],
   "source": [
    "lista.mostrar_frente()"
   ]
  },
  {
   "cell_type": "code",
   "execution_count": 9,
   "id": "121c5d5d",
   "metadata": {},
   "outputs": [
    {
     "name": "stdout",
     "output_type": "stream",
     "text": [
      "4\n",
      "3\n",
      "2\n",
      "1\n"
     ]
    }
   ],
   "source": [
    "lista.excluir_inicio()\n",
    "lista.mostrar_frente()"
   ]
  },
  {
   "cell_type": "code",
   "execution_count": 10,
   "id": "7200c4dc",
   "metadata": {},
   "outputs": [
    {
     "name": "stdout",
     "output_type": "stream",
     "text": [
      "4\n",
      "3\n",
      "2\n"
     ]
    }
   ],
   "source": [
    "lista.excluir_final()\n",
    "lista.mostrar_frente()"
   ]
  },
  {
   "cell_type": "code",
   "execution_count": 11,
   "id": "2e0539d3",
   "metadata": {},
   "outputs": [
    {
     "name": "stdout",
     "output_type": "stream",
     "text": [
      "2\n",
      "3\n",
      "4\n"
     ]
    }
   ],
   "source": [
    "lista.mostrar_tras()"
   ]
  },
  {
   "cell_type": "code",
   "execution_count": 13,
   "id": "cbf45079",
   "metadata": {},
   "outputs": [],
   "source": [
    "lista = ListaDuplamenteEncadeada()\n",
    "lista.insere_inicio(1)\n",
    "lista.insere_inicio(2)\n",
    "lista.insere_inicio(3)\n",
    "lista.insere_inicio(4)\n",
    "lista.insere_inicio(5)"
   ]
  },
  {
   "cell_type": "code",
   "execution_count": 14,
   "id": "a6d0bf18",
   "metadata": {},
   "outputs": [
    {
     "name": "stdout",
     "output_type": "stream",
     "text": [
      "5\n",
      "4\n",
      "3\n",
      "2\n",
      "1\n"
     ]
    }
   ],
   "source": [
    "lista.mostrar_frente()"
   ]
  },
  {
   "cell_type": "code",
   "execution_count": 15,
   "id": "989c292a",
   "metadata": {},
   "outputs": [
    {
     "data": {
      "text/plain": [
       "<__main__.No at 0x12e92018610>"
      ]
     },
     "execution_count": 15,
     "metadata": {},
     "output_type": "execute_result"
    }
   ],
   "source": [
    "lista.excluir_posicao(3)"
   ]
  },
  {
   "cell_type": "code",
   "execution_count": 18,
   "id": "591cc2f0",
   "metadata": {},
   "outputs": [
    {
     "name": "stdout",
     "output_type": "stream",
     "text": [
      "5\n",
      "4\n",
      "2\n",
      "1\n",
      "\n",
      "1\n",
      "2\n",
      "4\n",
      "5\n"
     ]
    }
   ],
   "source": [
    "lista.mostrar_frente()\n",
    "print()\n",
    "lista.mostrar_tras()"
   ]
  },
  {
   "cell_type": "code",
   "execution_count": 19,
   "id": "d6f99737",
   "metadata": {},
   "outputs": [
    {
     "data": {
      "text/plain": [
       "<__main__.No at 0x12e91e82dc0>"
      ]
     },
     "execution_count": 19,
     "metadata": {},
     "output_type": "execute_result"
    }
   ],
   "source": [
    "lista.excluir_posicao(5)"
   ]
  },
  {
   "cell_type": "code",
   "execution_count": 20,
   "id": "ec03d84a",
   "metadata": {},
   "outputs": [
    {
     "data": {
      "text/plain": [
       "<__main__.No at 0x12e940d3760>"
      ]
     },
     "execution_count": 20,
     "metadata": {},
     "output_type": "execute_result"
    }
   ],
   "source": [
    "lista.excluir_posicao(1)"
   ]
  },
  {
   "cell_type": "code",
   "execution_count": 21,
   "id": "946b5d0d",
   "metadata": {},
   "outputs": [
    {
     "name": "stdout",
     "output_type": "stream",
     "text": [
      "4\n",
      "2\n",
      "\n",
      "2\n",
      "4\n"
     ]
    }
   ],
   "source": [
    "lista.mostrar_frente()\n",
    "print()\n",
    "lista.mostrar_tras()"
   ]
  },
  {
   "cell_type": "code",
   "execution_count": null,
   "id": "87272628",
   "metadata": {},
   "outputs": [],
   "source": []
  }
 ],
 "metadata": {
  "kernelspec": {
   "display_name": "Python 3 (ipykernel)",
   "language": "python",
   "name": "python3"
  },
  "language_info": {
   "codemirror_mode": {
    "name": "ipython",
    "version": 3
   },
   "file_extension": ".py",
   "mimetype": "text/x-python",
   "name": "python",
   "nbconvert_exporter": "python",
   "pygments_lexer": "ipython3",
   "version": "3.8.16"
  }
 },
 "nbformat": 4,
 "nbformat_minor": 5
}
