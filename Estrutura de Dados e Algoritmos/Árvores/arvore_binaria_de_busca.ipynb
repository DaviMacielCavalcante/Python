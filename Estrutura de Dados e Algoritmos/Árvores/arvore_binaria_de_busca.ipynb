{
 "cells": [
  {
   "cell_type": "code",
   "execution_count": 1,
   "id": "ebaa3ad6",
   "metadata": {},
   "outputs": [],
   "source": [
    "class No:\n",
    "    def __init__(self, valor):\n",
    "        self.valor = valor\n",
    "        self.esquerda = None\n",
    "        self.direita = None\n",
    "        \n",
    "    def mostrar_no(self):\n",
    "        print(self.valor)"
   ]
  },
  {
   "cell_type": "code",
   "execution_count": 8,
   "id": "336de44f",
   "metadata": {},
   "outputs": [],
   "source": [
    "class ArvoreBinariaDeBusca:\n",
    "    def __init__(self):\n",
    "        self.raiz = None\n",
    "        \n",
    "    def inserir(self, valor):\n",
    "        novo = No(valor)\n",
    "        # Se a árvore estiver vazia\n",
    "        if self.raiz == None:\n",
    "            self.raiz = novo\n",
    "        else:\n",
    "            atual = self.raiz\n",
    "            while True:\n",
    "                pai = atual\n",
    "                #Esquerda\n",
    "                if valor < atual.valor:\n",
    "                    atual = atual.esquerda\n",
    "                    if atual == None:\n",
    "                        pai.esquerda = novo\n",
    "                        \n",
    "                        return\n",
    "                #Direita\n",
    "                else:\n",
    "                    atual = atual.direita\n",
    "                    if atual == None:\n",
    "                        pai.direita = novo\n",
    "                        \n",
    "                        return\n",
    "    \n",
    "    def pesquisar(self, valor):\n",
    "        atual = self.raiz\n",
    "        while atual.valor != valor:\n",
    "            if valor < atual.valor:\n",
    "                atual = atual.esquerda\n",
    "            else:\n",
    "                atual = atual.direita\n",
    "            if atual == None:\n",
    "                return None\n",
    "        return atual\n",
    "    \n",
    "    # Raiz, esquerda, direita\n",
    "    def pre_ordem(self, no):\n",
    "        if no != None:\n",
    "            print(no.valor)\n",
    "            self.pre_ordem(no.esquerda)\n",
    "            self.pre_ordem(no.direita)\n",
    "    \n",
    "    # Esquerda, raiz, direita\n",
    "    def em_ordem(self, no):\n",
    "        if no != None:\n",
    "            self.em_ordem(no.esquerda)\n",
    "            print(no.valor)\n",
    "            self.em_ordem(no.direita)\n",
    "    \n",
    "    # Esquerda, direita, raiz\n",
    "    def pos_ordem(self, no):\n",
    "        if no != None:\n",
    "            self.pos_ordem(no.esquerda)\n",
    "            self.pos_ordem(no.direita)\n",
    "            print(no.valor)\n",
    "            \n",
    "    def excluir(self, valor):\n",
    "        if self.raiz == None:\n",
    "            print('A árvore está vazia')\n",
    "            return\n",
    "        \n",
    "        # Encontrar o nó\n",
    "        atual = self.raiz\n",
    "        pai = self.raiz\n",
    "        e_esquerda = True\n",
    "        while atual.valor != valor:\n",
    "            pai = atual\n",
    "            # Esquerda\n",
    "            if valor < atual.valor:\n",
    "                e_esquerda = True\n",
    "                atual = atual.esquerda\n",
    "            # Direita\n",
    "            else:\n",
    "                e_esquerda = False\n",
    "                atual = atual.direita\n",
    "            if atual == None:\n",
    "                return False\n",
    "            \n",
    "        # O Nó a ser apagado é uma folha\n",
    "        if atual.esquerda == None and atual.direita == None:\n",
    "            if  atual == self.raiz:\n",
    "                self.raiz = None\n",
    "            elif e_esquerda == True:\n",
    "                \n",
    "                pai.esquerda = None\n",
    "            else:\n",
    "                \n",
    "                pai.direita = None\n",
    "                \n",
    "        # O nó a ser apagado não possui filho na direita\n",
    "        elif atual.direita == None:\n",
    "            \n",
    "            if atual == self.raiz:\n",
    "                self.raiz = atual.esquerda\n",
    "                \n",
    "            elif e_esquerda == True:\n",
    "                pai.esquerda = atual.esquerda\n",
    "                \n",
    "            else:\n",
    "                pai.direita = atual.esquerda\n",
    "                \n",
    "        # O nó a ser apagado não possui filho na esquerda\n",
    "        elif atual.esquerda == None:\n",
    "            \n",
    "            if atual == self.raiz:\n",
    "                self.raiz = atual.direita\n",
    "                \n",
    "            elif e_esquerda == True:\n",
    "                pai.esquerda = atual.direita\n",
    "                \n",
    "            else:\n",
    "                pai.direita = atual.direita\n",
    "                \n",
    "        # O nó possui dois filhos\n",
    "        else:\n",
    "            sucessor = self.get_sucessor(atual)           \n",
    "            \n",
    "            if atual == self.raiz:                \n",
    "                self.raiz = sucessor\n",
    "            elif e_esquerda == True:                \n",
    "                pai.esquerda =  sucessor\n",
    "            else:                \n",
    "                pai.direita = sucessor        \n",
    "                          \n",
    "            return True\n",
    "                \n",
    "    def get_sucessor(self, no):\n",
    "        pai_sucessor = no\n",
    "        sucessor = no\n",
    "        atual = no.direita\n",
    "        while atual != None:\n",
    "            pai_sucessor = sucessor\n",
    "            sucessor = atual\n",
    "            atual = atual.esquerda\n",
    "        if sucessor != no.direita:\n",
    "            pai_sucessor.esquerda = sucessor.direita\n",
    "            sucessor.direita = no.direita\n",
    "        return sucessor"
   ]
  },
  {
   "cell_type": "markdown",
   "id": "daa9e3fa",
   "metadata": {},
   "source": [
    "### Inserção e visualização"
   ]
  },
  {
   "cell_type": "code",
   "execution_count": 9,
   "id": "03e81e7b",
   "metadata": {},
   "outputs": [],
   "source": [
    "arvore = ArvoreBinariaDeBusca()\n",
    "arvore.inserir(53)\n",
    "arvore.inserir(30)\n",
    "arvore.inserir(14)\n",
    "arvore.inserir(39)\n",
    "arvore.inserir(9)\n",
    "arvore.inserir(23)\n",
    "arvore.inserir(34)\n",
    "arvore.inserir(49)\n",
    "arvore.inserir(72)\n",
    "arvore.inserir(61)\n",
    "arvore.inserir(84)\n",
    "arvore.inserir(79)"
   ]
  },
  {
   "cell_type": "code",
   "execution_count": 25,
   "id": "1f43fd64",
   "metadata": {},
   "outputs": [
    {
     "data": {
      "text/plain": [
       "30"
      ]
     },
     "execution_count": 25,
     "metadata": {},
     "output_type": "execute_result"
    }
   ],
   "source": [
    "arvore.raiz.esquerda.valor"
   ]
  },
  {
   "cell_type": "code",
   "execution_count": 26,
   "id": "612f5474",
   "metadata": {},
   "outputs": [
    {
     "data": {
      "text/plain": [
       "72"
      ]
     },
     "execution_count": 26,
     "metadata": {},
     "output_type": "execute_result"
    }
   ],
   "source": [
    "arvore.raiz.direita.valor"
   ]
  },
  {
   "cell_type": "code",
   "execution_count": 36,
   "id": "5c884bc4",
   "metadata": {},
   "outputs": [
    {
     "data": {
      "text/plain": [
       "['53->30',\n",
       " '30->14',\n",
       " '30->39',\n",
       " '14->9',\n",
       " '14->23',\n",
       " '39->34',\n",
       " '39->49',\n",
       " '53->72',\n",
       " '72->61',\n",
       " '72->84',\n",
       " '84->79']"
      ]
     },
     "execution_count": 36,
     "metadata": {},
     "output_type": "execute_result"
    }
   ],
   "source": [
    "arvore.ligacoes"
   ]
  },
  {
   "cell_type": "markdown",
   "id": "c7f34c06",
   "metadata": {},
   "source": [
    "### Pesquisar"
   ]
  },
  {
   "cell_type": "code",
   "execution_count": 28,
   "id": "55bbc31c",
   "metadata": {},
   "outputs": [
    {
     "data": {
      "text/plain": [
       "<__main__.No at 0x22f395a7af0>"
      ]
     },
     "execution_count": 28,
     "metadata": {},
     "output_type": "execute_result"
    }
   ],
   "source": [
    "arvore.pesquisar(39)"
   ]
  },
  {
   "cell_type": "code",
   "execution_count": 29,
   "id": "224c8d22",
   "metadata": {},
   "outputs": [
    {
     "data": {
      "text/plain": [
       "<__main__.No at 0x22f395a7160>"
      ]
     },
     "execution_count": 29,
     "metadata": {},
     "output_type": "execute_result"
    }
   ],
   "source": [
    "arvore.pesquisar(84)"
   ]
  },
  {
   "cell_type": "code",
   "execution_count": 30,
   "id": "c450b12f",
   "metadata": {},
   "outputs": [
    {
     "name": "stdout",
     "output_type": "stream",
     "text": [
      "Elemento não localizado\n"
     ]
    }
   ],
   "source": [
    "if arvore.pesquisar(100) == None:\n",
    "    print('Elemento não localizado')"
   ]
  },
  {
   "cell_type": "markdown",
   "id": "097e2da7",
   "metadata": {},
   "source": [
    "### Travessia"
   ]
  },
  {
   "cell_type": "code",
   "execution_count": 31,
   "id": "2b99ace0",
   "metadata": {},
   "outputs": [
    {
     "name": "stdout",
     "output_type": "stream",
     "text": [
      "53\n",
      "30\n",
      "14\n",
      "9\n",
      "23\n",
      "39\n",
      "34\n",
      "49\n",
      "72\n",
      "61\n",
      "84\n",
      "79\n"
     ]
    }
   ],
   "source": [
    "arvore.pre_ordem(arvore.raiz)"
   ]
  },
  {
   "cell_type": "code",
   "execution_count": 32,
   "id": "26424eee",
   "metadata": {},
   "outputs": [
    {
     "name": "stdout",
     "output_type": "stream",
     "text": [
      "9\n",
      "14\n",
      "23\n",
      "30\n",
      "34\n",
      "39\n",
      "49\n",
      "53\n",
      "61\n",
      "72\n",
      "79\n",
      "84\n"
     ]
    }
   ],
   "source": [
    "arvore.em_ordem(arvore.raiz)"
   ]
  },
  {
   "cell_type": "code",
   "execution_count": 33,
   "id": "59a8b669",
   "metadata": {},
   "outputs": [
    {
     "name": "stdout",
     "output_type": "stream",
     "text": [
      "9\n",
      "23\n",
      "14\n",
      "34\n",
      "49\n",
      "39\n",
      "30\n",
      "61\n",
      "79\n",
      "84\n",
      "72\n",
      "53\n"
     ]
    }
   ],
   "source": [
    "arvore.pos_ordem(arvore.raiz)"
   ]
  },
  {
   "cell_type": "code",
   "execution_count": 37,
   "id": "b47e1654",
   "metadata": {},
   "outputs": [],
   "source": [
    "arvore.ligacoes.remove('14->9')"
   ]
  },
  {
   "cell_type": "code",
   "execution_count": 38,
   "id": "8f4087b8",
   "metadata": {},
   "outputs": [
    {
     "data": {
      "text/plain": [
       "['53->30',\n",
       " '30->14',\n",
       " '30->39',\n",
       " '14->23',\n",
       " '39->34',\n",
       " '39->49',\n",
       " '53->72',\n",
       " '72->61',\n",
       " '72->84',\n",
       " '84->79']"
      ]
     },
     "execution_count": 38,
     "metadata": {},
     "output_type": "execute_result"
    }
   ],
   "source": [
    "arvore.ligacoes"
   ]
  },
  {
   "cell_type": "markdown",
   "id": "eb86df3b",
   "metadata": {},
   "source": [
    "### Excluir"
   ]
  },
  {
   "cell_type": "code",
   "execution_count": 50,
   "id": "f5200992",
   "metadata": {},
   "outputs": [],
   "source": [
    "arvore.excluir(9)"
   ]
  },
  {
   "cell_type": "code",
   "execution_count": 51,
   "id": "177bdc6c",
   "metadata": {},
   "outputs": [
    {
     "data": {
      "text/plain": [
       "['53->30',\n",
       " '30->14',\n",
       " '30->39',\n",
       " '14->23',\n",
       " '39->34',\n",
       " '39->49',\n",
       " '53->72',\n",
       " '72->61',\n",
       " '72->84',\n",
       " '84->79']"
      ]
     },
     "execution_count": 51,
     "metadata": {},
     "output_type": "execute_result"
    }
   ],
   "source": [
    "arvore.ligacoes"
   ]
  },
  {
   "cell_type": "code",
   "execution_count": 52,
   "id": "ac5512a1",
   "metadata": {},
   "outputs": [
    {
     "data": {
      "text/plain": [
       "['53->30',\n",
       " '30->14',\n",
       " '30->39',\n",
       " '14->23',\n",
       " '39->34',\n",
       " '39->49',\n",
       " '53->72',\n",
       " '72->61',\n",
       " '72->84']"
      ]
     },
     "execution_count": 52,
     "metadata": {},
     "output_type": "execute_result"
    }
   ],
   "source": [
    "arvore.excluir(79)\n",
    "arvore.ligacoes"
   ]
  },
  {
   "cell_type": "code",
   "execution_count": 53,
   "id": "5bcb7b8f",
   "metadata": {},
   "outputs": [
    {
     "data": {
      "text/plain": [
       "False"
      ]
     },
     "execution_count": 53,
     "metadata": {},
     "output_type": "execute_result"
    }
   ],
   "source": [
    "arvore.excluir(100)"
   ]
  },
  {
   "cell_type": "code",
   "execution_count": 5,
   "id": "32ab4bd7",
   "metadata": {},
   "outputs": [],
   "source": [
    "arvore.excluir(84)"
   ]
  },
  {
   "cell_type": "code",
   "execution_count": 6,
   "id": "aa6e1f5f",
   "metadata": {},
   "outputs": [
    {
     "data": {
      "text/plain": [
       "['53->30',\n",
       " '30->14',\n",
       " '30->39',\n",
       " '14->9',\n",
       " '14->23',\n",
       " '39->34',\n",
       " '39->49',\n",
       " '53->72',\n",
       " '72->61',\n",
       " '72->79']"
      ]
     },
     "execution_count": 6,
     "metadata": {},
     "output_type": "execute_result"
    }
   ],
   "source": [
    "arvore.ligacoes"
   ]
  },
  {
   "cell_type": "code",
   "execution_count": 7,
   "id": "86c60401",
   "metadata": {},
   "outputs": [
    {
     "data": {
      "text/plain": [
       "['53->30',\n",
       " '30->14',\n",
       " '30->39',\n",
       " '14->23',\n",
       " '39->34',\n",
       " '39->49',\n",
       " '53->72',\n",
       " '72->61',\n",
       " '72->79']"
      ]
     },
     "execution_count": 7,
     "metadata": {},
     "output_type": "execute_result"
    }
   ],
   "source": [
    "arvore.excluir(9)\n",
    "arvore.ligacoes"
   ]
  },
  {
   "cell_type": "code",
   "execution_count": 8,
   "id": "83674439",
   "metadata": {},
   "outputs": [
    {
     "data": {
      "text/plain": [
       "['53->30',\n",
       " '30->39',\n",
       " '39->34',\n",
       " '39->49',\n",
       " '53->72',\n",
       " '72->61',\n",
       " '72->79',\n",
       " '30->23']"
      ]
     },
     "execution_count": 8,
     "metadata": {},
     "output_type": "execute_result"
    }
   ],
   "source": [
    "arvore.excluir(14)\n",
    "arvore.ligacoes"
   ]
  },
  {
   "cell_type": "code",
   "execution_count": 10,
   "id": "d10353f7",
   "metadata": {},
   "outputs": [
    {
     "data": {
      "text/plain": [
       "['53->30',\n",
       " '30->14',\n",
       " '30->39',\n",
       " '14->9',\n",
       " '14->23',\n",
       " '39->34',\n",
       " '39->49',\n",
       " '53->79',\n",
       " '79->61',\n",
       " '79->84']"
      ]
     },
     "execution_count": 10,
     "metadata": {},
     "output_type": "execute_result"
    }
   ],
   "source": [
    "arvore.excluir(72)\n",
    "arvore.ligacoes"
   ]
  },
  {
   "cell_type": "code",
   "execution_count": 11,
   "id": "ab484c38",
   "metadata": {},
   "outputs": [
    {
     "data": {
      "text/plain": [
       "['14->9',\n",
       " '14->23',\n",
       " '39->49',\n",
       " '53->79',\n",
       " '79->61',\n",
       " '79->84',\n",
       " '53->34',\n",
       " '34->14',\n",
       " '34->39']"
      ]
     },
     "execution_count": 11,
     "metadata": {},
     "output_type": "execute_result"
    }
   ],
   "source": [
    "arvore.excluir(30)\n",
    "arvore.ligacoes"
   ]
  },
  {
   "cell_type": "markdown",
   "id": "b99f0bbb",
   "metadata": {},
   "source": [
    "### Sucessor"
   ]
  },
  {
   "cell_type": "code",
   "execution_count": 7,
   "id": "17346834",
   "metadata": {},
   "outputs": [
    {
     "data": {
      "text/plain": [
       "61"
      ]
     },
     "execution_count": 7,
     "metadata": {},
     "output_type": "execute_result"
    }
   ],
   "source": [
    "arvore.get_sucessor(arvore.raiz).valor"
   ]
  }
 ],
 "metadata": {
  "kernelspec": {
   "display_name": "Python 3 (ipykernel)",
   "language": "python",
   "name": "python3"
  },
  "language_info": {
   "codemirror_mode": {
    "name": "ipython",
    "version": 3
   },
   "file_extension": ".py",
   "mimetype": "text/x-python",
   "name": "python",
   "nbconvert_exporter": "python",
   "pygments_lexer": "ipython3",
   "version": "3.8.16"
  }
 },
 "nbformat": 4,
 "nbformat_minor": 5
}
