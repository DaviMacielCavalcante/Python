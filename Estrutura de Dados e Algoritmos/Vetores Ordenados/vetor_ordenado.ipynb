{
 "cells": [
  {
   "cell_type": "code",
   "execution_count": 1,
   "id": "60af92c7",
   "metadata": {},
   "outputs": [],
   "source": [
    "import numpy as np"
   ]
  },
  {
   "cell_type": "code",
   "execution_count": 2,
   "id": "cb4f712c",
   "metadata": {},
   "outputs": [],
   "source": [
    "class VetorOrdenado:\n",
    "    def __init__(self, capacidade):\n",
    "        self.capacidade = capacidade\n",
    "        self.ultima_posicao = -1\n",
    "        self.valores = np.empty(self.capacidade, dtype = int)\n",
    "        \n",
    "    # O(n)\n",
    "    def imprime(self):\n",
    "        if self.ultima_posicao == -1:\n",
    "            print('O vetor está vazio')\n",
    "        else:\n",
    "            for i in range(self.ultima_posicao + 1):\n",
    "                print(i, ' - ', self.valores[i])\n",
    "    # O (n)\n",
    "    def insere(self, valor):\n",
    "        if self.ultima_posicao == self.capacidade - 1:\n",
    "            print('Capacidade máxima atingida')\n",
    "            return\n",
    "        \n",
    "        posicao = 0\n",
    "        for i in range(self.ultima_posicao + 1):\n",
    "            posicao = i\n",
    "            if self.valores[i] > valor:\n",
    "                break\n",
    "            if i == self.ultima_posicao:\n",
    "                posicao = i + 1\n",
    "        \n",
    "        x = self.ultima_posicao\n",
    "        while x >= posicao:\n",
    "            self.valores[x + 1] = self.valores[x]\n",
    "            x -= 1\n",
    "            \n",
    "        self.valores[posicao] = valor\n",
    "        self.ultima_posicao += 1\n",
    "    \n",
    "    # O(n)\n",
    "    def pesquisa(self, valor):\n",
    "        for i in range(self.ultima_posicao + 1):\n",
    "            if self.valores[i] > valor:\n",
    "                return -1\n",
    "            if self.valores[i] == valor:\n",
    "                return i\n",
    "            if i == self.ultima_posicao:\n",
    "                return -1\n",
    "    \n",
    "    # O(log n)\n",
    "    def pesquisa_binaria(self, valor):\n",
    "        limite_inferior = 0\n",
    "        limite_superior = self.ultima_posicao\n",
    "        \n",
    "        while True:\n",
    "            posicao_atual = int((limite_inferior + limite_superior) / 2)\n",
    "            # Se achou na primeira tentativa\n",
    "            if self.valores[posicao_atual] == valor:\n",
    "                return posicao_atual\n",
    "            # Se não achou\n",
    "            elif limite_inferior > limite_superior:\n",
    "                return -1\n",
    "            # Divide os limites\n",
    "            else:\n",
    "                # Limite inferior\n",
    "                if self.valores[posicao_atual] < valor:\n",
    "                    limite_inferior = posicao_atual + 1\n",
    "                # Limite superior\n",
    "                else:\n",
    "                    limite_superior = posicao_atual - 1\n",
    "                    \n",
    "    # O(n)\n",
    "    def excluir(self, valor):\n",
    "        posicao = self.pesquisa(valor)\n",
    "        if posicao == -1:\n",
    "            return -1\n",
    "        else:\n",
    "            for i in range(posicao, self.ultima_posicao):\n",
    "                self.valores[i] = self.valores[i + 1]\n",
    "            \n",
    "            self.ultima_posicao -= 1"
   ]
  },
  {
   "cell_type": "code",
   "execution_count": 3,
   "id": "f2dc48a9",
   "metadata": {},
   "outputs": [
    {
     "name": "stdout",
     "output_type": "stream",
     "text": [
      "O vetor está vazio\n"
     ]
    }
   ],
   "source": [
    "vetor = VetorOrdenado(10)\n",
    "vetor.imprime()"
   ]
  },
  {
   "cell_type": "code",
   "execution_count": 4,
   "id": "6a088926",
   "metadata": {},
   "outputs": [
    {
     "name": "stdout",
     "output_type": "stream",
     "text": [
      "0  -  6\n"
     ]
    }
   ],
   "source": [
    "vetor.insere(6)\n",
    "vetor.imprime()"
   ]
  },
  {
   "cell_type": "code",
   "execution_count": 5,
   "id": "2d30501a",
   "metadata": {},
   "outputs": [
    {
     "name": "stdout",
     "output_type": "stream",
     "text": [
      "0  -  4\n",
      "1  -  6\n"
     ]
    }
   ],
   "source": [
    "vetor.insere(4)\n",
    "vetor.imprime()"
   ]
  },
  {
   "cell_type": "code",
   "execution_count": 6,
   "id": "c1ac7e3f",
   "metadata": {},
   "outputs": [
    {
     "name": "stdout",
     "output_type": "stream",
     "text": [
      "0  -  3\n",
      "1  -  4\n",
      "2  -  6\n"
     ]
    }
   ],
   "source": [
    "vetor.insere(3)\n",
    "vetor.imprime()"
   ]
  },
  {
   "cell_type": "code",
   "execution_count": 7,
   "id": "81043a13",
   "metadata": {},
   "outputs": [
    {
     "name": "stdout",
     "output_type": "stream",
     "text": [
      "0  -  3\n",
      "1  -  4\n",
      "2  -  5\n",
      "3  -  6\n"
     ]
    }
   ],
   "source": [
    "vetor.insere(5)\n",
    "vetor.imprime()"
   ]
  },
  {
   "cell_type": "code",
   "execution_count": 8,
   "id": "23d2e59d",
   "metadata": {},
   "outputs": [
    {
     "name": "stdout",
     "output_type": "stream",
     "text": [
      "0  -  1\n",
      "1  -  3\n",
      "2  -  4\n",
      "3  -  5\n",
      "4  -  6\n"
     ]
    }
   ],
   "source": [
    "vetor.insere(1)\n",
    "vetor.imprime()"
   ]
  },
  {
   "cell_type": "code",
   "execution_count": 9,
   "id": "d6000ecd",
   "metadata": {},
   "outputs": [
    {
     "name": "stdout",
     "output_type": "stream",
     "text": [
      "0  -  1\n",
      "1  -  3\n",
      "2  -  4\n",
      "3  -  5\n",
      "4  -  6\n",
      "5  -  8\n"
     ]
    }
   ],
   "source": [
    "vetor.insere(8)\n",
    "vetor.imprime()"
   ]
  },
  {
   "cell_type": "code",
   "execution_count": 12,
   "id": "7cefd80f",
   "metadata": {},
   "outputs": [
    {
     "data": {
      "text/plain": [
       "3"
      ]
     },
     "execution_count": 12,
     "metadata": {},
     "output_type": "execute_result"
    }
   ],
   "source": [
    "vetor.pesquisa(5)"
   ]
  },
  {
   "cell_type": "code",
   "execution_count": 13,
   "id": "8a185432",
   "metadata": {},
   "outputs": [
    {
     "data": {
      "text/plain": [
       "5"
      ]
     },
     "execution_count": 13,
     "metadata": {},
     "output_type": "execute_result"
    }
   ],
   "source": [
    "vetor.pesquisa(8)"
   ]
  },
  {
   "cell_type": "code",
   "execution_count": 14,
   "id": "62800547",
   "metadata": {},
   "outputs": [
    {
     "data": {
      "text/plain": [
       "-1"
      ]
     },
     "execution_count": 14,
     "metadata": {},
     "output_type": "execute_result"
    }
   ],
   "source": [
    "vetor.pesquisa(2)"
   ]
  },
  {
   "cell_type": "code",
   "execution_count": 15,
   "id": "e5f625f6",
   "metadata": {},
   "outputs": [
    {
     "data": {
      "text/plain": [
       "-1"
      ]
     },
     "execution_count": 15,
     "metadata": {},
     "output_type": "execute_result"
    }
   ],
   "source": [
    "vetor.pesquisa(9)"
   ]
  },
  {
   "cell_type": "code",
   "execution_count": 16,
   "id": "2ba90a12",
   "metadata": {},
   "outputs": [
    {
     "name": "stdout",
     "output_type": "stream",
     "text": [
      "0  -  1\n",
      "1  -  3\n",
      "2  -  4\n",
      "3  -  5\n",
      "4  -  6\n",
      "5  -  8\n"
     ]
    }
   ],
   "source": [
    "vetor.imprime()"
   ]
  },
  {
   "cell_type": "code",
   "execution_count": 17,
   "id": "44c29d71",
   "metadata": {},
   "outputs": [
    {
     "name": "stdout",
     "output_type": "stream",
     "text": [
      "0  -  1\n",
      "1  -  3\n",
      "2  -  4\n",
      "3  -  6\n",
      "4  -  8\n"
     ]
    }
   ],
   "source": [
    "vetor.excluir(5)\n",
    "vetor.imprime()"
   ]
  },
  {
   "cell_type": "code",
   "execution_count": 18,
   "id": "7da5eac0",
   "metadata": {},
   "outputs": [
    {
     "name": "stdout",
     "output_type": "stream",
     "text": [
      "0  -  3\n",
      "1  -  4\n",
      "2  -  6\n",
      "3  -  8\n"
     ]
    }
   ],
   "source": [
    "vetor.excluir(1)\n",
    "vetor.imprime()"
   ]
  },
  {
   "cell_type": "code",
   "execution_count": 19,
   "id": "47adc09d",
   "metadata": {},
   "outputs": [
    {
     "name": "stdout",
     "output_type": "stream",
     "text": [
      "0  -  3\n",
      "1  -  4\n",
      "2  -  6\n"
     ]
    }
   ],
   "source": [
    "vetor.excluir(8)\n",
    "vetor.imprime()"
   ]
  },
  {
   "cell_type": "code",
   "execution_count": 20,
   "id": "69ee3cb0",
   "metadata": {},
   "outputs": [
    {
     "data": {
      "text/plain": [
       "-1"
      ]
     },
     "execution_count": 20,
     "metadata": {},
     "output_type": "execute_result"
    }
   ],
   "source": [
    "vetor.excluir(5)"
   ]
  },
  {
   "cell_type": "code",
   "execution_count": 21,
   "id": "e4767b31",
   "metadata": {},
   "outputs": [
    {
     "name": "stdout",
     "output_type": "stream",
     "text": [
      "0  -  1\n",
      "1  -  2\n",
      "2  -  4\n",
      "3  -  5\n",
      "4  -  7\n",
      "5  -  8\n",
      "6  -  9\n",
      "7  -  11\n",
      "8  -  13\n"
     ]
    }
   ],
   "source": [
    "vetor = VetorOrdenado(10)\n",
    "vetor.insere(8)\n",
    "vetor.insere(9)\n",
    "vetor.insere(4)\n",
    "vetor.insere(1)\n",
    "vetor.insere(5)\n",
    "vetor.insere(7)\n",
    "vetor.insere(11)\n",
    "vetor.insere(13)\n",
    "vetor.insere(2)\n",
    "vetor.imprime()"
   ]
  },
  {
   "cell_type": "code",
   "execution_count": 22,
   "id": "c1c6c80a",
   "metadata": {},
   "outputs": [
    {
     "data": {
      "text/plain": [
       "4"
      ]
     },
     "execution_count": 22,
     "metadata": {},
     "output_type": "execute_result"
    }
   ],
   "source": [
    "vetor.pesquisa_binaria(7)"
   ]
  },
  {
   "cell_type": "code",
   "execution_count": 23,
   "id": "3ca4c667",
   "metadata": {},
   "outputs": [
    {
     "data": {
      "text/plain": [
       "3"
      ]
     },
     "execution_count": 23,
     "metadata": {},
     "output_type": "execute_result"
    }
   ],
   "source": [
    "vetor.pesquisa_binaria(5)"
   ]
  },
  {
   "cell_type": "code",
   "execution_count": 24,
   "id": "c7f58c1c",
   "metadata": {},
   "outputs": [
    {
     "data": {
      "text/plain": [
       "8"
      ]
     },
     "execution_count": 24,
     "metadata": {},
     "output_type": "execute_result"
    }
   ],
   "source": [
    "vetor.pesquisa_binaria(13)"
   ]
  },
  {
   "cell_type": "code",
   "execution_count": 25,
   "id": "4368d2ac",
   "metadata": {},
   "outputs": [
    {
     "data": {
      "text/plain": [
       "-1"
      ]
     },
     "execution_count": 25,
     "metadata": {},
     "output_type": "execute_result"
    }
   ],
   "source": [
    "vetor.pesquisa_binaria(20)"
   ]
  },
  {
   "cell_type": "code",
   "execution_count": null,
   "id": "db0841b1",
   "metadata": {},
   "outputs": [],
   "source": []
  }
 ],
 "metadata": {
  "kernelspec": {
   "display_name": "Python 3 (ipykernel)",
   "language": "python",
   "name": "python3"
  },
  "language_info": {
   "codemirror_mode": {
    "name": "ipython",
    "version": 3
   },
   "file_extension": ".py",
   "mimetype": "text/x-python",
   "name": "python",
   "nbconvert_exporter": "python",
   "pygments_lexer": "ipython3",
   "version": "3.8.16"
  }
 },
 "nbformat": 4,
 "nbformat_minor": 5
}
