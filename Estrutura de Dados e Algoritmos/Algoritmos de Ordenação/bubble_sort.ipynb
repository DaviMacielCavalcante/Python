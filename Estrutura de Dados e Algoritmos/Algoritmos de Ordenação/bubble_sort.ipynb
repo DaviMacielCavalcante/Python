{
 "cells": [
  {
   "cell_type": "code",
   "execution_count": 1,
   "id": "4f3cf8ce",
   "metadata": {},
   "outputs": [],
   "source": [
    "import numpy as np"
   ]
  },
  {
   "cell_type": "code",
   "execution_count": 2,
   "id": "7cd01935",
   "metadata": {},
   "outputs": [],
   "source": [
    "def bubble_sort(vetor):\n",
    "    n = len(vetor)\n",
    "    \n",
    "    for i in range(n):\n",
    "        for j in range(0, n - i - 1):\n",
    "            if vetor[j] > vetor[j + 1]:\n",
    "                temp = vetor[j]\n",
    "                vetor[j] = vetor[j + 1]\n",
    "                vetor[j + 1] = temp\n",
    "    \n",
    "    return vetor"
   ]
  },
  {
   "cell_type": "code",
   "execution_count": 3,
   "id": "3f7ca01c",
   "metadata": {},
   "outputs": [
    {
     "data": {
      "text/plain": [
       "array([ 3,  8, 15, 34])"
      ]
     },
     "execution_count": 3,
     "metadata": {},
     "output_type": "execute_result"
    }
   ],
   "source": [
    "bubble_sort(np.array([15, 34, 8, 3]))"
   ]
  },
  {
   "cell_type": "code",
   "execution_count": 4,
   "id": "11a5d25c",
   "metadata": {},
   "outputs": [
    {
     "data": {
      "text/plain": [
       "array([ 1,  2,  3,  4,  5,  6,  7,  8,  9, 10])"
      ]
     },
     "execution_count": 4,
     "metadata": {},
     "output_type": "execute_result"
    }
   ],
   "source": [
    "bubble_sort(np.array([10, 9, 8, 7, 6, 5, 4, 3, 2, 1]))"
   ]
  },
  {
   "cell_type": "code",
   "execution_count": null,
   "id": "04c35d15",
   "metadata": {},
   "outputs": [],
   "source": []
  }
 ],
 "metadata": {
  "kernelspec": {
   "display_name": "Python 3 (ipykernel)",
   "language": "python",
   "name": "python3"
  },
  "language_info": {
   "codemirror_mode": {
    "name": "ipython",
    "version": 3
   },
   "file_extension": ".py",
   "mimetype": "text/x-python",
   "name": "python",
   "nbconvert_exporter": "python",
   "pygments_lexer": "ipython3",
   "version": "3.8.16"
  }
 },
 "nbformat": 4,
 "nbformat_minor": 5
}
