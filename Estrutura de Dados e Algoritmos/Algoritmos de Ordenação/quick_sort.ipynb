{
 "cells": [
  {
   "cell_type": "code",
   "execution_count": 1,
   "id": "bdd213f8",
   "metadata": {},
   "outputs": [],
   "source": [
    "import numpy as np"
   ]
  },
  {
   "cell_type": "code",
   "execution_count": 4,
   "id": "b4f084da",
   "metadata": {},
   "outputs": [],
   "source": [
    "def particao(vetor, inicio, final):\n",
    "    pivo = vetor[final]\n",
    "    i = inicio - 1\n",
    "    \n",
    "    for j in range(inicio, final):\n",
    "        if vetor[j] <= pivo:\n",
    "            i += 1\n",
    "            vetor[i], vetor[j] = vetor[j], vetor[i]\n",
    "    \n",
    "    vetor[i + 1], vetor[final] = vetor[final], vetor[i + 1]\n",
    "    return i + 1\n",
    "\n",
    "def quick_sort(vertor, inicio, final):\n",
    "    if inicio < final:\n",
    "        posicao = particao(vetor, inicio, final)\n",
    "        #Esquerda\n",
    "        quick_sort(vetor, inicio, posicao - 1)\n",
    "        #Direita\n",
    "        quick_sort(vetor, posicao + 1, final)\n",
    "    return vetor"
   ]
  },
  {
   "cell_type": "code",
   "execution_count": 5,
   "id": "3a1bc8d9",
   "metadata": {},
   "outputs": [
    {
     "data": {
      "text/plain": [
       "array([ 3,  8, 15, 34])"
      ]
     },
     "execution_count": 5,
     "metadata": {},
     "output_type": "execute_result"
    }
   ],
   "source": [
    "vetor = np.array([15, 34, 8, 3])\n",
    "quick_sort(vetor, 0, len(vetor) - 1)"
   ]
  },
  {
   "cell_type": "code",
   "execution_count": 6,
   "id": "0bb7f6ce",
   "metadata": {},
   "outputs": [
    {
     "data": {
      "text/plain": [
       "array([ 1,  2,  3,  4,  5,  6,  7,  8,  9, 10])"
      ]
     },
     "execution_count": 6,
     "metadata": {},
     "output_type": "execute_result"
    }
   ],
   "source": [
    "vetor = np.array([10, 9, 8, 7, 6, 5, 4, 3, 2, 1])\n",
    "quick_sort(vetor, 0, len(vetor) - 1)"
   ]
  },
  {
   "cell_type": "code",
   "execution_count": null,
   "id": "80bcc003",
   "metadata": {},
   "outputs": [],
   "source": []
  }
 ],
 "metadata": {
  "kernelspec": {
   "display_name": "Python 3 (ipykernel)",
   "language": "python",
   "name": "python3"
  },
  "language_info": {
   "codemirror_mode": {
    "name": "ipython",
    "version": 3
   },
   "file_extension": ".py",
   "mimetype": "text/x-python",
   "name": "python",
   "nbconvert_exporter": "python",
   "pygments_lexer": "ipython3",
   "version": "3.8.16"
  }
 },
 "nbformat": 4,
 "nbformat_minor": 5
}
