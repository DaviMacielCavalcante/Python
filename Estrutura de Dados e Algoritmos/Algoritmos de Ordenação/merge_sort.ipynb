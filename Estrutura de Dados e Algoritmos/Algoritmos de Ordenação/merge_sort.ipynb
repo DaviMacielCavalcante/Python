{
 "cells": [
  {
   "cell_type": "code",
   "execution_count": 1,
   "id": "f7b0b1d9",
   "metadata": {},
   "outputs": [],
   "source": [
    "import numpy as np"
   ]
  },
  {
   "cell_type": "code",
   "execution_count": 4,
   "id": "cc8c3be7",
   "metadata": {},
   "outputs": [],
   "source": [
    "def merge_sort(vetor):\n",
    "    if len(vetor) > 1:\n",
    "        divisao = len(vetor) // 2\n",
    "        esquerda = vetor[:divisao].copy()\n",
    "        direita = vetor[divisao:].copy()\n",
    "        \n",
    "        merge_sort(esquerda)\n",
    "        merge_sort(direita)\n",
    "        \n",
    "        i = j = k = 0\n",
    "        \n",
    "        # Ordena esquerda e direita\n",
    "        while i < len(esquerda) and j < len(direita):\n",
    "            if esquerda[i] < direita[j]:\n",
    "                vetor[k] = esquerda[i]\n",
    "                i += 1\n",
    "            else:\n",
    "                vetor[k] = direita[j]\n",
    "                j += 1\n",
    "            k += 1\n",
    "            \n",
    "        # Ordenação final\n",
    "        while i < len(esquerda):\n",
    "            vetor[k] = esquerda[i]\n",
    "            i += 1\n",
    "            k += 1\n",
    "        while j < len(direita):\n",
    "            vetor[k] = direita[j]\n",
    "            j += 1\n",
    "            k += 1\n",
    "    return vetor"
   ]
  },
  {
   "cell_type": "code",
   "execution_count": 5,
   "id": "137d2d8e",
   "metadata": {},
   "outputs": [
    {
     "data": {
      "text/plain": [
       "array([ 3,  8, 15, 34])"
      ]
     },
     "execution_count": 5,
     "metadata": {},
     "output_type": "execute_result"
    }
   ],
   "source": [
    "merge_sort(np.array([15, 34, 8, 3]))"
   ]
  },
  {
   "cell_type": "code",
   "execution_count": 6,
   "id": "d06a475a",
   "metadata": {},
   "outputs": [
    {
     "data": {
      "text/plain": [
       "array([ 1,  2,  3,  4,  5,  6,  7,  8,  9, 10])"
      ]
     },
     "execution_count": 6,
     "metadata": {},
     "output_type": "execute_result"
    }
   ],
   "source": [
    "merge_sort(np.array([10, 9, 8, 7, 6, 5, 4, 3, 2, 1]))"
   ]
  },
  {
   "cell_type": "code",
   "execution_count": 7,
   "id": "3c05b08b",
   "metadata": {},
   "outputs": [
    {
     "data": {
      "text/plain": [
       "array([ 9, 10, 27, 38, 43, 82])"
      ]
     },
     "execution_count": 7,
     "metadata": {},
     "output_type": "execute_result"
    }
   ],
   "source": [
    "merge_sort(np.array([38, 27, 43, 9, 82, 10]))"
   ]
  },
  {
   "cell_type": "code",
   "execution_count": null,
   "id": "aa4dba4b",
   "metadata": {},
   "outputs": [],
   "source": []
  }
 ],
 "metadata": {
  "kernelspec": {
   "display_name": "Python 3 (ipykernel)",
   "language": "python",
   "name": "python3"
  },
  "language_info": {
   "codemirror_mode": {
    "name": "ipython",
    "version": 3
   },
   "file_extension": ".py",
   "mimetype": "text/x-python",
   "name": "python",
   "nbconvert_exporter": "python",
   "pygments_lexer": "ipython3",
   "version": "3.8.16"
  }
 },
 "nbformat": 4,
 "nbformat_minor": 5
}
